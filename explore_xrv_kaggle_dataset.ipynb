{
 "cells": [
  {
   "cell_type": "code",
   "execution_count": 1,
   "metadata": {},
   "outputs": [
    {
     "name": "stdout",
     "output_type": "stream",
     "text": [
      "1.4.0\n",
      "0.5.0\n"
     ]
    }
   ],
   "source": [
    "import torch\n",
    "print(torch.__version__)\n",
    "import torchvision\n",
    "print(torchvision.__version__)\n",
    "import torchxrayvision as xrv\n",
    "import os\n",
    "import numpy as np\n",
    "import matplotlib.pyplot as plt\n",
    "import commentjson"
   ]
  },
  {
   "cell_type": "code",
   "execution_count": 2,
   "metadata": {},
   "outputs": [],
   "source": [
    "class MyNormalizingTransform:\n",
    "    \"\"\"Normalize tensor. part of datasets object.\"\"\"\n",
    "    def __init__(self, imsize):\n",
    "        self.imsize = imsize\n",
    "\n",
    "    def __call__(self, x):\n",
    "        '''x comes in for some reason in shape (self.imsize[0],1,self.imsize[0])'''\n",
    "        xtens = x.contiguous().squeeze(1).T.unsqueeze(0) # first get rid of 1, then transpose, than add 1 first dim.\n",
    "        expanded = xtens.expand(3, self.imsize[0], self.imsize[1])\n",
    "        means = expanded.contiguous().view(3, -1).mean(dim=1)\n",
    "        stds = expanded.contiguous().view(3, -1).std(dim=1)\n",
    "        #normalized = torchvision.transforms.functional.normalize(expanded, mean = [0,0,0], std = [512,512,512])\n",
    "        normalized = torchvision.transforms.functional.normalize(\n",
    "           expanded, mean=means.detach().numpy(), std=stds.detach().numpy())\n",
    "        return normalized[0, :, :].unsqueeze(0)#.view(1, self.imsize[0], self.imsize[1])"
   ]
  },
  {
   "cell_type": "code",
   "execution_count": 3,
   "metadata": {},
   "outputs": [
    {
     "data": {
      "text/plain": [
       "['Atelectasis',\n",
       " 'Consolidation',\n",
       " 'Infiltration',\n",
       " 'Pneumothorax',\n",
       " 'Edema',\n",
       " 'Emphysema',\n",
       " 'Fibrosis',\n",
       " 'Effusion',\n",
       " 'Pneumonia',\n",
       " 'Pleural_Thickening',\n",
       " 'Cardiomegaly',\n",
       " 'Nodule',\n",
       " 'Mass',\n",
       " 'Hernia',\n",
       " 'Lung Lesion',\n",
       " 'Fracture',\n",
       " 'Lung Opacity',\n",
       " 'Enlarged Cardiomediastinum']"
      ]
     },
     "execution_count": 3,
     "metadata": {},
     "output_type": "execute_result"
    }
   ],
   "source": [
    "xrv.datasets.default_pathologies "
   ]
  },
  {
   "cell_type": "code",
   "execution_count": 4,
   "metadata": {},
   "outputs": [
    {
     "name": "stderr",
     "output_type": "stream",
     "text": [
      "/anaconda3/envs/pytorch_env/lib/python3.6/site-packages/torch/serialization.py:593: SourceChangeWarning: source code of class 'torchxrayvision.models.DenseNet' has changed. you can retrieve the original source code by accessing the object's source attribute or set `torch.nn.Module.dump_patches = True` and use the patch tool to revert the changes.\n",
      "  warnings.warn(msg, SourceChangeWarning)\n"
     ]
    }
   ],
   "source": [
    "model = xrv.models.DenseNet(weights=\"all\") "
   ]
  },
  {
   "cell_type": "code",
   "execution_count": 5,
   "metadata": {},
   "outputs": [],
   "source": [
    "# # works fine!\n",
    "# transform = torchvision.transforms.Compose(\n",
    "#     [xrv.datasets.XRayCenterCrop(),\n",
    "#      xrv.datasets.XRayResizer(64),\n",
    "#      torchvision.transforms.ToTensor(),\n",
    "#     MyNormalizingTransform(imsize = [64,64])]) # should be 224. shrink just for test ma\n",
    "\n",
    "transform = torchvision.transforms.Compose(\n",
    "    [xrv.datasets.XRayCenterCrop(),\n",
    "     xrv.datasets.XRayResizer(64)]) # should be 224. shrink just for test ma\n",
    "\n",
    "\n",
    "d_kaggle = xrv.datasets.Kaggle_Dataset(\n",
    "    imgpath=os.path.join(os.getcwd(), 'data', 'kaggle-pneumonia-jpg',\n",
    "                         'stage_2_train_images_jpg'),\n",
    "    csvpath=os.path.join(os.getcwd(), 'data', 'kaggle-pneumonia-jpg',\n",
    "                         'stage_2_train_labels.csv'),\n",
    "    transform=transform)"
   ]
  },
  {
   "cell_type": "code",
   "execution_count": 6,
   "metadata": {},
   "outputs": [
    {
     "name": "stdout",
     "output_type": "stream",
     "text": [
      "{'Lung Opacity': {0.0: 20672, 1.0: 9555}, 'Pneumonia': {0.0: 20672, 1.0: 9555}}\n",
      "Kaggle_Dataset num_samples=30227\n"
     ]
    }
   ],
   "source": [
    "print(d_kaggle)"
   ]
  },
  {
   "cell_type": "code",
   "execution_count": 7,
   "metadata": {},
   "outputs": [
    {
     "name": "stdout",
     "output_type": "stream",
     "text": [
      "<class 'numpy.ndarray'>\n",
      "-1021.77423\n"
     ]
    },
    {
     "data": {
      "image/png": "[encoded data removed]",
      "text/plain": [
       "<Figure size 432x288 with 1 Axes>"
      ]
     },
     "metadata": {
      "needs_background": "light"
     },
     "output_type": "display_data"
    }
   ],
   "source": [
    "sample = d_kaggle[23]\n",
    "print(type(sample[\"PA\"]))\n",
    "plt.imshow(sample[\"PA\"][0], cmap=\"Greys_r\");\n",
    "plt.savefig('img_example.png')\n",
    "dict(zip(d_kaggle.pathologies,sample[\"lab\"]))\n",
    "print(np.min(sample[\"PA\"][0]))"
   ]
  },
  {
   "cell_type": "code",
   "execution_count": 12,
   "metadata": {},
   "outputs": [
    {
     "data": {
      "text/plain": [
       "(1, 64, 64)"
      ]
     },
     "execution_count": 12,
     "metadata": {},
     "output_type": "execute_result"
    }
   ],
   "source": [
    "sample['PA'].shape"
   ]
  },
  {
   "cell_type": "code",
   "execution_count": 13,
   "metadata": {},
   "outputs": [
    {
     "data": {
      "text/plain": [
       "{'Atelectasis': -3.3624754,\n",
       " 'Consolidation': -4.9424973,\n",
       " 'Infiltration': -2.9766097,\n",
       " 'Pneumothorax': -6.2478614,\n",
       " 'Edema': -6.6807423,\n",
       " 'Emphysema': -6.8364315,\n",
       " 'Fibrosis': -6.204165,\n",
       " 'Effusion': -4.1891794,\n",
       " 'Pneumonia': -4.2330613,\n",
       " 'Pleural_Thickening': -4.366385,\n",
       " 'Cardiomegaly': -4.5083785,\n",
       " 'Nodule': -4.2349644,\n",
       " 'Mass': -5.3744016,\n",
       " 'Hernia': -7.5134783,\n",
       " 'Lung Lesion': -5.2975206,\n",
       " 'Fracture': -3.8900952,\n",
       " 'Lung Opacity': -2.8499172,\n",
       " 'Enlarged Cardiomediastinum': -4.370314}"
      ]
     },
     "execution_count": 13,
     "metadata": {},
     "output_type": "execute_result"
    }
   ],
   "source": [
    "out = model(torch.tensor(sample['PA']).unsqueeze(0))\n",
    "dict(zip(xrv.datasets.default_pathologies,out[0].detach().numpy()))"
   ]
  },
  {
   "cell_type": "code",
   "execution_count": 20,
   "metadata": {},
   "outputs": [
    {
     "data": {
      "text/plain": [
       "array([0.02861274, 0.11389146], dtype=float32)"
      ]
     },
     "execution_count": 20,
     "metadata": {},
     "output_type": "execute_result"
    }
   ],
   "source": [
    "out_temp = torch.sigmoid(out[0,[8,16]]).detach().numpy()\n",
    "out_temp"
   ]
  },
  {
   "cell_type": "code",
   "execution_count": 17,
   "metadata": {},
   "outputs": [
    {
     "name": "stdout",
     "output_type": "stream",
     "text": [
      "[16, 8]\n"
     ]
    }
   ],
   "source": [
    "ind_list = []\n",
    "for i in range(len(d_kaggle.pathologies)):\n",
    "    ind_list.append(\n",
    "        xrv.datasets.default_pathologies.index(d_kaggle.pathologies[i]))\n",
    "print(ind_list)"
   ]
  },
  {
   "cell_type": "code",
   "execution_count": 27,
   "metadata": {},
   "outputs": [],
   "source": [
    "outs = []\n",
    "labs = []\n",
    "num_frames = 1000\n",
    "random_indices = np.random.choice(len(d_kaggle),\n",
    "                                  size=num_frames,\n",
    "                                  replace=False)\n",
    "with torch.no_grad():\n",
    "    for i in range(num_frames):\n",
    "        sample = d_kaggle[random_indices[i]]\n",
    "        labs.append(sample[\"lab\"])\n",
    "        out = model(torch.from_numpy(sample[\"PA\"]).unsqueeze(0))\n",
    "        outs.append(out.detach().numpy()[0])"
   ]
  },
  {
   "cell_type": "code",
   "execution_count": 31,
   "metadata": {},
   "outputs": [
    {
     "name": "stdout",
     "output_type": "stream",
     "text": [
      "Lung Opacity 0.6924172693403462\n",
      "Pneumonia 0.6920657096939148\n"
     ]
    }
   ],
   "source": [
    "import sklearn, sklearn.metrics\n",
    "# we look only at the output for the two labels present.\n",
    "for i in range(len(d_kaggle.pathologies)):\n",
    "    if len(np.unique(np.asarray(labs)[:, i])) > 1:\n",
    "        auc = sklearn.metrics.roc_auc_score(\n",
    "            np.asarray(labs)[:, i],\n",
    "            sigmoid(np.asarray(outs)[:, ind_list[i]]))\n",
    "    else:\n",
    "        auc = \"(Only one class observed)\"\n",
    "    print(xrv.datasets.default_pathologies[ind_list[i]], auc)"
   ]
  },
  {
   "cell_type": "code",
   "execution_count": 18,
   "metadata": {},
   "outputs": [],
   "source": [
    "def find_optimal_thresh(labs, out):\n",
    "    '''labs: labels. arraylike shape (num_samples,)\n",
    "        out: NN outputs post sigmoid. arraylike shape (num_samples,) '''\n",
    "    from sklearn.metrics import roc_curve\n",
    "    fpr, tpr, thresholds = roc_curve(labs, out, pos_label=1)\n",
    "    opt_ind = np.where((tpr-fpr) == np.max(tpr-fpr))\n",
    "    opt_point = thresholds[opt_ind]\n",
    "    return opt_point"
   ]
  },
  {
   "cell_type": "code",
   "execution_count": 19,
   "metadata": {},
   "outputs": [],
   "source": [
    "def normalize_operating_point(x, opt):\n",
    "    '''x: output post sigmoid for a given label.\n",
    "        opt: thresh that maximizes tpr-fpr'''\n",
    "    out = np.zeros(len(x))\n",
    "    geq_bool = x > opt\n",
    "    out[geq_bool] = x[geq_bool] / (2.0 * opt)\n",
    "    out[~geq_bool] = 1.0 - ((1.0 - x[~geq_bool]) / (2.0 * (1.0 - opt)))\n",
    "    return out"
   ]
  },
  {
   "cell_type": "code",
   "execution_count": 20,
   "metadata": {},
   "outputs": [],
   "source": [
    "def sigmoid(X):\n",
    "    return 1/(1+np.exp(-X))"
   ]
  },
  {
   "cell_type": "code",
   "execution_count": 21,
   "metadata": {},
   "outputs": [
    {
     "ename": "NameError",
     "evalue": "name 'outs' is not defined",
     "output_type": "error",
     "traceback": [
      "\u001b[0;31m---------------------------------------------------------------------------\u001b[0m",
      "\u001b[0;31mNameError\u001b[0m                                 Traceback (most recent call last)",
      "\u001b[0;32m<ipython-input-21-3711a3b1eb4b>\u001b[0m in \u001b[0;36m<module>\u001b[0;34m\u001b[0m\n\u001b[1;32m      1\u001b[0m \u001b[0mind\u001b[0m \u001b[0;34m=\u001b[0m \u001b[0;36m0\u001b[0m \u001b[0;31m# here just 0/1\u001b[0m\u001b[0;34m\u001b[0m\u001b[0;34m\u001b[0m\u001b[0m\n\u001b[0;32m----> 2\u001b[0;31m \u001b[0mout\u001b[0m \u001b[0;34m=\u001b[0m \u001b[0msigmoid\u001b[0m\u001b[0;34m(\u001b[0m\u001b[0mnp\u001b[0m\u001b[0;34m.\u001b[0m\u001b[0masarray\u001b[0m\u001b[0;34m(\u001b[0m\u001b[0mouts\u001b[0m\u001b[0;34m)\u001b[0m\u001b[0;34m[\u001b[0m\u001b[0;34m:\u001b[0m\u001b[0;34m,\u001b[0m \u001b[0mind_list\u001b[0m\u001b[0;34m[\u001b[0m\u001b[0mind\u001b[0m\u001b[0;34m]\u001b[0m\u001b[0;34m]\u001b[0m\u001b[0;34m)\u001b[0m\u001b[0;34m\u001b[0m\u001b[0;34m\u001b[0m\u001b[0m\n\u001b[0m\u001b[1;32m      3\u001b[0m \u001b[0mlabels\u001b[0m \u001b[0;34m=\u001b[0m \u001b[0mnp\u001b[0m\u001b[0;34m.\u001b[0m\u001b[0masarray\u001b[0m\u001b[0;34m(\u001b[0m\u001b[0mlabs\u001b[0m\u001b[0;34m)\u001b[0m\u001b[0;34m[\u001b[0m\u001b[0;34m:\u001b[0m\u001b[0;34m,\u001b[0m \u001b[0mind\u001b[0m\u001b[0;34m]\u001b[0m\u001b[0;34m\u001b[0m\u001b[0;34m\u001b[0m\u001b[0m\n\u001b[1;32m      4\u001b[0m \u001b[0mopt_point\u001b[0m \u001b[0;34m=\u001b[0m \u001b[0mfind_optimal_thresh\u001b[0m\u001b[0;34m(\u001b[0m\u001b[0mlabels\u001b[0m\u001b[0;34m,\u001b[0m \u001b[0mout\u001b[0m\u001b[0;34m)\u001b[0m\u001b[0;34m\u001b[0m\u001b[0;34m\u001b[0m\u001b[0m\n\u001b[1;32m      5\u001b[0m \u001b[0mprint\u001b[0m\u001b[0;34m(\u001b[0m\u001b[0mopt_point\u001b[0m\u001b[0;34m)\u001b[0m\u001b[0;34m\u001b[0m\u001b[0;34m\u001b[0m\u001b[0m\n",
      "\u001b[0;31mNameError\u001b[0m: name 'outs' is not defined"
     ]
    }
   ],
   "source": [
    "ind = 0 # here just 0/1\n",
    "out = sigmoid(np.asarray(outs)[:, ind_list[ind]])\n",
    "labels = np.asarray(labs)[:, ind]\n",
    "opt_point = find_optimal_thresh(labels, out)\n",
    "print(opt_point)"
   ]
  },
  {
   "cell_type": "code",
   "execution_count": 37,
   "metadata": {},
   "outputs": [],
   "source": [
    "normalized_out = normalize_operating_point(out, opt_point)"
   ]
  },
  {
   "cell_type": "code",
   "execution_count": 38,
   "metadata": {},
   "outputs": [
    {
     "data": {
      "text/plain": [
       "array([0.5])"
      ]
     },
     "execution_count": 38,
     "metadata": {},
     "output_type": "execute_result"
    }
   ],
   "source": [
    "find_optimal_thresh(labels, normalized_out) # should be 0.5"
   ]
  },
  {
   "cell_type": "markdown",
   "metadata": {},
   "source": [
    "Play around with the conv vae to make sure we know how it works."
   ]
  },
  {
   "cell_type": "code",
   "execution_count": 8,
   "metadata": {},
   "outputs": [],
   "source": [
    "from drvae.model.ae_model_architecture_generator import *\n",
    "from drvae.model.vae import ConvVAE"
   ]
  },
  {
   "cell_type": "code",
   "execution_count": 9,
   "metadata": {},
   "outputs": [],
   "source": [
    "arch_dict = load_handcrafted_arch(ae_arch_json=os.path.join(\n",
    "    'json_configs', 'ae_arch_new.json'),\n",
    "                                  input_dim=np.array([1, 64, 64]), # was np.array([1, 223, 223])\n",
    "                                  n_ae_latents=32,\n",
    "                                  check_memory=False)"
   ]
  },
  {
   "cell_type": "code",
   "execution_count": 10,
   "metadata": {
    "scrolled": true
   },
   "outputs": [
    {
     "name": "stdout",
     "output_type": "stream",
     "text": [
      "{'ae_batch_norm': True,\n",
      " 'ae_batch_norm_momentum': 0.1,\n",
      " 'ae_decoding layer_type': [None],\n",
      " 'ae_decoding_kernel_size': [5, 5, 5, 5, 5],\n",
      " 'ae_decoding_last_FF_layer': 0,\n",
      " 'ae_decoding_layer_type': ['convtranspose',\n",
      "                            'convtranspose',\n",
      "                            'convtranspose',\n",
      "                            'convtranspose',\n",
      "                            'convtranspose'],\n",
      " 'ae_decoding_n_channels': [256, 128, 64, 32, 1],\n",
      " 'ae_decoding_starting_dim': [512, 2, 2],\n",
      " 'ae_decoding_stride_size': [2, 2, 2, 2, 2],\n",
      " 'ae_decoding_x_dim': [4, 8, 16, 32, 64],\n",
      " 'ae_decoding_x_padding': [(1, 2), (1, 2), (1, 2), (1, 2), (1, 2)],\n",
      " 'ae_decoding_y_dim': [4, 8, 16, 32, 64],\n",
      " 'ae_decoding_y_padding': [(1, 2), (1, 2), (1, 2), (1, 2), (1, 2)],\n",
      " 'ae_encoding_kernel_size': [5, 5, 5, 5, 5],\n",
      " 'ae_encoding_layer_type': ['conv', 'conv', 'conv', 'conv', 'conv'],\n",
      " 'ae_encoding_n_channels': [32, 64, 128, 256, 512],\n",
      " 'ae_encoding_stride_size': [2, 2, 2, 2, 2],\n",
      " 'ae_encoding_x_dim': [32, 16, 8, 4, 2],\n",
      " 'ae_encoding_x_padding': [(1, 2), (1, 2), (1, 2), (1, 2), (1, 2)],\n",
      " 'ae_encoding_y_dim': [32, 16, 8, 4, 2],\n",
      " 'ae_encoding_y_padding': [(1, 2), (1, 2), (1, 2), (1, 2), (1, 2)],\n",
      " 'ae_input_dim': array([ 1, 64, 64]),\n",
      " 'ae_network_type': 'strides_only',\n",
      " 'ae_padding_type': 'same',\n",
      " 'model_type': 'conv',\n",
      " 'n_ae_latents': 32,\n",
      " 'n_input_channels': 1,\n",
      " 'symmetric_arch': 1,\n",
      " 'x_pixels': 64,\n",
      " 'y_pixels': 64}\n"
     ]
    }
   ],
   "source": [
    "import pprint\n",
    "pp = pprint.PrettyPrinter()\n",
    "pp.pprint(arch_dict)"
   ]
  },
  {
   "cell_type": "code",
   "execution_count": 11,
   "metadata": {},
   "outputs": [],
   "source": [
    "arch_dict[\"model_class\"] = 'vae'\n",
    "arch_dict['ae_decoding_final_nonlin'] = 'linear' # /or 'sigmoid'"
   ]
  },
  {
   "cell_type": "code",
   "execution_count": 12,
   "metadata": {},
   "outputs": [
    {
     "name": "stdout",
     "output_type": "stream",
     "text": [
      "gaussian\n",
      "<function recon_loglike_function at 0x1c3668f400>\n"
     ]
    }
   ],
   "source": [
    "vae = ConvVAE(arch_dict)"
   ]
  },
  {
   "cell_type": "code",
   "execution_count": 13,
   "metadata": {},
   "outputs": [
    {
     "name": "stdout",
     "output_type": "stream",
     "text": [
      "\n",
      "Autoencoder architecture\n",
      "------------------------\n",
      "Encoder architecture:\n",
      "    00: ZeroPad2d(padding=(1, 2, 1, 2), value=0.0)\n",
      "    01: Conv2d(1, 32, kernel_size=(5, 5), stride=(2, 2))\n",
      "    02: BatchNorm2d(32, eps=1e-05, momentum=0.1, affine=True, track_running_stats=True)\n",
      "    03: LeakyReLU(negative_slope=0.05)\n",
      "    04: ZeroPad2d(padding=(1, 2, 1, 2), value=0.0)\n",
      "    05: Conv2d(32, 64, kernel_size=(5, 5), stride=(2, 2))\n",
      "    06: BatchNorm2d(64, eps=1e-05, momentum=0.1, affine=True, track_running_stats=True)\n",
      "    07: LeakyReLU(negative_slope=0.05)\n",
      "    08: ZeroPad2d(padding=(1, 2, 1, 2), value=0.0)\n",
      "    09: Conv2d(64, 128, kernel_size=(5, 5), stride=(2, 2))\n",
      "    10: BatchNorm2d(128, eps=1e-05, momentum=0.1, affine=True, track_running_stats=True)\n",
      "    11: LeakyReLU(negative_slope=0.05)\n",
      "    12: ZeroPad2d(padding=(1, 2, 1, 2), value=0.0)\n",
      "    13: Conv2d(128, 256, kernel_size=(5, 5), stride=(2, 2))\n",
      "    14: BatchNorm2d(256, eps=1e-05, momentum=0.1, affine=True, track_running_stats=True)\n",
      "    15: LeakyReLU(negative_slope=0.05)\n",
      "    16: ZeroPad2d(padding=(1, 2, 1, 2), value=0.0)\n",
      "    17: Conv2d(256, 512, kernel_size=(5, 5), stride=(2, 2))\n",
      "    18: BatchNorm2d(512, eps=1e-05, momentum=0.1, affine=True, track_running_stats=True)\n",
      "    19: LeakyReLU(negative_slope=0.05)\n",
      "    21: Linear(in_features=2048, out_features=32, bias=True)\n",
      "Decoder architecture:\n",
      "    00: ConvTranspose2d(512, 256, kernel_size=(5, 5), stride=(2, 2))\n",
      "    01: BatchNorm2d(256, eps=1e-05, momentum=0.1, affine=True, track_running_stats=True)\n",
      "    02: LeakyReLU(negative_slope=0.05)\n",
      "    03: ConvTranspose2d(256, 128, kernel_size=(5, 5), stride=(2, 2))\n",
      "    04: BatchNorm2d(128, eps=1e-05, momentum=0.1, affine=True, track_running_stats=True)\n",
      "    05: LeakyReLU(negative_slope=0.05)\n",
      "    06: ConvTranspose2d(128, 64, kernel_size=(5, 5), stride=(2, 2))\n",
      "    07: BatchNorm2d(64, eps=1e-05, momentum=0.1, affine=True, track_running_stats=True)\n",
      "    08: LeakyReLU(negative_slope=0.05)\n",
      "    09: ConvTranspose2d(64, 32, kernel_size=(5, 5), stride=(2, 2))\n",
      "    10: BatchNorm2d(32, eps=1e-05, momentum=0.1, affine=True, track_running_stats=True)\n",
      "    11: LeakyReLU(negative_slope=0.05)\n",
      "    12: ConvTranspose2d(32, 1, kernel_size=(5, 5), stride=(2, 2))\n",
      "\n",
      "\n"
     ]
    }
   ],
   "source": [
    "print(vae.__str__())"
   ]
  },
  {
   "cell_type": "markdown",
   "metadata": {},
   "source": [
    "the following should run only if you want to change weight inits."
   ]
  },
  {
   "cell_type": "code",
   "execution_count": 12,
   "metadata": {},
   "outputs": [
    {
     "data": {
      "text/plain": [
       "300"
      ]
     },
     "execution_count": 12,
     "metadata": {},
     "output_type": "execute_result"
    }
   ],
   "source": [
    "num_frames = 300\n",
    "random_indices = np.random.choice(len(d_kaggle),\n",
    "                                  size=num_frames,\n",
    "                                  replace=False)\n",
    "subset_dataset = torch.utils.data.Subset(d_kaggle, random_indices)\n",
    "len(subset_dataset)"
   ]
  },
  {
   "cell_type": "code",
   "execution_count": 14,
   "metadata": {},
   "outputs": [
    {
     "name": "stderr",
     "output_type": "stream",
     "text": [
      "\r",
      "  0%|          | 0/378 [00:00<?, ?it/s]"
     ]
    },
    {
     "name": "stdout",
     "output_type": "stream",
     "text": [
      "None None None None None None\n",
      "-------------------\n",
      "fitting vae:  {'Lung Opacity': {0.0: 20672, 1.0: 9555}, 'Pneumonia': {0.0: 20672, 1.0: 9555}}\n",
      "{'dataset': Kaggle_Dataset num_samples=30227, 'epochs': 15, 'log_interval': None, 'output_dir': 'vae-output-check', 'torch_seed': 0, 'batch_size': 64}\n",
      "dataset is xray.\n",
      " training 44 param groups\n",
      "Epoch       train-loss  val-loss    train-rmse  val-rmse    train/val-p\n",
      "torch.Size([64, 1, 64, 64])\n",
      "torch.Size([64, 1, 64, 64])\n",
      "recon is nan:\n",
      "0\n",
      "7.539116\n",
      "mu is nan:\n",
      "0\n",
      "1.3798038\n",
      "lnvar is nan:\n",
      "0\n",
      "1.7071358\n",
      "data is nan:\n",
      "0\n",
      "983.66626\n",
      "tensor(5.0721e+10, grad_fn=<AddBackward0>)\n"
     ]
    },
    {
     "name": "stderr",
     "output_type": "stream",
     "text": [
      "\r",
      "  0%|          | 1/378 [00:06<38:31,  6.13s/it]"
     ]
    },
    {
     "name": "stdout",
     "output_type": "stream",
     "text": [
      "torch.Size([64, 1, 64, 64])\n",
      "torch.Size([64, 1, 64, 64])\n",
      "recon is nan:\n",
      "0\n",
      "17.933914\n",
      "mu is nan:\n",
      "0\n",
      "5.341616\n",
      "lnvar is nan:\n",
      "0\n",
      "4.6912403\n",
      "data is nan:\n",
      "0\n",
      "982.2196\n",
      "tensor(4.8321e+10, grad_fn=<AddBackward0>)\n"
     ]
    },
    {
     "name": "stderr",
     "output_type": "stream",
     "text": [
      "\r",
      "  1%|          | 2/378 [00:12<38:30,  6.15s/it]"
     ]
    },
    {
     "name": "stdout",
     "output_type": "stream",
     "text": [
      "torch.Size([64, 1, 64, 64])\n",
      "torch.Size([64, 1, 64, 64])\n",
      "recon is nan:\n",
      "0\n",
      "16.264341\n",
      "mu is nan:\n",
      "0\n",
      "6.134012\n",
      "lnvar is nan:\n",
      "0\n",
      "2.32854\n",
      "data is nan:\n",
      "0\n",
      "939.987\n",
      "tensor(4.8344e+10, grad_fn=<AddBackward0>)\n"
     ]
    },
    {
     "name": "stderr",
     "output_type": "stream",
     "text": [
      "\r",
      "  1%|          | 3/378 [00:18<38:25,  6.15s/it]"
     ]
    },
    {
     "name": "stdout",
     "output_type": "stream",
     "text": [
      "torch.Size([64, 1, 64, 64])\n",
      "torch.Size([64, 1, 64, 64])\n",
      "recon is nan:\n",
      "0\n",
      "20.65726\n",
      "mu is nan:\n",
      "0\n",
      "10.301172\n",
      "lnvar is nan:\n",
      "0\n",
      "3.5374472\n",
      "data is nan:\n",
      "0\n",
      "989.35406\n",
      "tensor(4.8272e+10, grad_fn=<AddBackward0>)\n"
     ]
    },
    {
     "name": "stderr",
     "output_type": "stream",
     "text": [
      "\r",
      "  1%|          | 4/378 [00:24<38:18,  6.15s/it]"
     ]
    },
    {
     "name": "stdout",
     "output_type": "stream",
     "text": [
      "torch.Size([64, 1, 64, 64])\n",
      "torch.Size([64, 1, 64, 64])\n",
      "recon is nan:\n",
      "0\n",
      "17.047277\n",
      "mu is nan:\n",
      "0\n",
      "8.692499\n",
      "lnvar is nan:\n",
      "0\n",
      "3.0367424\n",
      "data is nan:\n",
      "0\n",
      "935.9994\n",
      "tensor(4.7594e+10, grad_fn=<AddBackward0>)\n"
     ]
    },
    {
     "name": "stderr",
     "output_type": "stream",
     "text": [
      "\r",
      "  1%|▏         | 5/378 [00:30<38:10,  6.14s/it]"
     ]
    },
    {
     "name": "stdout",
     "output_type": "stream",
     "text": [
      "torch.Size([64, 1, 64, 64])\n",
      "torch.Size([64, 1, 64, 64])\n",
      "recon is nan:\n",
      "0\n",
      "17.29162\n",
      "mu is nan:\n",
      "0\n",
      "9.980884\n",
      "lnvar is nan:\n",
      "0\n",
      "3.197526\n",
      "data is nan:\n",
      "0\n",
      "971.0267\n",
      "tensor(4.8144e+10, grad_fn=<AddBackward0>)\n"
     ]
    },
    {
     "name": "stderr",
     "output_type": "stream",
     "text": [
      "\r",
      "  2%|▏         | 6/378 [00:37<38:19,  6.18s/it]"
     ]
    },
    {
     "name": "stdout",
     "output_type": "stream",
     "text": [
      "torch.Size([64, 1, 64, 64])\n",
      "torch.Size([64, 1, 64, 64])\n",
      "recon is nan:\n",
      "0\n",
      "17.555965\n",
      "mu is nan:\n",
      "0\n",
      "10.296836\n",
      "lnvar is nan:\n",
      "0\n",
      "3.5072923\n",
      "data is nan:\n",
      "0\n",
      "933.27527\n",
      "tensor(4.7474e+10, grad_fn=<AddBackward0>)\n"
     ]
    },
    {
     "name": "stderr",
     "output_type": "stream",
     "text": [
      "\r",
      "  2%|▏         | 7/378 [00:43<38:18,  6.19s/it]"
     ]
    },
    {
     "name": "stdout",
     "output_type": "stream",
     "text": [
      "torch.Size([64, 1, 64, 64])\n",
      "torch.Size([64, 1, 64, 64])\n",
      "recon is nan:\n",
      "0\n",
      "20.805897\n",
      "mu is nan:\n",
      "0\n",
      "12.229803\n",
      "lnvar is nan:\n",
      "0\n",
      "4.454947\n",
      "data is nan:\n",
      "0\n",
      "954.72327\n",
      "tensor(5.1434e+10, grad_fn=<AddBackward0>)\n"
     ]
    },
    {
     "name": "stderr",
     "output_type": "stream",
     "text": [
      "\r",
      "  2%|▏         | 8/378 [00:49<38:10,  6.19s/it]"
     ]
    },
    {
     "name": "stdout",
     "output_type": "stream",
     "text": [
      "torch.Size([64, 1, 64, 64])\n",
      "torch.Size([64, 1, 64, 64])\n",
      "recon is nan:\n",
      "0\n",
      "19.29048\n",
      "mu is nan:\n",
      "0\n",
      "12.3179035\n",
      "lnvar is nan:\n",
      "0\n",
      "4.237182\n",
      "data is nan:\n",
      "0\n",
      "973.28955\n",
      "tensor(4.8506e+10, grad_fn=<AddBackward0>)\n"
     ]
    },
    {
     "name": "stderr",
     "output_type": "stream",
     "text": [
      "\r",
      "  2%|▏         | 9/378 [00:55<37:53,  6.16s/it]"
     ]
    },
    {
     "name": "stdout",
     "output_type": "stream",
     "text": [
      "torch.Size([64, 1, 64, 64])\n",
      "torch.Size([64, 1, 64, 64])\n",
      "recon is nan:\n",
      "0\n",
      "20.401175\n",
      "mu is nan:\n",
      "0\n",
      "13.224321\n",
      "lnvar is nan:\n",
      "0\n",
      "4.200509\n",
      "data is nan:\n",
      "0\n",
      "1015.24\n",
      "tensor(4.6674e+10, grad_fn=<AddBackward0>)\n"
     ]
    },
    {
     "name": "stderr",
     "output_type": "stream",
     "text": [
      "\r",
      "  3%|▎         | 10/378 [01:01<37:39,  6.14s/it]"
     ]
    },
    {
     "name": "stdout",
     "output_type": "stream",
     "text": [
      "torch.Size([64, 1, 64, 64])\n",
      "torch.Size([64, 1, 64, 64])\n",
      "recon is nan:\n",
      "0\n",
      "17.536367\n",
      "mu is nan:\n",
      "0\n",
      "12.43429\n",
      "lnvar is nan:\n",
      "0\n",
      "3.691463\n",
      "data is nan:\n",
      "0\n",
      "930.9129\n",
      "tensor(4.8968e+10, grad_fn=<AddBackward0>)\n"
     ]
    },
    {
     "name": "stderr",
     "output_type": "stream",
     "text": [
      "\r",
      "  3%|▎         | 11/378 [01:07<37:29,  6.13s/it]"
     ]
    },
    {
     "name": "stdout",
     "output_type": "stream",
     "text": [
      "torch.Size([64, 1, 64, 64])\n",
      "torch.Size([64, 1, 64, 64])\n",
      "recon is nan:\n",
      "0\n",
      "18.736464\n",
      "mu is nan:\n",
      "0\n",
      "13.471918\n",
      "lnvar is nan:\n",
      "0\n",
      "3.639281\n",
      "data is nan:\n",
      "0\n",
      "986.89813\n",
      "tensor(4.8222e+10, grad_fn=<AddBackward0>)\n"
     ]
    },
    {
     "name": "stderr",
     "output_type": "stream",
     "text": [
      "\r",
      "  3%|▎         | 12/378 [01:13<37:22,  6.13s/it]"
     ]
    },
    {
     "name": "stdout",
     "output_type": "stream",
     "text": [
      "torch.Size([64, 1, 64, 64])\n",
      "torch.Size([64, 1, 64, 64])\n",
      "recon is nan:\n",
      "0\n",
      "20.760143\n",
      "mu is nan:\n",
      "0\n",
      "14.675054\n",
      "lnvar is nan:\n",
      "0\n",
      "3.958395\n",
      "data is nan:\n",
      "0\n",
      "954.79486\n",
      "tensor(5.1957e+10, grad_fn=<AddBackward0>)\n"
     ]
    },
    {
     "name": "stderr",
     "output_type": "stream",
     "text": [
      "\r",
      "  3%|▎         | 13/378 [01:20<37:27,  6.16s/it]"
     ]
    },
    {
     "name": "stdout",
     "output_type": "stream",
     "text": [
      "torch.Size([64, 1, 64, 64])\n",
      "torch.Size([64, 1, 64, 64])\n",
      "recon is nan:\n",
      "0\n",
      "24.799694\n",
      "mu is nan:\n",
      "0\n",
      "16.478996\n",
      "lnvar is nan:\n",
      "0\n",
      "4.63622\n",
      "data is nan:\n",
      "0\n",
      "938.422\n",
      "tensor(4.5889e+10, grad_fn=<AddBackward0>)\n"
     ]
    },
    {
     "name": "stderr",
     "output_type": "stream",
     "text": [
      "\r",
      "  4%|▎         | 14/378 [01:26<37:35,  6.20s/it]"
     ]
    },
    {
     "name": "stdout",
     "output_type": "stream",
     "text": [
      "torch.Size([64, 1, 64, 64])\n",
      "torch.Size([64, 1, 64, 64])\n",
      "recon is nan:\n",
      "0\n",
      "24.210503\n",
      "mu is nan:\n",
      "0\n",
      "15.757714\n",
      "lnvar is nan:\n",
      "0\n",
      "4.539793\n",
      "data is nan:\n",
      "0\n",
      "964.23627\n",
      "tensor(5.1702e+10, grad_fn=<AddBackward0>)\n"
     ]
    },
    {
     "name": "stderr",
     "output_type": "stream",
     "text": [
      "\r",
      "  4%|▍         | 15/378 [01:32<37:29,  6.20s/it]"
     ]
    },
    {
     "name": "stdout",
     "output_type": "stream",
     "text": [
      "torch.Size([64, 1, 64, 64])\n",
      "torch.Size([64, 1, 64, 64])\n",
      "recon is nan:\n",
      "0\n",
      "27.945381\n",
      "mu is nan:\n",
      "0\n",
      "17.137138\n",
      "lnvar is nan:\n",
      "0\n",
      "5.4436083\n",
      "data is nan:\n",
      "0\n",
      "1005.2394\n",
      "tensor(4.7523e+10, grad_fn=<AddBackward0>)\n"
     ]
    },
    {
     "name": "stderr",
     "output_type": "stream",
     "text": [
      "\r",
      "  4%|▍         | 16/378 [01:38<37:25,  6.20s/it]"
     ]
    },
    {
     "name": "stdout",
     "output_type": "stream",
     "text": [
      "torch.Size([64, 1, 64, 64])\n",
      "torch.Size([64, 1, 64, 64])\n",
      "recon is nan:\n",
      "0\n",
      "22.179628\n",
      "mu is nan:\n",
      "0\n",
      "14.005949\n",
      "lnvar is nan:\n",
      "0\n",
      "4.185346\n",
      "data is nan:\n",
      "0\n",
      "908.03143\n",
      "tensor(4.9656e+10, grad_fn=<AddBackward0>)\n"
     ]
    },
    {
     "name": "stderr",
     "output_type": "stream",
     "text": [
      "\r",
      "  4%|▍         | 17/378 [01:44<37:10,  6.18s/it]"
     ]
    },
    {
     "name": "stdout",
     "output_type": "stream",
     "text": [
      "torch.Size([64, 1, 64, 64])\n",
      "torch.Size([64, 1, 64, 64])\n",
      "recon is nan:\n",
      "0\n",
      "24.103807\n",
      "mu is nan:\n",
      "0\n",
      "15.463389\n",
      "lnvar is nan:\n",
      "0\n",
      "4.209763\n",
      "data is nan:\n",
      "0\n",
      "951.5176\n",
      "tensor(4.8728e+10, grad_fn=<AddBackward0>)\n"
     ]
    },
    {
     "name": "stderr",
     "output_type": "stream",
     "text": [
      "\r",
      "  5%|▍         | 18/378 [01:50<36:50,  6.14s/it]"
     ]
    },
    {
     "name": "stdout",
     "output_type": "stream",
     "text": [
      "torch.Size([64, 1, 64, 64])\n",
      "torch.Size([64, 1, 64, 64])\n",
      "recon is nan:\n",
      "0\n",
      "21.955837\n",
      "mu is nan:\n",
      "0\n",
      "14.804224\n",
      "lnvar is nan:\n",
      "0\n",
      "3.5434098\n",
      "data is nan:\n",
      "0\n",
      "984.08325\n",
      "tensor(4.7523e+10, grad_fn=<AddBackward0>)\n"
     ]
    },
    {
     "name": "stderr",
     "output_type": "stream",
     "text": [
      "\r",
      "  5%|▌         | 19/378 [01:56<36:28,  6.10s/it]"
     ]
    },
    {
     "name": "stdout",
     "output_type": "stream",
     "text": [
      "torch.Size([64, 1, 64, 64])\n",
      "torch.Size([64, 1, 64, 64])\n",
      "recon is nan:\n",
      "0\n",
      "28.028076\n",
      "mu is nan:\n",
      "0\n",
      "18.745708\n",
      "lnvar is nan:\n",
      "0\n",
      "3.8377032\n",
      "data is nan:\n",
      "0\n",
      "965.0152\n",
      "tensor(4.8469e+10, grad_fn=<AddBackward0>)\n"
     ]
    },
    {
     "name": "stderr",
     "output_type": "stream",
     "text": [
      "\r",
      "  5%|▌         | 20/378 [02:03<36:22,  6.10s/it]"
     ]
    },
    {
     "name": "stdout",
     "output_type": "stream",
     "text": [
      "torch.Size([64, 1, 64, 64])\n",
      "torch.Size([64, 1, 64, 64])\n",
      "recon is nan:\n",
      "0\n",
      "21.174372\n",
      "mu is nan:\n",
      "0\n",
      "13.081089\n",
      "lnvar is nan:\n",
      "0\n",
      "2.596817\n",
      "data is nan:\n",
      "0\n",
      "1006.4188\n",
      "tensor(4.9858e+10, grad_fn=<AddBackward0>)\n"
     ]
    },
    {
     "name": "stderr",
     "output_type": "stream",
     "text": [
      "\r",
      "  6%|▌         | 21/378 [02:09<36:32,  6.14s/it]"
     ]
    },
    {
     "name": "stdout",
     "output_type": "stream",
     "text": [
      "torch.Size([64, 1, 64, 64])\n",
      "torch.Size([64, 1, 64, 64])\n",
      "recon is nan:\n",
      "0\n",
      "24.376719\n",
      "mu is nan:\n",
      "0\n",
      "12.604582\n",
      "lnvar is nan:\n",
      "0\n",
      "2.5798151\n",
      "data is nan:\n",
      "0\n",
      "938.60583\n",
      "tensor(4.6926e+10, grad_fn=<AddBackward0>)\n"
     ]
    },
    {
     "name": "stderr",
     "output_type": "stream",
     "text": [
      "\r",
      "  6%|▌         | 22/378 [02:15<36:19,  6.12s/it]"
     ]
    },
    {
     "name": "stdout",
     "output_type": "stream",
     "text": [
      "torch.Size([64, 1, 64, 64])\n",
      "torch.Size([64, 1, 64, 64])\n",
      "recon is nan:\n",
      "0\n",
      "24.405867\n",
      "mu is nan:\n",
      "0\n",
      "13.753113\n",
      "lnvar is nan:\n",
      "0\n",
      "2.8692791\n",
      "data is nan:\n",
      "0\n",
      "939.97644\n",
      "tensor(5.0609e+10, grad_fn=<AddBackward0>)\n"
     ]
    },
    {
     "name": "stderr",
     "output_type": "stream",
     "text": [
      "\r",
      "  6%|▌         | 23/378 [02:21<36:20,  6.14s/it]"
     ]
    },
    {
     "name": "stdout",
     "output_type": "stream",
     "text": [
      "torch.Size([64, 1, 64, 64])\n",
      "torch.Size([64, 1, 64, 64])\n",
      "recon is nan:\n",
      "0\n",
      "27.787056\n",
      "mu is nan:\n",
      "0\n",
      "12.987703\n",
      "lnvar is nan:\n",
      "0\n",
      "2.3507059\n",
      "data is nan:\n",
      "0\n",
      "942.85944\n",
      "tensor(4.8708e+10, grad_fn=<AddBackward0>)\n"
     ]
    },
    {
     "name": "stderr",
     "output_type": "stream",
     "text": [
      "\r",
      "  6%|▋         | 24/378 [02:27<36:20,  6.16s/it]"
     ]
    },
    {
     "name": "stdout",
     "output_type": "stream",
     "text": [
      "torch.Size([64, 1, 64, 64])\n",
      "torch.Size([64, 1, 64, 64])\n",
      "recon is nan:\n",
      "0\n",
      "30.013485\n",
      "mu is nan:\n",
      "0\n",
      "13.219209\n",
      "lnvar is nan:\n",
      "0\n",
      "1.8263116\n",
      "data is nan:\n",
      "0\n",
      "935.3486\n",
      "tensor(4.8650e+10, grad_fn=<AddBackward0>)\n"
     ]
    },
    {
     "name": "stderr",
     "output_type": "stream",
     "text": [
      "\r",
      "  7%|▋         | 25/378 [02:33<36:08,  6.14s/it]"
     ]
    },
    {
     "name": "stdout",
     "output_type": "stream",
     "text": [
      "torch.Size([64, 1, 64, 64])\n",
      "torch.Size([64, 1, 64, 64])\n",
      "recon is nan:\n",
      "0\n",
      "33.400936\n",
      "mu is nan:\n",
      "0\n",
      "14.19701\n",
      "lnvar is nan:\n",
      "0\n",
      "1.113478\n",
      "data is nan:\n",
      "0\n",
      "1001.79944\n",
      "tensor(4.6115e+10, grad_fn=<AddBackward0>)\n"
     ]
    },
    {
     "name": "stderr",
     "output_type": "stream",
     "text": [
      "\r",
      "  7%|▋         | 26/378 [02:40<36:18,  6.19s/it]"
     ]
    },
    {
     "name": "stdout",
     "output_type": "stream",
     "text": [
      "torch.Size([64, 1, 64, 64])\n",
      "torch.Size([64, 1, 64, 64])\n",
      "recon is nan:\n",
      "0\n",
      "30.235027\n",
      "mu is nan:\n",
      "0\n",
      "14.123027\n",
      "lnvar is nan:\n",
      "0\n",
      "0.7659679\n",
      "data is nan:\n",
      "0\n",
      "956.0886\n",
      "tensor(4.6672e+10, grad_fn=<AddBackward0>)\n"
     ]
    },
    {
     "name": "stderr",
     "output_type": "stream",
     "text": [
      "\r",
      "  7%|▋         | 27/378 [02:46<36:06,  6.17s/it]"
     ]
    },
    {
     "name": "stdout",
     "output_type": "stream",
     "text": [
      "torch.Size([64, 1, 64, 64])\n",
      "torch.Size([64, 1, 64, 64])\n",
      "recon is nan:\n",
      "0\n",
      "32.406803\n",
      "mu is nan:\n",
      "0\n",
      "13.972334\n",
      "lnvar is nan:\n",
      "0\n",
      "0.94254446\n",
      "data is nan:\n",
      "0\n",
      "950.791\n",
      "tensor(4.4063e+10, grad_fn=<AddBackward0>)\n"
     ]
    },
    {
     "name": "stderr",
     "output_type": "stream",
     "text": [
      "\r",
      "  7%|▋         | 28/378 [02:52<35:41,  6.12s/it]"
     ]
    },
    {
     "name": "stdout",
     "output_type": "stream",
     "text": [
      "torch.Size([64, 1, 64, 64])\n",
      "torch.Size([64, 1, 64, 64])\n",
      "recon is nan:\n",
      "0\n",
      "32.806988\n",
      "mu is nan:\n",
      "0\n",
      "14.026161\n",
      "lnvar is nan:\n",
      "0\n",
      "0.5577894\n",
      "data is nan:\n",
      "0\n",
      "967.154\n",
      "tensor(4.6691e+10, grad_fn=<AddBackward0>)\n"
     ]
    },
    {
     "name": "stderr",
     "output_type": "stream",
     "text": [
      "\r",
      "  8%|▊         | 29/378 [02:58<35:11,  6.05s/it]"
     ]
    },
    {
     "name": "stdout",
     "output_type": "stream",
     "text": [
      "torch.Size([64, 1, 64, 64])\n",
      "torch.Size([64, 1, 64, 64])\n",
      "recon is nan:\n",
      "0\n",
      "31.494751\n",
      "mu is nan:\n",
      "0\n",
      "14.686878\n",
      "lnvar is nan:\n",
      "0\n",
      "0.38685673\n",
      "data is nan:\n",
      "0\n",
      "973.3328\n",
      "tensor(4.4504e+10, grad_fn=<AddBackward0>)\n"
     ]
    },
    {
     "name": "stderr",
     "output_type": "stream",
     "text": [
      "\r",
      "  8%|▊         | 30/378 [03:04<35:05,  6.05s/it]"
     ]
    },
    {
     "name": "stdout",
     "output_type": "stream",
     "text": [
      "torch.Size([64, 1, 64, 64])\n",
      "torch.Size([64, 1, 64, 64])\n",
      "recon is nan:\n",
      "0\n",
      "31.515596\n",
      "mu is nan:\n",
      "0\n",
      "13.160747\n",
      "lnvar is nan:\n",
      "0\n",
      "2.2774444\n",
      "data is nan:\n",
      "0\n",
      "928.48944\n",
      "tensor(4.5608e+10, grad_fn=<AddBackward0>)\n"
     ]
    },
    {
     "name": "stderr",
     "output_type": "stream",
     "text": [
      "\r",
      "  8%|▊         | 31/378 [03:10<35:32,  6.15s/it]"
     ]
    },
    {
     "name": "stdout",
     "output_type": "stream",
     "text": [
      "torch.Size([64, 1, 64, 64])\n",
      "torch.Size([64, 1, 64, 64])\n",
      "recon is nan:\n",
      "0\n",
      "34.611397\n",
      "mu is nan:\n",
      "0\n",
      "13.846516\n",
      "lnvar is nan:\n",
      "0\n",
      "0.44564426\n",
      "data is nan:\n",
      "0\n",
      "967.6295\n",
      "tensor(4.5970e+10, grad_fn=<AddBackward0>)\n"
     ]
    },
    {
     "name": "stderr",
     "output_type": "stream",
     "text": [
      "\r",
      "  8%|▊         | 32/378 [03:17<36:02,  6.25s/it]"
     ]
    },
    {
     "name": "stdout",
     "output_type": "stream",
     "text": [
      "torch.Size([64, 1, 64, 64])\n",
      "torch.Size([64, 1, 64, 64])\n",
      "recon is nan:\n",
      "0\n",
      "31.999016\n",
      "mu is nan:\n",
      "0\n",
      "12.238877\n",
      "lnvar is nan:\n",
      "0\n",
      "0.4343269\n",
      "data is nan:\n",
      "0\n",
      "943.2908\n",
      "tensor(4.8284e+10, grad_fn=<AddBackward0>)\n"
     ]
    },
    {
     "name": "stderr",
     "output_type": "stream",
     "text": [
      "\r",
      "  9%|▊         | 33/378 [03:23<35:49,  6.23s/it]"
     ]
    },
    {
     "name": "stdout",
     "output_type": "stream",
     "text": [
      "torch.Size([64, 1, 64, 64])\n",
      "torch.Size([64, 1, 64, 64])\n",
      "recon is nan:\n",
      "0\n",
      "41.609165\n",
      "mu is nan:\n",
      "0\n",
      "13.495869\n",
      "lnvar is nan:\n",
      "0\n",
      "1.0828657\n",
      "data is nan:\n",
      "0\n",
      "931.15625\n",
      "tensor(4.7280e+10, grad_fn=<AddBackward0>)\n"
     ]
    },
    {
     "name": "stderr",
     "output_type": "stream",
     "text": [
      "\r",
      "  9%|▉         | 34/378 [03:29<35:43,  6.23s/it]"
     ]
    },
    {
     "name": "stdout",
     "output_type": "stream",
     "text": [
      "torch.Size([64, 1, 64, 64])\n",
      "torch.Size([64, 1, 64, 64])\n",
      "recon is nan:\n",
      "0\n",
      "45.6353\n",
      "mu is nan:\n",
      "0\n",
      "12.880753\n",
      "lnvar is nan:\n",
      "0\n",
      "0.01601161\n",
      "data is nan:\n",
      "0\n",
      "999.3913\n",
      "tensor(4.9610e+10, grad_fn=<AddBackward0>)\n"
     ]
    },
    {
     "name": "stderr",
     "output_type": "stream",
     "text": [
      "\r",
      "  9%|▉         | 35/378 [03:35<35:37,  6.23s/it]"
     ]
    },
    {
     "name": "stdout",
     "output_type": "stream",
     "text": [
      "torch.Size([64, 1, 64, 64])\n",
      "torch.Size([64, 1, 64, 64])\n",
      "recon is nan:\n",
      "0\n",
      "44.326622\n",
      "mu is nan:\n",
      "0\n",
      "13.788602\n",
      "lnvar is nan:\n",
      "0\n",
      "0.21236297\n",
      "data is nan:\n",
      "0\n",
      "982.4936\n",
      "tensor(4.5383e+10, grad_fn=<AddBackward0>)\n"
     ]
    },
    {
     "name": "stderr",
     "output_type": "stream",
     "text": [
      "\r",
      " 10%|▉         | 36/378 [03:41<35:23,  6.21s/it]"
     ]
    },
    {
     "name": "stdout",
     "output_type": "stream",
     "text": [
      "torch.Size([64, 1, 64, 64])\n",
      "torch.Size([64, 1, 64, 64])\n",
      "recon is nan:\n",
      "0\n",
      "42.053333\n",
      "mu is nan:\n",
      "0\n",
      "12.729952\n",
      "lnvar is nan:\n",
      "0\n",
      "0.4610011\n",
      "data is nan:\n",
      "0\n",
      "952.7854\n",
      "tensor(4.8733e+10, grad_fn=<AddBackward0>)\n"
     ]
    },
    {
     "name": "stderr",
     "output_type": "stream",
     "text": [
      "\r",
      " 10%|▉         | 37/378 [03:47<35:08,  6.18s/it]"
     ]
    },
    {
     "name": "stdout",
     "output_type": "stream",
     "text": [
      "torch.Size([64, 1, 64, 64])\n",
      "torch.Size([64, 1, 64, 64])\n",
      "recon is nan:\n",
      "0\n",
      "47.49395\n",
      "mu is nan:\n",
      "0\n",
      "14.203793\n",
      "lnvar is nan:\n",
      "0\n",
      "-0.22147682\n",
      "data is nan:\n",
      "0\n",
      "990.48785\n",
      "tensor(4.5365e+10, grad_fn=<AddBackward0>)\n"
     ]
    },
    {
     "name": "stderr",
     "output_type": "stream",
     "text": [
      "\r",
      " 10%|█         | 38/378 [03:54<34:47,  6.14s/it]"
     ]
    },
    {
     "name": "stdout",
     "output_type": "stream",
     "text": [
      "torch.Size([64, 1, 64, 64])\n",
      "torch.Size([64, 1, 64, 64])\n",
      "recon is nan:\n",
      "0\n",
      "41.804775\n",
      "mu is nan:\n",
      "0\n",
      "11.889379\n",
      "lnvar is nan:\n",
      "0\n",
      "-0.53163695\n",
      "data is nan:\n",
      "0\n",
      "932.5191\n",
      "tensor(4.8434e+10, grad_fn=<AddBackward0>)\n"
     ]
    },
    {
     "name": "stderr",
     "output_type": "stream",
     "text": [
      "\r",
      " 10%|█         | 39/378 [04:00<34:32,  6.11s/it]"
     ]
    },
    {
     "name": "stdout",
     "output_type": "stream",
     "text": [
      "torch.Size([64, 1, 64, 64])\n",
      "torch.Size([64, 1, 64, 64])\n",
      "recon is nan:\n",
      "0\n",
      "42.852566\n",
      "mu is nan:\n",
      "0\n",
      "12.921568\n",
      "lnvar is nan:\n",
      "0\n",
      "-0.3797647\n",
      "data is nan:\n",
      "0\n",
      "952.6359\n",
      "tensor(4.6862e+10, grad_fn=<AddBackward0>)\n"
     ]
    },
    {
     "name": "stderr",
     "output_type": "stream",
     "text": [
      "\r",
      " 11%|█         | 40/378 [04:06<34:18,  6.09s/it]"
     ]
    },
    {
     "name": "stdout",
     "output_type": "stream",
     "text": [
      "torch.Size([64, 1, 64, 64])\n",
      "torch.Size([64, 1, 64, 64])\n",
      "recon is nan:\n",
      "0\n",
      "38.895912\n",
      "mu is nan:\n",
      "0\n",
      "12.599305\n",
      "lnvar is nan:\n",
      "0\n",
      "-0.61535746\n",
      "data is nan:\n",
      "0\n",
      "932.5087\n",
      "tensor(4.2472e+10, grad_fn=<AddBackward0>)\n"
     ]
    },
    {
     "name": "stderr",
     "output_type": "stream",
     "text": [
      "\r",
      " 11%|█         | 41/378 [04:12<34:29,  6.14s/it]"
     ]
    },
    {
     "name": "stdout",
     "output_type": "stream",
     "text": [
      "torch.Size([64, 1, 64, 64])\n",
      "torch.Size([64, 1, 64, 64])\n",
      "recon is nan:\n",
      "0\n",
      "39.889095\n",
      "mu is nan:\n",
      "0\n",
      "12.368576\n",
      "lnvar is nan:\n",
      "0\n",
      "-0.4110273\n",
      "data is nan:\n",
      "0\n",
      "942.04236\n",
      "tensor(4.7042e+10, grad_fn=<AddBackward0>)\n"
     ]
    },
    {
     "name": "stderr",
     "output_type": "stream",
     "text": [
      "\r",
      " 11%|█         | 42/378 [04:18<34:27,  6.15s/it]"
     ]
    },
    {
     "name": "stdout",
     "output_type": "stream",
     "text": [
      "torch.Size([64, 1, 64, 64])\n",
      "torch.Size([64, 1, 64, 64])\n",
      "recon is nan:\n",
      "0\n",
      "40.520157\n",
      "mu is nan:\n",
      "0\n",
      "12.75477\n",
      "lnvar is nan:\n",
      "0\n",
      "0.3364519\n",
      "data is nan:\n",
      "0\n",
      "982.13666\n",
      "tensor(4.9585e+10, grad_fn=<AddBackward0>)\n"
     ]
    },
    {
     "name": "stderr",
     "output_type": "stream",
     "text": [
      "\r",
      " 11%|█▏        | 43/378 [04:24<34:25,  6.17s/it]"
     ]
    },
    {
     "name": "stdout",
     "output_type": "stream",
     "text": [
      "torch.Size([64, 1, 64, 64])\n",
      "torch.Size([64, 1, 64, 64])\n",
      "recon is nan:\n",
      "0\n",
      "43.403805\n",
      "mu is nan:\n",
      "0\n",
      "13.864412\n",
      "lnvar is nan:\n",
      "0\n",
      "-0.5951671\n",
      "data is nan:\n",
      "0\n",
      "913.0067\n",
      "tensor(4.7413e+10, grad_fn=<AddBackward0>)\n"
     ]
    },
    {
     "name": "stderr",
     "output_type": "stream",
     "text": [
      "\r",
      " 12%|█▏        | 44/378 [04:30<34:27,  6.19s/it]"
     ]
    },
    {
     "name": "stdout",
     "output_type": "stream",
     "text": [
      "torch.Size([64, 1, 64, 64])\n",
      "torch.Size([64, 1, 64, 64])\n",
      "recon is nan:\n",
      "0\n",
      "46.070164\n",
      "mu is nan:\n",
      "0\n",
      "14.032732\n",
      "lnvar is nan:\n",
      "0\n",
      "0.42368037\n",
      "data is nan:\n",
      "0\n",
      "948.66815\n",
      "tensor(4.6960e+10, grad_fn=<AddBackward0>)\n"
     ]
    },
    {
     "name": "stderr",
     "output_type": "stream",
     "text": [
      "\r",
      " 12%|█▏        | 45/378 [04:37<34:21,  6.19s/it]"
     ]
    },
    {
     "name": "stdout",
     "output_type": "stream",
     "text": [
      "torch.Size([64, 1, 64, 64])\n",
      "torch.Size([64, 1, 64, 64])\n",
      "recon is nan:\n",
      "0\n",
      "46.627735\n",
      "mu is nan:\n",
      "0\n",
      "11.850702\n",
      "lnvar is nan:\n",
      "0\n",
      "-1.0520267\n",
      "data is nan:\n",
      "0\n",
      "948.9397\n",
      "tensor(4.9289e+10, grad_fn=<AddBackward0>)\n"
     ]
    },
    {
     "name": "stderr",
     "output_type": "stream",
     "text": [
      "\r",
      " 12%|█▏        | 46/378 [04:43<34:11,  6.18s/it]"
     ]
    },
    {
     "name": "stdout",
     "output_type": "stream",
     "text": [
      "torch.Size([64, 1, 64, 64])\n",
      "torch.Size([64, 1, 64, 64])\n",
      "recon is nan:\n",
      "0\n",
      "47.692303\n",
      "mu is nan:\n",
      "0\n",
      "13.602205\n",
      "lnvar is nan:\n",
      "0\n",
      "-1.0123708\n",
      "data is nan:\n",
      "0\n",
      "929.3108\n",
      "tensor(4.9276e+10, grad_fn=<AddBackward0>)\n"
     ]
    },
    {
     "name": "stderr",
     "output_type": "stream",
     "text": [
      "\r",
      " 12%|█▏        | 47/378 [04:49<34:11,  6.20s/it]"
     ]
    },
    {
     "name": "stdout",
     "output_type": "stream",
     "text": [
      "torch.Size([64, 1, 64, 64])\n",
      "torch.Size([64, 1, 64, 64])\n",
      "recon is nan:\n",
      "0\n",
      "47.77253\n",
      "mu is nan:\n",
      "0\n",
      "12.532942\n",
      "lnvar is nan:\n",
      "0\n",
      "0.17336142\n",
      "data is nan:\n",
      "0\n",
      "967.0897\n",
      "tensor(4.7850e+10, grad_fn=<AddBackward0>)\n"
     ]
    },
    {
     "name": "stderr",
     "output_type": "stream",
     "text": [
      "\r",
      " 13%|█▎        | 48/378 [04:55<34:06,  6.20s/it]"
     ]
    },
    {
     "name": "stdout",
     "output_type": "stream",
     "text": [
      "torch.Size([64, 1, 64, 64])\n",
      "torch.Size([64, 1, 64, 64])\n",
      "recon is nan:\n",
      "0\n",
      "45.838528\n",
      "mu is nan:\n",
      "0\n",
      "12.888046\n",
      "lnvar is nan:\n",
      "0\n",
      "0.8809464\n",
      "data is nan:\n",
      "0\n",
      "954.81445\n",
      "tensor(4.7588e+10, grad_fn=<AddBackward0>)\n"
     ]
    },
    {
     "name": "stderr",
     "output_type": "stream",
     "text": [
      "\r",
      " 13%|█▎        | 49/378 [05:02<34:06,  6.22s/it]"
     ]
    },
    {
     "name": "stdout",
     "output_type": "stream",
     "text": [
      "torch.Size([64, 1, 64, 64])\n",
      "torch.Size([64, 1, 64, 64])\n",
      "recon is nan:\n",
      "0\n",
      "41.65903\n",
      "mu is nan:\n",
      "0\n",
      "11.63182\n",
      "lnvar is nan:\n",
      "0\n",
      "-0.87621546\n",
      "data is nan:\n",
      "0\n",
      "948.0488\n",
      "tensor(4.8998e+10, grad_fn=<AddBackward0>)\n"
     ]
    },
    {
     "name": "stderr",
     "output_type": "stream",
     "text": [
      "\r",
      " 13%|█▎        | 50/378 [05:11<38:40,  7.08s/it]"
     ]
    },
    {
     "name": "stdout",
     "output_type": "stream",
     "text": [
      "torch.Size([64, 1, 64, 64])\n",
      "torch.Size([64, 1, 64, 64])\n",
      "recon is nan:\n",
      "0\n",
      "45.536476\n",
      "mu is nan:\n",
      "0\n",
      "11.230423\n",
      "lnvar is nan:\n",
      "0\n",
      "0.11894551\n",
      "data is nan:\n",
      "0\n",
      "932.7588\n",
      "tensor(4.7251e+10, grad_fn=<AddBackward0>)\n"
     ]
    },
    {
     "name": "stderr",
     "output_type": "stream",
     "text": [
      "\r",
      " 13%|█▎        | 51/378 [05:17<36:54,  6.77s/it]"
     ]
    },
    {
     "name": "stdout",
     "output_type": "stream",
     "text": [
      "torch.Size([64, 1, 64, 64])\n",
      "torch.Size([64, 1, 64, 64])\n",
      "recon is nan:\n",
      "0\n",
      "48.451607\n",
      "mu is nan:\n",
      "0\n",
      "11.224476\n",
      "lnvar is nan:\n",
      "0\n",
      "1.9799545\n",
      "data is nan:\n",
      "0\n",
      "983.05365\n",
      "tensor(5.1021e+10, grad_fn=<AddBackward0>)\n"
     ]
    },
    {
     "name": "stderr",
     "output_type": "stream",
     "text": [
      "\r",
      " 14%|█▍        | 52/378 [05:23<35:40,  6.57s/it]"
     ]
    },
    {
     "name": "stdout",
     "output_type": "stream",
     "text": [
      "torch.Size([64, 1, 64, 64])\n",
      "torch.Size([64, 1, 64, 64])\n",
      "recon is nan:\n",
      "0\n",
      "52.81819\n",
      "mu is nan:\n",
      "0\n",
      "11.261612\n",
      "lnvar is nan:\n",
      "0\n",
      "2.2180882\n",
      "data is nan:\n",
      "0\n",
      "965.61945\n",
      "tensor(4.2264e+10, grad_fn=<AddBackward0>)\n"
     ]
    },
    {
     "name": "stderr",
     "output_type": "stream",
     "text": [
      "\r",
      " 14%|█▍        | 53/378 [05:29<34:36,  6.39s/it]"
     ]
    },
    {
     "name": "stdout",
     "output_type": "stream",
     "text": [
      "torch.Size([64, 1, 64, 64])\n",
      "torch.Size([64, 1, 64, 64])\n",
      "recon is nan:\n",
      "0\n",
      "44.756836\n",
      "mu is nan:\n",
      "0\n",
      "9.691036\n",
      "lnvar is nan:\n",
      "0\n",
      "-0.33696795\n",
      "data is nan:\n",
      "0\n",
      "903.55743\n",
      "tensor(4.6430e+10, grad_fn=<AddBackward0>)\n"
     ]
    },
    {
     "name": "stderr",
     "output_type": "stream",
     "text": [
      "\r",
      " 14%|█▍        | 54/378 [05:35<33:57,  6.29s/it]"
     ]
    },
    {
     "name": "stdout",
     "output_type": "stream",
     "text": [
      "torch.Size([64, 1, 64, 64])\n",
      "torch.Size([64, 1, 64, 64])\n",
      "recon is nan:\n",
      "0\n",
      "49.940994\n",
      "mu is nan:\n",
      "0\n",
      "10.0659685\n",
      "lnvar is nan:\n",
      "0\n",
      "0.18701571\n",
      "data is nan:\n",
      "0\n",
      "905.20935\n",
      "tensor(4.8298e+10, grad_fn=<AddBackward0>)\n"
     ]
    },
    {
     "name": "stderr",
     "output_type": "stream",
     "text": [
      "\r",
      " 15%|█▍        | 55/378 [05:41<33:24,  6.21s/it]"
     ]
    },
    {
     "name": "stdout",
     "output_type": "stream",
     "text": [
      "torch.Size([64, 1, 64, 64])\n",
      "torch.Size([64, 1, 64, 64])\n",
      "recon is nan:\n",
      "0\n",
      "51.78253\n",
      "mu is nan:\n",
      "0\n",
      "10.897004\n",
      "lnvar is nan:\n",
      "0\n",
      "-0.6235138\n",
      "data is nan:\n",
      "0\n",
      "960.32227\n",
      "tensor(4.6092e+10, grad_fn=<AddBackward0>)\n"
     ]
    },
    {
     "name": "stderr",
     "output_type": "stream",
     "text": [
      "\r",
      " 15%|█▍        | 56/378 [05:47<32:58,  6.14s/it]"
     ]
    },
    {
     "name": "stdout",
     "output_type": "stream",
     "text": [
      "torch.Size([64, 1, 64, 64])\n",
      "torch.Size([64, 1, 64, 64])\n",
      "recon is nan:\n",
      "0\n",
      "52.134773\n",
      "mu is nan:\n",
      "0\n",
      "11.980452\n",
      "lnvar is nan:\n",
      "0\n",
      "-0.55997354\n",
      "data is nan:\n",
      "0\n",
      "908.4066\n",
      "tensor(4.4485e+10, grad_fn=<AddBackward0>)\n"
     ]
    },
    {
     "name": "stderr",
     "output_type": "stream",
     "text": [
      "\r",
      " 15%|█▌        | 57/378 [05:53<32:40,  6.11s/it]"
     ]
    },
    {
     "name": "stdout",
     "output_type": "stream",
     "text": [
      "torch.Size([64, 1, 64, 64])\n",
      "torch.Size([64, 1, 64, 64])\n",
      "recon is nan:\n",
      "0\n",
      "52.937054\n",
      "mu is nan:\n",
      "0\n",
      "10.9179945\n",
      "lnvar is nan:\n",
      "0\n",
      "-0.23662375\n",
      "data is nan:\n",
      "0\n",
      "956.2264\n",
      "tensor(4.7426e+10, grad_fn=<AddBackward0>)\n"
     ]
    },
    {
     "name": "stderr",
     "output_type": "stream",
     "text": [
      "\r",
      " 15%|█▌        | 58/378 [05:59<32:26,  6.08s/it]"
     ]
    },
    {
     "name": "stdout",
     "output_type": "stream",
     "text": [
      "torch.Size([64, 1, 64, 64])\n",
      "torch.Size([64, 1, 64, 64])\n",
      "recon is nan:\n",
      "0\n",
      "54.210796\n",
      "mu is nan:\n",
      "0\n",
      "11.988414\n",
      "lnvar is nan:\n",
      "0\n",
      "-0.20847936\n",
      "data is nan:\n",
      "0\n",
      "949.6075\n",
      "tensor(4.6880e+10, grad_fn=<AddBackward0>)\n"
     ]
    },
    {
     "name": "stderr",
     "output_type": "stream",
     "text": [
      "\r",
      " 16%|█▌        | 59/378 [06:05<32:19,  6.08s/it]"
     ]
    },
    {
     "name": "stdout",
     "output_type": "stream",
     "text": [
      "torch.Size([64, 1, 64, 64])\n",
      "torch.Size([64, 1, 64, 64])\n",
      "recon is nan:\n",
      "0\n",
      "52.036766\n",
      "mu is nan:\n",
      "0\n",
      "12.280578\n",
      "lnvar is nan:\n",
      "0\n",
      "0.18318821\n",
      "data is nan:\n",
      "0\n",
      "970.22314\n",
      "tensor(4.9880e+10, grad_fn=<AddBackward0>)\n"
     ]
    },
    {
     "name": "stderr",
     "output_type": "stream",
     "text": [
      "\r",
      " 16%|█▌        | 60/378 [06:11<32:09,  6.07s/it]"
     ]
    },
    {
     "name": "stdout",
     "output_type": "stream",
     "text": [
      "torch.Size([64, 1, 64, 64])\n",
      "torch.Size([64, 1, 64, 64])\n",
      "recon is nan:\n",
      "0\n",
      "52.93664\n",
      "mu is nan:\n",
      "0\n",
      "12.567917\n",
      "lnvar is nan:\n",
      "0\n",
      "-0.04884821\n",
      "data is nan:\n",
      "0\n",
      "982.0385\n",
      "tensor(4.8392e+10, grad_fn=<AddBackward0>)\n"
     ]
    },
    {
     "name": "stderr",
     "output_type": "stream",
     "text": [
      "\r",
      " 16%|█▌        | 61/378 [06:17<32:06,  6.08s/it]"
     ]
    },
    {
     "name": "stdout",
     "output_type": "stream",
     "text": [
      "torch.Size([64, 1, 64, 64])\n",
      "torch.Size([64, 1, 64, 64])\n",
      "recon is nan:\n",
      "0\n",
      "55.309196\n",
      "mu is nan:\n",
      "0\n",
      "13.373742\n",
      "lnvar is nan:\n",
      "0\n",
      "-0.36158112\n",
      "data is nan:\n",
      "0\n",
      "1014.6969\n",
      "tensor(4.3296e+10, grad_fn=<AddBackward0>)\n"
     ]
    },
    {
     "name": "stderr",
     "output_type": "stream",
     "text": [
      "\r",
      " 16%|█▋        | 62/378 [06:23<32:03,  6.09s/it]"
     ]
    },
    {
     "name": "stdout",
     "output_type": "stream",
     "text": [
      "torch.Size([64, 1, 64, 64])\n",
      "torch.Size([64, 1, 64, 64])\n",
      "recon is nan:\n",
      "0\n",
      "53.071297\n",
      "mu is nan:\n",
      "0\n",
      "13.228284\n",
      "lnvar is nan:\n",
      "0\n",
      "-0.23699257\n",
      "data is nan:\n",
      "0\n",
      "956.99835\n",
      "tensor(4.4661e+10, grad_fn=<AddBackward0>)\n"
     ]
    },
    {
     "name": "stderr",
     "output_type": "stream",
     "text": [
      "\r",
      " 17%|█▋        | 63/378 [06:29<32:05,  6.11s/it]"
     ]
    },
    {
     "name": "stdout",
     "output_type": "stream",
     "text": [
      "torch.Size([64, 1, 64, 64])\n",
      "torch.Size([64, 1, 64, 64])\n",
      "recon is nan:\n",
      "0\n",
      "52.23503\n",
      "mu is nan:\n",
      "0\n",
      "13.229555\n",
      "lnvar is nan:\n",
      "0\n",
      "-0.5914151\n",
      "data is nan:\n",
      "0\n",
      "950.8769\n",
      "tensor(4.7227e+10, grad_fn=<AddBackward0>)\n"
     ]
    },
    {
     "name": "stderr",
     "output_type": "stream",
     "text": [
      "\r",
      " 17%|█▋        | 64/378 [06:35<31:54,  6.10s/it]"
     ]
    },
    {
     "name": "stdout",
     "output_type": "stream",
     "text": [
      "torch.Size([64, 1, 64, 64])\n",
      "torch.Size([64, 1, 64, 64])\n",
      "recon is nan:\n",
      "0\n",
      "59.402588\n",
      "mu is nan:\n",
      "0\n",
      "14.291256\n",
      "lnvar is nan:\n",
      "0\n",
      "-0.68491673\n",
      "data is nan:\n",
      "0\n",
      "1015.9686\n",
      "tensor(4.4126e+10, grad_fn=<AddBackward0>)\n"
     ]
    },
    {
     "name": "stderr",
     "output_type": "stream",
     "text": [
      "\r",
      " 17%|█▋        | 65/378 [06:42<31:47,  6.10s/it]"
     ]
    },
    {
     "name": "stdout",
     "output_type": "stream",
     "text": [
      "torch.Size([64, 1, 64, 64])\n",
      "torch.Size([64, 1, 64, 64])\n",
      "recon is nan:\n",
      "0\n",
      "63.555843\n",
      "mu is nan:\n",
      "0\n",
      "13.138383\n",
      "lnvar is nan:\n",
      "0\n",
      "-0.33430722\n",
      "data is nan:\n",
      "0\n",
      "993.19434\n",
      "tensor(4.8133e+10, grad_fn=<AddBackward0>)\n"
     ]
    },
    {
     "name": "stderr",
     "output_type": "stream",
     "text": [
      "\r",
      " 17%|█▋        | 66/378 [06:48<31:34,  6.07s/it]"
     ]
    },
    {
     "name": "stdout",
     "output_type": "stream",
     "text": [
      "torch.Size([64, 1, 64, 64])\n",
      "torch.Size([64, 1, 64, 64])\n",
      "recon is nan:\n",
      "0\n",
      "62.406696\n",
      "mu is nan:\n",
      "0\n",
      "13.35417\n",
      "lnvar is nan:\n",
      "0\n",
      "-0.68701625\n",
      "data is nan:\n",
      "0\n",
      "958.80005\n",
      "tensor(4.5409e+10, grad_fn=<AddBackward0>)\n"
     ]
    },
    {
     "name": "stderr",
     "output_type": "stream",
     "text": [
      "\r",
      " 18%|█▊        | 67/378 [06:54<31:29,  6.08s/it]"
     ]
    },
    {
     "name": "stdout",
     "output_type": "stream",
     "text": [
      "torch.Size([64, 1, 64, 64])\n",
      "torch.Size([64, 1, 64, 64])\n",
      "recon is nan:\n",
      "0\n",
      "65.76754\n",
      "mu is nan:\n",
      "0\n",
      "12.378125\n",
      "lnvar is nan:\n",
      "0\n",
      "-0.736849\n",
      "data is nan:\n",
      "0\n",
      "941.6552\n",
      "tensor(4.8396e+10, grad_fn=<AddBackward0>)\n"
     ]
    },
    {
     "name": "stderr",
     "output_type": "stream",
     "text": [
      "\r",
      " 18%|█▊        | 68/378 [07:00<31:20,  6.07s/it]"
     ]
    },
    {
     "name": "stdout",
     "output_type": "stream",
     "text": [
      "torch.Size([64, 1, 64, 64])\n",
      "torch.Size([64, 1, 64, 64])\n",
      "recon is nan:\n",
      "0\n",
      "67.21739\n",
      "mu is nan:\n",
      "0\n",
      "12.947643\n",
      "lnvar is nan:\n",
      "0\n",
      "-0.618332\n",
      "data is nan:\n",
      "0\n",
      "1015.9752\n",
      "tensor(5.0296e+10, grad_fn=<AddBackward0>)\n"
     ]
    },
    {
     "name": "stderr",
     "output_type": "stream",
     "text": [
      "\r",
      " 18%|█▊        | 69/378 [07:06<31:13,  6.06s/it]"
     ]
    },
    {
     "name": "stdout",
     "output_type": "stream",
     "text": [
      "torch.Size([64, 1, 64, 64])\n",
      "torch.Size([64, 1, 64, 64])\n",
      "recon is nan:\n",
      "0\n",
      "60.84423\n",
      "mu is nan:\n",
      "0\n",
      "13.388163\n",
      "lnvar is nan:\n",
      "0\n",
      "0.58583856\n",
      "data is nan:\n",
      "0\n",
      "973.6555\n",
      "tensor(4.5773e+10, grad_fn=<AddBackward0>)\n"
     ]
    },
    {
     "name": "stderr",
     "output_type": "stream",
     "text": [
      "\r",
      " 19%|█▊        | 70/378 [07:12<31:09,  6.07s/it]"
     ]
    },
    {
     "name": "stdout",
     "output_type": "stream",
     "text": [
      "torch.Size([64, 1, 64, 64])\n",
      "torch.Size([64, 1, 64, 64])\n",
      "recon is nan:\n",
      "0\n",
      "60.357777\n",
      "mu is nan:\n",
      "0\n",
      "14.498981\n",
      "lnvar is nan:\n",
      "0\n",
      "-0.38595653\n",
      "data is nan:\n",
      "0\n",
      "968.5103\n",
      "tensor(5.0280e+10, grad_fn=<AddBackward0>)\n"
     ]
    },
    {
     "name": "stderr",
     "output_type": "stream",
     "text": [
      "\r",
      " 19%|█▉        | 71/378 [07:18<31:02,  6.07s/it]"
     ]
    },
    {
     "name": "stdout",
     "output_type": "stream",
     "text": [
      "torch.Size([64, 1, 64, 64])\n",
      "torch.Size([64, 1, 64, 64])\n",
      "recon is nan:\n",
      "0\n",
      "61.04794\n",
      "mu is nan:\n",
      "0\n",
      "13.265334\n",
      "lnvar is nan:\n",
      "0\n",
      "-0.4508823\n",
      "data is nan:\n",
      "0\n",
      "952.542\n",
      "tensor(5.0153e+10, grad_fn=<AddBackward0>)\n"
     ]
    },
    {
     "name": "stderr",
     "output_type": "stream",
     "text": [
      "\r",
      " 19%|█▉        | 72/378 [07:24<30:52,  6.06s/it]"
     ]
    },
    {
     "name": "stdout",
     "output_type": "stream",
     "text": [
      "torch.Size([64, 1, 64, 64])\n",
      "torch.Size([64, 1, 64, 64])\n",
      "recon is nan:\n",
      "0\n",
      "59.48794\n",
      "mu is nan:\n",
      "0\n",
      "13.911641\n",
      "lnvar is nan:\n",
      "0\n",
      "0.17640227\n",
      "data is nan:\n",
      "0\n",
      "905.6455\n",
      "tensor(4.7769e+10, grad_fn=<AddBackward0>)\n"
     ]
    },
    {
     "name": "stderr",
     "output_type": "stream",
     "text": [
      "\r",
      " 19%|█▉        | 73/378 [07:30<30:49,  6.06s/it]"
     ]
    },
    {
     "name": "stdout",
     "output_type": "stream",
     "text": [
      "torch.Size([64, 1, 64, 64])\n",
      "torch.Size([64, 1, 64, 64])\n",
      "recon is nan:\n",
      "0\n",
      "61.421\n",
      "mu is nan:\n",
      "0\n",
      "12.863295\n",
      "lnvar is nan:\n",
      "0\n",
      "0.360861\n",
      "data is nan:\n",
      "0\n",
      "902.7373\n",
      "tensor(4.7960e+10, grad_fn=<AddBackward0>)\n"
     ]
    },
    {
     "name": "stderr",
     "output_type": "stream",
     "text": [
      "\r",
      " 20%|█▉        | 74/378 [07:36<30:40,  6.05s/it]"
     ]
    },
    {
     "name": "stdout",
     "output_type": "stream",
     "text": [
      "torch.Size([64, 1, 64, 64])\n",
      "torch.Size([64, 1, 64, 64])\n",
      "recon is nan:\n",
      "0\n",
      "73.18609\n",
      "mu is nan:\n",
      "0\n",
      "15.671316\n",
      "lnvar is nan:\n",
      "0\n",
      "-0.42349637\n",
      "data is nan:\n",
      "0\n",
      "975.5349\n",
      "tensor(4.0315e+10, grad_fn=<AddBackward0>)\n"
     ]
    },
    {
     "name": "stderr",
     "output_type": "stream",
     "text": [
      "\r",
      " 20%|█▉        | 75/378 [07:42<30:29,  6.04s/it]"
     ]
    },
    {
     "name": "stdout",
     "output_type": "stream",
     "text": [
      "torch.Size([64, 1, 64, 64])\n",
      "torch.Size([64, 1, 64, 64])\n",
      "recon is nan:\n",
      "0\n",
      "72.64816\n",
      "mu is nan:\n",
      "0\n",
      "13.317329\n",
      "lnvar is nan:\n",
      "0\n",
      "-0.36633587\n",
      "data is nan:\n",
      "0\n",
      "924.9552\n",
      "tensor(4.4508e+10, grad_fn=<AddBackward0>)\n"
     ]
    },
    {
     "name": "stderr",
     "output_type": "stream",
     "text": [
      "\r",
      " 20%|██        | 76/378 [07:48<30:24,  6.04s/it]"
     ]
    },
    {
     "name": "stdout",
     "output_type": "stream",
     "text": [
      "torch.Size([64, 1, 64, 64])\n",
      "torch.Size([64, 1, 64, 64])\n",
      "recon is nan:\n",
      "0\n",
      "75.004776\n",
      "mu is nan:\n",
      "0\n",
      "14.909006\n",
      "lnvar is nan:\n",
      "0\n",
      "-0.69202644\n",
      "data is nan:\n",
      "0\n",
      "960.9137\n",
      "tensor(4.5655e+10, grad_fn=<AddBackward0>)\n"
     ]
    },
    {
     "name": "stderr",
     "output_type": "stream",
     "text": [
      "\r",
      " 20%|██        | 77/378 [07:54<30:19,  6.04s/it]"
     ]
    },
    {
     "name": "stdout",
     "output_type": "stream",
     "text": [
      "torch.Size([64, 1, 64, 64])\n",
      "torch.Size([64, 1, 64, 64])\n",
      "recon is nan:\n",
      "0\n",
      "69.69039\n",
      "mu is nan:\n",
      "0\n",
      "13.749252\n",
      "lnvar is nan:\n",
      "0\n",
      "-0.66827536\n",
      "data is nan:\n",
      "0\n",
      "922.1172\n",
      "tensor(4.7450e+10, grad_fn=<AddBackward0>)\n"
     ]
    },
    {
     "name": "stderr",
     "output_type": "stream",
     "text": [
      "\r",
      " 21%|██        | 78/378 [08:00<30:11,  6.04s/it]"
     ]
    },
    {
     "name": "stdout",
     "output_type": "stream",
     "text": [
      "torch.Size([64, 1, 64, 64])\n",
      "torch.Size([64, 1, 64, 64])\n",
      "recon is nan:\n",
      "0\n",
      "70.55667\n",
      "mu is nan:\n",
      "0\n",
      "12.629066\n",
      "lnvar is nan:\n",
      "0\n",
      "-0.10396236\n",
      "data is nan:\n",
      "0\n",
      "966.95435\n",
      "tensor(4.8379e+10, grad_fn=<AddBackward0>)\n"
     ]
    },
    {
     "name": "stderr",
     "output_type": "stream",
     "text": [
      "\r",
      " 21%|██        | 79/378 [08:06<30:05,  6.04s/it]"
     ]
    },
    {
     "name": "stdout",
     "output_type": "stream",
     "text": [
      "torch.Size([64, 1, 64, 64])\n",
      "torch.Size([64, 1, 64, 64])\n",
      "recon is nan:\n",
      "0\n",
      "67.47565\n",
      "mu is nan:\n",
      "0\n",
      "14.706689\n",
      "lnvar is nan:\n",
      "0\n",
      "-0.3977726\n",
      "data is nan:\n",
      "0\n",
      "992.0731\n",
      "tensor(4.5267e+10, grad_fn=<AddBackward0>)\n"
     ]
    },
    {
     "name": "stderr",
     "output_type": "stream",
     "text": [
      "\r",
      " 21%|██        | 80/378 [08:12<30:00,  6.04s/it]"
     ]
    },
    {
     "name": "stdout",
     "output_type": "stream",
     "text": [
      "torch.Size([64, 1, 64, 64])\n",
      "torch.Size([64, 1, 64, 64])\n",
      "recon is nan:\n",
      "0\n",
      "69.50727\n",
      "mu is nan:\n",
      "0\n",
      "15.691267\n",
      "lnvar is nan:\n",
      "0\n",
      "-0.5007841\n",
      "data is nan:\n",
      "0\n",
      "953.9007\n",
      "tensor(4.6078e+10, grad_fn=<AddBackward0>)\n"
     ]
    },
    {
     "name": "stderr",
     "output_type": "stream",
     "text": [
      "\r",
      " 21%|██▏       | 81/378 [08:18<29:56,  6.05s/it]"
     ]
    },
    {
     "name": "stdout",
     "output_type": "stream",
     "text": [
      "torch.Size([64, 1, 64, 64])\n",
      "torch.Size([64, 1, 64, 64])\n",
      "recon is nan:\n",
      "0\n",
      "68.001884\n",
      "mu is nan:\n",
      "0\n",
      "13.226966\n",
      "lnvar is nan:\n",
      "0\n",
      "0.20344728\n",
      "data is nan:\n",
      "0\n",
      "996.4923\n",
      "tensor(4.4490e+10, grad_fn=<AddBackward0>)\n"
     ]
    },
    {
     "name": "stderr",
     "output_type": "stream",
     "text": [
      "\r",
      " 22%|██▏       | 82/378 [08:24<29:49,  6.05s/it]"
     ]
    },
    {
     "name": "stdout",
     "output_type": "stream",
     "text": [
      "torch.Size([64, 1, 64, 64])\n",
      "torch.Size([64, 1, 64, 64])\n",
      "recon is nan:\n",
      "0\n",
      "69.37757\n",
      "mu is nan:\n",
      "0\n",
      "12.19215\n",
      "lnvar is nan:\n",
      "0\n",
      "1.2498193\n",
      "data is nan:\n",
      "0\n",
      "934.6789\n",
      "tensor(5.0543e+10, grad_fn=<AddBackward0>)\n"
     ]
    },
    {
     "name": "stderr",
     "output_type": "stream",
     "text": [
      "\r",
      " 22%|██▏       | 83/378 [08:31<30:04,  6.12s/it]"
     ]
    },
    {
     "name": "stdout",
     "output_type": "stream",
     "text": [
      "torch.Size([64, 1, 64, 64])\n",
      "torch.Size([64, 1, 64, 64])\n",
      "recon is nan:\n",
      "0\n",
      "76.322784\n",
      "mu is nan:\n",
      "0\n",
      "15.2769985\n",
      "lnvar is nan:\n",
      "0\n",
      "-0.7701495\n",
      "data is nan:\n",
      "0\n",
      "982.73773\n",
      "tensor(4.6936e+10, grad_fn=<AddBackward0>)\n"
     ]
    },
    {
     "name": "stderr",
     "output_type": "stream",
     "text": [
      "\r",
      " 22%|██▏       | 84/378 [08:37<29:51,  6.09s/it]"
     ]
    },
    {
     "name": "stdout",
     "output_type": "stream",
     "text": [
      "torch.Size([64, 1, 64, 64])\n",
      "torch.Size([64, 1, 64, 64])\n",
      "recon is nan:\n",
      "0\n",
      "71.415634\n",
      "mu is nan:\n",
      "0\n",
      "12.78493\n",
      "lnvar is nan:\n",
      "0\n",
      "-0.7157568\n",
      "data is nan:\n",
      "0\n",
      "943.5089\n",
      "tensor(4.4851e+10, grad_fn=<AddBackward0>)\n"
     ]
    },
    {
     "name": "stderr",
     "output_type": "stream",
     "text": [
      "\r",
      " 22%|██▏       | 85/378 [08:43<29:41,  6.08s/it]"
     ]
    },
    {
     "name": "stdout",
     "output_type": "stream",
     "text": [
      "torch.Size([64, 1, 64, 64])\n",
      "torch.Size([64, 1, 64, 64])\n",
      "recon is nan:\n",
      "0\n",
      "83.47792\n",
      "mu is nan:\n",
      "0\n",
      "13.9566555\n",
      "lnvar is nan:\n",
      "0\n",
      "-0.8531792\n",
      "data is nan:\n",
      "0\n",
      "949.88184\n",
      "tensor(4.1425e+10, grad_fn=<AddBackward0>)\n"
     ]
    },
    {
     "name": "stderr",
     "output_type": "stream",
     "text": [
      "\r",
      " 23%|██▎       | 86/378 [08:49<29:29,  6.06s/it]"
     ]
    },
    {
     "name": "stdout",
     "output_type": "stream",
     "text": [
      "torch.Size([64, 1, 64, 64])\n",
      "torch.Size([64, 1, 64, 64])\n",
      "recon is nan:\n",
      "0\n",
      "72.71672\n",
      "mu is nan:\n",
      "0\n",
      "13.375984\n",
      "lnvar is nan:\n",
      "0\n",
      "-1.1241549\n",
      "data is nan:\n",
      "0\n",
      "963.45044\n",
      "tensor(4.6259e+10, grad_fn=<AddBackward0>)\n"
     ]
    },
    {
     "name": "stderr",
     "output_type": "stream",
     "text": [
      "\r",
      " 23%|██▎       | 87/378 [08:55<29:21,  6.05s/it]"
     ]
    },
    {
     "name": "stdout",
     "output_type": "stream",
     "text": [
      "torch.Size([64, 1, 64, 64])\n",
      "torch.Size([64, 1, 64, 64])\n",
      "recon is nan:\n",
      "0\n",
      "72.42988\n",
      "mu is nan:\n",
      "0\n",
      "20.578838\n",
      "lnvar is nan:\n",
      "0\n",
      "-0.73861945\n",
      "data is nan:\n",
      "0\n",
      "956.5912\n",
      "tensor(4.4568e+10, grad_fn=<AddBackward0>)\n"
     ]
    },
    {
     "name": "stderr",
     "output_type": "stream",
     "text": [
      "\r",
      " 23%|██▎       | 88/378 [09:01<29:11,  6.04s/it]"
     ]
    },
    {
     "name": "stdout",
     "output_type": "stream",
     "text": [
      "torch.Size([64, 1, 64, 64])\n",
      "torch.Size([64, 1, 64, 64])\n",
      "recon is nan:\n",
      "0\n",
      "69.94074\n",
      "mu is nan:\n",
      "0\n",
      "12.275993\n",
      "lnvar is nan:\n",
      "0\n",
      "-1.6793457\n",
      "data is nan:\n",
      "0\n",
      "954.43823\n",
      "tensor(4.9209e+10, grad_fn=<AddBackward0>)\n"
     ]
    },
    {
     "name": "stderr",
     "output_type": "stream",
     "text": [
      "\r",
      " 24%|██▎       | 89/378 [09:07<29:01,  6.02s/it]"
     ]
    },
    {
     "name": "stdout",
     "output_type": "stream",
     "text": [
      "torch.Size([64, 1, 64, 64])\n",
      "torch.Size([64, 1, 64, 64])\n",
      "recon is nan:\n",
      "0\n",
      "68.00949\n",
      "mu is nan:\n",
      "0\n",
      "15.454369\n",
      "lnvar is nan:\n",
      "0\n",
      "-0.97972\n",
      "data is nan:\n",
      "0\n",
      "947.89594\n",
      "tensor(4.4469e+10, grad_fn=<AddBackward0>)\n"
     ]
    },
    {
     "name": "stderr",
     "output_type": "stream",
     "text": [
      "\r",
      " 24%|██▍       | 90/378 [09:13<29:00,  6.04s/it]"
     ]
    },
    {
     "name": "stdout",
     "output_type": "stream",
     "text": [
      "torch.Size([64, 1, 64, 64])\n",
      "torch.Size([64, 1, 64, 64])\n",
      "recon is nan:\n",
      "0\n",
      "71.658745\n",
      "mu is nan:\n",
      "0\n",
      "12.263582\n",
      "lnvar is nan:\n",
      "0\n",
      "-0.6179673\n",
      "data is nan:\n",
      "0\n",
      "983.0716\n",
      "tensor(4.5839e+10, grad_fn=<AddBackward0>)\n"
     ]
    },
    {
     "name": "stderr",
     "output_type": "stream",
     "text": [
      "\r",
      " 24%|██▍       | 91/378 [09:19<28:55,  6.05s/it]"
     ]
    },
    {
     "name": "stdout",
     "output_type": "stream",
     "text": [
      "torch.Size([64, 1, 64, 64])\n",
      "torch.Size([64, 1, 64, 64])\n",
      "recon is nan:\n",
      "0\n",
      "76.530205\n",
      "mu is nan:\n",
      "0\n",
      "13.33728\n",
      "lnvar is nan:\n",
      "0\n",
      "1.4402131\n",
      "data is nan:\n",
      "0\n",
      "996.8802\n",
      "tensor(4.5839e+10, grad_fn=<AddBackward0>)\n"
     ]
    },
    {
     "name": "stderr",
     "output_type": "stream",
     "text": [
      "\r",
      " 24%|██▍       | 92/378 [09:25<28:58,  6.08s/it]"
     ]
    },
    {
     "name": "stdout",
     "output_type": "stream",
     "text": [
      "torch.Size([64, 1, 64, 64])\n",
      "torch.Size([64, 1, 64, 64])\n",
      "recon is nan:\n",
      "0\n",
      "79.42512\n",
      "mu is nan:\n",
      "0\n",
      "13.050129\n",
      "lnvar is nan:\n",
      "0\n",
      "-1.008447\n",
      "data is nan:\n",
      "0\n",
      "973.3341\n",
      "tensor(4.5531e+10, grad_fn=<AddBackward0>)\n"
     ]
    },
    {
     "name": "stderr",
     "output_type": "stream",
     "text": [
      "\r",
      " 25%|██▍       | 93/378 [09:31<29:05,  6.13s/it]"
     ]
    },
    {
     "name": "stdout",
     "output_type": "stream",
     "text": [
      "torch.Size([64, 1, 64, 64])\n",
      "torch.Size([64, 1, 64, 64])\n",
      "recon is nan:\n",
      "0\n",
      "85.296486\n",
      "mu is nan:\n",
      "0\n",
      "13.224063\n",
      "lnvar is nan:\n",
      "0\n",
      "-1.2571039\n",
      "data is nan:\n",
      "0\n",
      "947.4546\n",
      "tensor(4.5510e+10, grad_fn=<AddBackward0>)\n"
     ]
    },
    {
     "name": "stderr",
     "output_type": "stream",
     "text": [
      "\r",
      " 25%|██▍       | 94/378 [09:37<29:01,  6.13s/it]"
     ]
    },
    {
     "name": "stdout",
     "output_type": "stream",
     "text": [
      "torch.Size([64, 1, 64, 64])\n",
      "torch.Size([64, 1, 64, 64])\n",
      "recon is nan:\n",
      "0\n",
      "83.96218\n",
      "mu is nan:\n",
      "0\n",
      "15.116199\n",
      "lnvar is nan:\n",
      "0\n",
      "1.0790973\n",
      "data is nan:\n",
      "0\n",
      "944.4548\n",
      "tensor(4.4540e+10, grad_fn=<AddBackward0>)\n"
     ]
    },
    {
     "name": "stderr",
     "output_type": "stream",
     "text": [
      "\r",
      " 25%|██▌       | 95/378 [09:43<28:46,  6.10s/it]"
     ]
    },
    {
     "name": "stdout",
     "output_type": "stream",
     "text": [
      "torch.Size([64, 1, 64, 64])\n",
      "torch.Size([64, 1, 64, 64])\n",
      "recon is nan:\n",
      "0\n",
      "76.71813\n",
      "mu is nan:\n",
      "0\n",
      "12.182963\n",
      "lnvar is nan:\n",
      "0\n",
      "-1.4553587\n",
      "data is nan:\n",
      "0\n",
      "972.5785\n",
      "tensor(4.8190e+10, grad_fn=<AddBackward0>)\n"
     ]
    },
    {
     "name": "stderr",
     "output_type": "stream",
     "text": [
      "\r",
      " 25%|██▌       | 96/378 [09:49<28:35,  6.08s/it]"
     ]
    },
    {
     "name": "stdout",
     "output_type": "stream",
     "text": [
      "torch.Size([64, 1, 64, 64])\n",
      "torch.Size([64, 1, 64, 64])\n",
      "recon is nan:\n",
      "0\n",
      "82.71434\n",
      "mu is nan:\n",
      "0\n",
      "13.366267\n",
      "lnvar is nan:\n",
      "0\n",
      "0.7623532\n",
      "data is nan:\n",
      "0\n",
      "942.0846\n",
      "tensor(4.7506e+10, grad_fn=<AddBackward0>)\n"
     ]
    },
    {
     "name": "stderr",
     "output_type": "stream",
     "text": [
      "\r",
      " 26%|██▌       | 97/378 [09:56<28:24,  6.07s/it]"
     ]
    },
    {
     "name": "stdout",
     "output_type": "stream",
     "text": [
      "torch.Size([64, 1, 64, 64])\n",
      "torch.Size([64, 1, 64, 64])\n",
      "recon is nan:\n",
      "0\n",
      "80.25442\n",
      "mu is nan:\n",
      "0\n",
      "13.595764\n",
      "lnvar is nan:\n",
      "0\n",
      "-1.9963021\n",
      "data is nan:\n",
      "0\n",
      "1010.6501\n",
      "tensor(4.5682e+10, grad_fn=<AddBackward0>)\n"
     ]
    },
    {
     "name": "stderr",
     "output_type": "stream",
     "text": [
      "\r",
      " 26%|██▌       | 98/378 [10:02<28:17,  6.06s/it]"
     ]
    },
    {
     "name": "stdout",
     "output_type": "stream",
     "text": [
      "torch.Size([64, 1, 64, 64])\n",
      "torch.Size([64, 1, 64, 64])\n",
      "recon is nan:\n",
      "0\n",
      "87.55935\n",
      "mu is nan:\n",
      "0\n",
      "12.588581\n",
      "lnvar is nan:\n",
      "0\n",
      "-1.4198284\n",
      "data is nan:\n",
      "0\n",
      "969.0838\n",
      "tensor(4.4476e+10, grad_fn=<AddBackward0>)\n"
     ]
    },
    {
     "name": "stderr",
     "output_type": "stream",
     "text": [
      "\r",
      " 26%|██▌       | 99/378 [10:08<28:09,  6.06s/it]"
     ]
    },
    {
     "name": "stdout",
     "output_type": "stream",
     "text": [
      "torch.Size([64, 1, 64, 64])\n",
      "torch.Size([64, 1, 64, 64])\n",
      "recon is nan:\n",
      "0\n",
      "82.207344\n",
      "mu is nan:\n",
      "0\n",
      "13.895509\n",
      "lnvar is nan:\n",
      "0\n",
      "-1.5419981\n",
      "data is nan:\n",
      "0\n",
      "983.03467\n",
      "tensor(4.4730e+10, grad_fn=<AddBackward0>)\n"
     ]
    },
    {
     "name": "stderr",
     "output_type": "stream",
     "text": [
      "\r",
      " 26%|██▋       | 100/378 [10:14<28:01,  6.05s/it]"
     ]
    },
    {
     "name": "stdout",
     "output_type": "stream",
     "text": [
      "torch.Size([64, 1, 64, 64])\n",
      "torch.Size([64, 1, 64, 64])\n",
      "recon is nan:\n",
      "0\n",
      "88.12714\n",
      "mu is nan:\n",
      "0\n",
      "13.012419\n",
      "lnvar is nan:\n",
      "0\n",
      "-2.0630078\n",
      "data is nan:\n",
      "0\n",
      "930.83484\n",
      "tensor(4.4208e+10, grad_fn=<AddBackward0>)\n"
     ]
    },
    {
     "name": "stderr",
     "output_type": "stream",
     "text": [
      "\r",
      " 27%|██▋       | 101/378 [10:20<27:51,  6.03s/it]"
     ]
    },
    {
     "name": "stdout",
     "output_type": "stream",
     "text": [
      "torch.Size([64, 1, 64, 64])\n",
      "torch.Size([64, 1, 64, 64])\n",
      "recon is nan:\n",
      "0\n",
      "78.556725\n",
      "mu is nan:\n",
      "0\n",
      "12.988335\n",
      "lnvar is nan:\n",
      "0\n",
      "-1.2857391\n",
      "data is nan:\n",
      "0\n",
      "909.3695\n",
      "tensor(4.6224e+10, grad_fn=<AddBackward0>)\n"
     ]
    },
    {
     "name": "stderr",
     "output_type": "stream",
     "text": [
      "\r",
      " 27%|██▋       | 102/378 [10:26<27:45,  6.03s/it]"
     ]
    },
    {
     "name": "stdout",
     "output_type": "stream",
     "text": [
      "torch.Size([64, 1, 64, 64])\n",
      "torch.Size([64, 1, 64, 64])\n",
      "recon is nan:\n",
      "0\n",
      "84.01437\n",
      "mu is nan:\n",
      "0\n",
      "12.796391\n",
      "lnvar is nan:\n",
      "0\n",
      "-1.4545692\n",
      "data is nan:\n",
      "0\n",
      "987.09766\n",
      "tensor(4.6539e+10, grad_fn=<AddBackward0>)\n"
     ]
    },
    {
     "name": "stderr",
     "output_type": "stream",
     "text": [
      "\r",
      " 27%|██▋       | 103/378 [10:32<27:36,  6.02s/it]"
     ]
    },
    {
     "name": "stdout",
     "output_type": "stream",
     "text": [
      "torch.Size([64, 1, 64, 64])\n",
      "torch.Size([64, 1, 64, 64])\n",
      "recon is nan:\n",
      "0\n",
      "84.679855\n",
      "mu is nan:\n",
      "0\n",
      "11.507489\n",
      "lnvar is nan:\n",
      "0\n",
      "-1.788357\n",
      "data is nan:\n",
      "0\n",
      "960.2899\n",
      "tensor(4.2274e+10, grad_fn=<AddBackward0>)\n"
     ]
    },
    {
     "name": "stderr",
     "output_type": "stream",
     "text": [
      "\r",
      " 28%|██▊       | 104/378 [10:38<27:28,  6.02s/it]"
     ]
    },
    {
     "name": "stdout",
     "output_type": "stream",
     "text": [
      "torch.Size([64, 1, 64, 64])\n",
      "torch.Size([64, 1, 64, 64])\n",
      "recon is nan:\n",
      "0\n",
      "88.15765\n",
      "mu is nan:\n",
      "0\n",
      "14.171738\n",
      "lnvar is nan:\n",
      "0\n",
      "-1.5993752\n",
      "data is nan:\n",
      "0\n",
      "945.1354\n",
      "tensor(4.5024e+10, grad_fn=<AddBackward0>)\n"
     ]
    },
    {
     "name": "stderr",
     "output_type": "stream",
     "text": [
      "\r",
      " 28%|██▊       | 105/378 [10:44<27:23,  6.02s/it]"
     ]
    },
    {
     "name": "stdout",
     "output_type": "stream",
     "text": [
      "torch.Size([64, 1, 64, 64])\n",
      "torch.Size([64, 1, 64, 64])\n",
      "recon is nan:\n",
      "0\n",
      "86.708176\n",
      "mu is nan:\n",
      "0\n",
      "12.678251\n",
      "lnvar is nan:\n",
      "0\n",
      "-2.2378101\n",
      "data is nan:\n",
      "0\n",
      "967.12256\n",
      "tensor(4.7125e+10, grad_fn=<AddBackward0>)\n"
     ]
    },
    {
     "name": "stderr",
     "output_type": "stream",
     "text": [
      "\r",
      " 28%|██▊       | 106/378 [10:50<27:16,  6.02s/it]"
     ]
    },
    {
     "name": "stdout",
     "output_type": "stream",
     "text": [
      "torch.Size([64, 1, 64, 64])\n",
      "torch.Size([64, 1, 64, 64])\n",
      "recon is nan:\n",
      "0\n",
      "90.88949\n",
      "mu is nan:\n",
      "0\n",
      "12.062912\n",
      "lnvar is nan:\n",
      "0\n",
      "-1.0993806\n",
      "data is nan:\n",
      "0\n",
      "940.0265\n",
      "tensor(4.5999e+10, grad_fn=<AddBackward0>)\n"
     ]
    },
    {
     "name": "stderr",
     "output_type": "stream",
     "text": [
      "\r",
      " 28%|██▊       | 107/378 [10:56<27:14,  6.03s/it]"
     ]
    },
    {
     "name": "stdout",
     "output_type": "stream",
     "text": [
      "torch.Size([64, 1, 64, 64])\n",
      "torch.Size([64, 1, 64, 64])\n",
      "recon is nan:\n",
      "0\n",
      "92.22929\n",
      "mu is nan:\n",
      "0\n",
      "16.380808\n",
      "lnvar is nan:\n",
      "0\n",
      "-2.362839\n",
      "data is nan:\n",
      "0\n",
      "967.6173\n",
      "tensor(4.8676e+10, grad_fn=<AddBackward0>)\n"
     ]
    },
    {
     "name": "stderr",
     "output_type": "stream",
     "text": [
      "\r",
      " 29%|██▊       | 108/378 [11:02<27:03,  6.01s/it]"
     ]
    },
    {
     "name": "stdout",
     "output_type": "stream",
     "text": [
      "torch.Size([64, 1, 64, 64])\n",
      "torch.Size([64, 1, 64, 64])\n",
      "recon is nan:\n",
      "0\n",
      "97.17872\n",
      "mu is nan:\n",
      "0\n",
      "12.387589\n",
      "lnvar is nan:\n",
      "0\n",
      "-0.08132231\n",
      "data is nan:\n",
      "0\n",
      "963.07367\n",
      "tensor(4.8521e+10, grad_fn=<AddBackward0>)\n"
     ]
    },
    {
     "name": "stderr",
     "output_type": "stream",
     "text": [
      "\r",
      " 29%|██▉       | 109/378 [11:08<27:00,  6.02s/it]"
     ]
    },
    {
     "name": "stdout",
     "output_type": "stream",
     "text": [
      "torch.Size([64, 1, 64, 64])\n",
      "torch.Size([64, 1, 64, 64])\n",
      "recon is nan:\n",
      "0\n",
      "98.33158\n",
      "mu is nan:\n",
      "0\n",
      "14.416789\n",
      "lnvar is nan:\n",
      "0\n",
      "-1.1145229\n",
      "data is nan:\n",
      "0\n",
      "954.9196\n",
      "tensor(4.6669e+10, grad_fn=<AddBackward0>)\n"
     ]
    },
    {
     "name": "stderr",
     "output_type": "stream",
     "text": [
      "\r",
      " 29%|██▉       | 110/378 [11:14<26:56,  6.03s/it]"
     ]
    },
    {
     "name": "stdout",
     "output_type": "stream",
     "text": [
      "torch.Size([64, 1, 64, 64])\n",
      "torch.Size([64, 1, 64, 64])\n",
      "recon is nan:\n",
      "0\n",
      "112.30843\n",
      "mu is nan:\n",
      "0\n",
      "14.191017\n",
      "lnvar is nan:\n",
      "0\n",
      "-1.8011097\n",
      "data is nan:\n",
      "0\n",
      "1006.7162\n",
      "tensor(4.7071e+10, grad_fn=<AddBackward0>)\n"
     ]
    },
    {
     "name": "stderr",
     "output_type": "stream",
     "text": [
      "\r",
      " 29%|██▉       | 111/378 [11:20<26:49,  6.03s/it]"
     ]
    },
    {
     "name": "stdout",
     "output_type": "stream",
     "text": [
      "torch.Size([64, 1, 64, 64])\n",
      "torch.Size([64, 1, 64, 64])\n",
      "recon is nan:\n",
      "0\n",
      "105.22048\n",
      "mu is nan:\n",
      "0\n",
      "12.490472\n",
      "lnvar is nan:\n",
      "0\n",
      "-2.098715\n",
      "data is nan:\n",
      "0\n",
      "977.7595\n",
      "tensor(4.3950e+10, grad_fn=<AddBackward0>)\n"
     ]
    },
    {
     "name": "stderr",
     "output_type": "stream",
     "text": [
      "\r",
      " 30%|██▉       | 112/378 [11:26<26:50,  6.05s/it]"
     ]
    },
    {
     "name": "stdout",
     "output_type": "stream",
     "text": [
      "torch.Size([64, 1, 64, 64])\n",
      "torch.Size([64, 1, 64, 64])\n",
      "recon is nan:\n",
      "0\n",
      "97.43697\n",
      "mu is nan:\n",
      "0\n",
      "21.195599\n",
      "lnvar is nan:\n",
      "0\n",
      "0.5087004\n",
      "data is nan:\n",
      "0\n",
      "967.8318\n",
      "tensor(4.7694e+10, grad_fn=<AddBackward0>)\n"
     ]
    },
    {
     "name": "stderr",
     "output_type": "stream",
     "text": [
      "\r",
      " 30%|██▉       | 113/378 [11:32<26:42,  6.05s/it]"
     ]
    },
    {
     "name": "stdout",
     "output_type": "stream",
     "text": [
      "torch.Size([64, 1, 64, 64])\n",
      "torch.Size([64, 1, 64, 64])\n",
      "recon is nan:\n",
      "0\n",
      "102.73408\n",
      "mu is nan:\n",
      "0\n",
      "18.01095\n",
      "lnvar is nan:\n",
      "0\n",
      "-1.9542391\n",
      "data is nan:\n",
      "0\n",
      "952.1019\n",
      "tensor(4.5365e+10, grad_fn=<AddBackward0>)\n"
     ]
    },
    {
     "name": "stderr",
     "output_type": "stream",
     "text": [
      "\r",
      " 30%|███       | 114/378 [11:38<26:38,  6.06s/it]"
     ]
    },
    {
     "name": "stdout",
     "output_type": "stream",
     "text": [
      "torch.Size([64, 1, 64, 64])\n",
      "torch.Size([64, 1, 64, 64])\n",
      "recon is nan:\n",
      "0\n",
      "94.60802\n",
      "mu is nan:\n",
      "0\n",
      "13.286327\n",
      "lnvar is nan:\n",
      "0\n",
      "-2.6639626\n",
      "data is nan:\n",
      "0\n",
      "969.8244\n",
      "tensor(4.8328e+10, grad_fn=<AddBackward0>)\n"
     ]
    },
    {
     "name": "stderr",
     "output_type": "stream",
     "text": [
      "\r",
      " 30%|███       | 115/378 [11:44<26:28,  6.04s/it]"
     ]
    },
    {
     "name": "stdout",
     "output_type": "stream",
     "text": [
      "torch.Size([64, 1, 64, 64])\n",
      "torch.Size([64, 1, 64, 64])\n",
      "recon is nan:\n",
      "0\n",
      "93.36502\n",
      "mu is nan:\n",
      "0\n",
      "12.740002\n",
      "lnvar is nan:\n",
      "0\n",
      "-2.09612\n",
      "data is nan:\n",
      "0\n",
      "963.6643\n",
      "tensor(4.4552e+10, grad_fn=<AddBackward0>)\n"
     ]
    },
    {
     "name": "stderr",
     "output_type": "stream",
     "text": [
      "\r",
      " 31%|███       | 116/378 [11:50<26:18,  6.03s/it]"
     ]
    },
    {
     "name": "stdout",
     "output_type": "stream",
     "text": [
      "torch.Size([64, 1, 64, 64])\n",
      "torch.Size([64, 1, 64, 64])\n",
      "recon is nan:\n",
      "0\n",
      "92.41596\n",
      "mu is nan:\n",
      "0\n",
      "13.628176\n",
      "lnvar is nan:\n",
      "0\n",
      "-1.6861179\n",
      "data is nan:\n",
      "0\n",
      "948.6746\n",
      "tensor(4.3932e+10, grad_fn=<AddBackward0>)\n"
     ]
    },
    {
     "name": "stderr",
     "output_type": "stream",
     "text": [
      "\r",
      " 31%|███       | 117/378 [11:56<26:14,  6.03s/it]"
     ]
    },
    {
     "name": "stdout",
     "output_type": "stream",
     "text": [
      "torch.Size([64, 1, 64, 64])\n",
      "torch.Size([64, 1, 64, 64])\n",
      "recon is nan:\n",
      "0\n",
      "102.96387\n",
      "mu is nan:\n",
      "0\n",
      "16.27042\n",
      "lnvar is nan:\n",
      "0\n",
      "1.6311114\n",
      "data is nan:\n",
      "0\n",
      "945.67206\n",
      "tensor(4.3381e+10, grad_fn=<AddBackward0>)\n"
     ]
    },
    {
     "name": "stderr",
     "output_type": "stream",
     "text": [
      "\r",
      " 31%|███       | 118/378 [12:02<26:07,  6.03s/it]"
     ]
    },
    {
     "name": "stdout",
     "output_type": "stream",
     "text": [
      "torch.Size([64, 1, 64, 64])\n",
      "torch.Size([64, 1, 64, 64])\n",
      "recon is nan:\n",
      "0\n",
      "100.299225\n",
      "mu is nan:\n",
      "0\n",
      "13.02788\n",
      "lnvar is nan:\n",
      "0\n",
      "-2.0726333\n",
      "data is nan:\n",
      "0\n",
      "948.42065\n",
      "tensor(4.2979e+10, grad_fn=<AddBackward0>)\n"
     ]
    },
    {
     "name": "stderr",
     "output_type": "stream",
     "text": [
      "\r",
      " 31%|███▏      | 119/378 [12:08<26:01,  6.03s/it]"
     ]
    },
    {
     "name": "stdout",
     "output_type": "stream",
     "text": [
      "torch.Size([64, 1, 64, 64])\n",
      "torch.Size([64, 1, 64, 64])\n",
      "recon is nan:\n",
      "0\n",
      "108.8095\n",
      "mu is nan:\n",
      "0\n",
      "14.167678\n",
      "lnvar is nan:\n",
      "0\n",
      "-1.7338457\n",
      "data is nan:\n",
      "0\n",
      "974.1087\n",
      "tensor(4.8009e+10, grad_fn=<AddBackward0>)\n"
     ]
    },
    {
     "name": "stderr",
     "output_type": "stream",
     "text": [
      "\r",
      " 32%|███▏      | 120/378 [12:14<25:54,  6.03s/it]"
     ]
    },
    {
     "name": "stdout",
     "output_type": "stream",
     "text": [
      "torch.Size([64, 1, 64, 64])\n",
      "torch.Size([64, 1, 64, 64])\n",
      "recon is nan:\n",
      "0\n",
      "105.733086\n",
      "mu is nan:\n",
      "0\n",
      "13.253904\n",
      "lnvar is nan:\n",
      "0\n",
      "-1.1287277\n",
      "data is nan:\n",
      "0\n",
      "945.496\n",
      "tensor(4.4384e+10, grad_fn=<AddBackward0>)\n"
     ]
    },
    {
     "name": "stderr",
     "output_type": "stream",
     "text": [
      "\r",
      " 32%|███▏      | 121/378 [12:20<25:48,  6.02s/it]"
     ]
    },
    {
     "name": "stdout",
     "output_type": "stream",
     "text": [
      "torch.Size([64, 1, 64, 64])\n",
      "torch.Size([64, 1, 64, 64])\n",
      "recon is nan:\n",
      "0\n",
      "105.44575\n",
      "mu is nan:\n",
      "0\n",
      "13.565361\n",
      "lnvar is nan:\n",
      "0\n",
      "-2.165715\n",
      "data is nan:\n",
      "0\n",
      "918.581\n",
      "tensor(3.9742e+10, grad_fn=<AddBackward0>)\n"
     ]
    },
    {
     "name": "stderr",
     "output_type": "stream",
     "text": [
      "\r",
      " 32%|███▏      | 122/378 [12:26<25:38,  6.01s/it]"
     ]
    },
    {
     "name": "stdout",
     "output_type": "stream",
     "text": [
      "torch.Size([64, 1, 64, 64])\n",
      "torch.Size([64, 1, 64, 64])\n",
      "recon is nan:\n",
      "0\n",
      "102.83423\n",
      "mu is nan:\n",
      "0\n",
      "13.341036\n",
      "lnvar is nan:\n",
      "0\n",
      "-1.7117757\n",
      "data is nan:\n",
      "0\n",
      "929.2099\n",
      "tensor(4.0934e+10, grad_fn=<AddBackward0>)\n"
     ]
    },
    {
     "name": "stderr",
     "output_type": "stream",
     "text": [
      "\r",
      " 33%|███▎      | 123/378 [12:32<25:33,  6.02s/it]"
     ]
    },
    {
     "name": "stdout",
     "output_type": "stream",
     "text": [
      "torch.Size([64, 1, 64, 64])\n",
      "torch.Size([64, 1, 64, 64])\n",
      "recon is nan:\n",
      "0\n",
      "111.07859\n",
      "mu is nan:\n",
      "0\n",
      "13.5089855\n",
      "lnvar is nan:\n",
      "0\n",
      "-1.7881972\n",
      "data is nan:\n",
      "0\n",
      "934.6056\n",
      "tensor(4.3623e+10, grad_fn=<AddBackward0>)\n"
     ]
    },
    {
     "name": "stderr",
     "output_type": "stream",
     "text": [
      "\r",
      " 33%|███▎      | 124/378 [12:38<25:30,  6.03s/it]"
     ]
    },
    {
     "name": "stdout",
     "output_type": "stream",
     "text": [
      "torch.Size([64, 1, 64, 64])\n",
      "torch.Size([64, 1, 64, 64])\n",
      "recon is nan:\n",
      "0\n",
      "108.44134\n",
      "mu is nan:\n",
      "0\n",
      "12.585789\n",
      "lnvar is nan:\n",
      "0\n",
      "-2.0386465\n",
      "data is nan:\n",
      "0\n",
      "919.58185\n",
      "tensor(4.4473e+10, grad_fn=<AddBackward0>)\n"
     ]
    },
    {
     "name": "stderr",
     "output_type": "stream",
     "text": [
      "\r",
      " 33%|███▎      | 125/378 [12:44<25:26,  6.03s/it]"
     ]
    },
    {
     "name": "stdout",
     "output_type": "stream",
     "text": [
      "torch.Size([64, 1, 64, 64])\n",
      "torch.Size([64, 1, 64, 64])\n",
      "recon is nan:\n",
      "0\n",
      "116.31194\n",
      "mu is nan:\n",
      "0\n",
      "14.595561\n",
      "lnvar is nan:\n",
      "0\n",
      "-1.9652421\n",
      "data is nan:\n",
      "0\n",
      "944.6653\n",
      "tensor(4.3179e+10, grad_fn=<AddBackward0>)\n"
     ]
    },
    {
     "name": "stderr",
     "output_type": "stream",
     "text": [
      "\r",
      " 33%|███▎      | 126/378 [12:50<25:24,  6.05s/it]"
     ]
    },
    {
     "name": "stdout",
     "output_type": "stream",
     "text": [
      "torch.Size([64, 1, 64, 64])\n",
      "torch.Size([64, 1, 64, 64])\n",
      "recon is nan:\n",
      "0\n",
      "113.340546\n",
      "mu is nan:\n",
      "0\n",
      "14.500898\n",
      "lnvar is nan:\n",
      "0\n",
      "-1.9789462\n",
      "data is nan:\n",
      "0\n",
      "955.73737\n",
      "tensor(4.5778e+10, grad_fn=<AddBackward0>)\n"
     ]
    },
    {
     "name": "stderr",
     "output_type": "stream",
     "text": [
      "\r",
      " 34%|███▎      | 127/378 [12:56<25:18,  6.05s/it]"
     ]
    },
    {
     "name": "stdout",
     "output_type": "stream",
     "text": [
      "torch.Size([64, 1, 64, 64])\n",
      "torch.Size([64, 1, 64, 64])\n",
      "recon is nan:\n",
      "0\n",
      "106.61621\n",
      "mu is nan:\n",
      "0\n",
      "12.976828\n",
      "lnvar is nan:\n",
      "0\n",
      "-2.1360788\n",
      "data is nan:\n",
      "0\n",
      "950.213\n",
      "tensor(4.6407e+10, grad_fn=<AddBackward0>)\n"
     ]
    },
    {
     "name": "stderr",
     "output_type": "stream",
     "text": [
      "\r",
      " 34%|███▍      | 128/378 [13:02<25:11,  6.05s/it]"
     ]
    },
    {
     "name": "stdout",
     "output_type": "stream",
     "text": [
      "torch.Size([64, 1, 64, 64])\n",
      "torch.Size([64, 1, 64, 64])\n",
      "recon is nan:\n",
      "0\n",
      "111.99686\n",
      "mu is nan:\n",
      "0\n",
      "13.719356\n",
      "lnvar is nan:\n",
      "0\n",
      "-2.2681117\n",
      "data is nan:\n",
      "0\n",
      "952.34625\n",
      "tensor(4.3644e+10, grad_fn=<AddBackward0>)\n"
     ]
    },
    {
     "name": "stderr",
     "output_type": "stream",
     "text": [
      "\r",
      " 34%|███▍      | 129/378 [13:09<25:20,  6.10s/it]"
     ]
    },
    {
     "name": "stdout",
     "output_type": "stream",
     "text": [
      "torch.Size([64, 1, 64, 64])\n",
      "torch.Size([64, 1, 64, 64])\n",
      "recon is nan:\n",
      "0\n",
      "101.45893\n",
      "mu is nan:\n",
      "0\n",
      "13.53458\n",
      "lnvar is nan:\n",
      "0\n",
      "-2.0434368\n",
      "data is nan:\n",
      "0\n",
      "964.63226\n",
      "tensor(4.7796e+10, grad_fn=<AddBackward0>)\n"
     ]
    },
    {
     "name": "stderr",
     "output_type": "stream",
     "text": [
      "\r",
      " 34%|███▍      | 130/378 [13:15<25:24,  6.15s/it]"
     ]
    },
    {
     "name": "stdout",
     "output_type": "stream",
     "text": [
      "torch.Size([64, 1, 64, 64])\n",
      "torch.Size([64, 1, 64, 64])\n",
      "recon is nan:\n",
      "0\n",
      "107.36298\n",
      "mu is nan:\n",
      "0\n",
      "13.572604\n",
      "lnvar is nan:\n",
      "0\n",
      "-2.54459\n",
      "data is nan:\n",
      "0\n",
      "972.3193\n",
      "tensor(4.5592e+10, grad_fn=<AddBackward0>)\n"
     ]
    },
    {
     "name": "stderr",
     "output_type": "stream",
     "text": [
      "\r",
      " 35%|███▍      | 131/378 [13:21<25:27,  6.18s/it]"
     ]
    },
    {
     "name": "stdout",
     "output_type": "stream",
     "text": [
      "torch.Size([64, 1, 64, 64])\n",
      "torch.Size([64, 1, 64, 64])\n",
      "recon is nan:\n",
      "0\n",
      "117.261215\n",
      "mu is nan:\n",
      "0\n",
      "16.843937\n",
      "lnvar is nan:\n",
      "0\n",
      "-2.4176114\n",
      "data is nan:\n",
      "0\n",
      "996.41235\n",
      "tensor(4.3679e+10, grad_fn=<AddBackward0>)\n"
     ]
    },
    {
     "name": "stderr",
     "output_type": "stream",
     "text": [
      "\r",
      " 35%|███▍      | 132/378 [13:27<25:25,  6.20s/it]"
     ]
    },
    {
     "name": "stdout",
     "output_type": "stream",
     "text": [
      "torch.Size([64, 1, 64, 64])\n",
      "torch.Size([64, 1, 64, 64])\n",
      "recon is nan:\n",
      "0\n",
      "110.88257\n",
      "mu is nan:\n",
      "0\n",
      "14.396065\n",
      "lnvar is nan:\n",
      "0\n",
      "-2.0944943\n",
      "data is nan:\n",
      "0\n",
      "972.6832\n",
      "tensor(4.1040e+10, grad_fn=<AddBackward0>)\n"
     ]
    },
    {
     "name": "stderr",
     "output_type": "stream",
     "text": [
      "\r",
      " 35%|███▌      | 133/378 [13:34<25:16,  6.19s/it]"
     ]
    },
    {
     "name": "stdout",
     "output_type": "stream",
     "text": [
      "torch.Size([64, 1, 64, 64])\n",
      "torch.Size([64, 1, 64, 64])\n",
      "recon is nan:\n",
      "0\n",
      "102.46873\n",
      "mu is nan:\n",
      "0\n",
      "13.732824\n",
      "lnvar is nan:\n",
      "0\n",
      "-2.108234\n",
      "data is nan:\n",
      "0\n",
      "948.7959\n",
      "tensor(4.1809e+10, grad_fn=<AddBackward0>)\n"
     ]
    },
    {
     "name": "stderr",
     "output_type": "stream",
     "text": [
      "\r",
      " 35%|███▌      | 134/378 [13:40<25:07,  6.18s/it]"
     ]
    },
    {
     "name": "stdout",
     "output_type": "stream",
     "text": [
      "torch.Size([64, 1, 64, 64])\n",
      "torch.Size([64, 1, 64, 64])\n",
      "recon is nan:\n",
      "0\n",
      "120.439095\n",
      "mu is nan:\n",
      "0\n",
      "14.894347\n",
      "lnvar is nan:\n",
      "0\n",
      "-2.6693165\n",
      "data is nan:\n",
      "0\n",
      "949.3071\n",
      "tensor(4.3405e+10, grad_fn=<AddBackward0>)\n"
     ]
    },
    {
     "name": "stderr",
     "output_type": "stream",
     "text": [
      "\r",
      " 36%|███▌      | 135/378 [13:46<24:54,  6.15s/it]"
     ]
    },
    {
     "name": "stdout",
     "output_type": "stream",
     "text": [
      "torch.Size([64, 1, 64, 64])\n",
      "torch.Size([64, 1, 64, 64])\n",
      "recon is nan:\n",
      "0\n",
      "119.048416\n",
      "mu is nan:\n",
      "0\n",
      "21.023993\n",
      "lnvar is nan:\n",
      "0\n",
      "-1.5116987\n",
      "data is nan:\n",
      "0\n",
      "988.71716\n",
      "tensor(4.7415e+10, grad_fn=<AddBackward0>)\n"
     ]
    },
    {
     "name": "stderr",
     "output_type": "stream",
     "text": [
      "\r",
      " 36%|███▌      | 136/378 [13:52<24:40,  6.12s/it]"
     ]
    },
    {
     "name": "stdout",
     "output_type": "stream",
     "text": [
      "torch.Size([64, 1, 64, 64])\n",
      "torch.Size([64, 1, 64, 64])\n",
      "recon is nan:\n",
      "0\n",
      "117.90142\n",
      "mu is nan:\n",
      "0\n",
      "15.397535\n",
      "lnvar is nan:\n",
      "0\n",
      "-2.2344232\n",
      "data is nan:\n",
      "0\n",
      "945.8357\n",
      "tensor(4.4208e+10, grad_fn=<AddBackward0>)\n"
     ]
    },
    {
     "name": "stderr",
     "output_type": "stream",
     "text": [
      "\r",
      " 36%|███▌      | 137/378 [13:58<24:30,  6.10s/it]"
     ]
    },
    {
     "name": "stdout",
     "output_type": "stream",
     "text": [
      "torch.Size([64, 1, 64, 64])\n",
      "torch.Size([64, 1, 64, 64])\n",
      "recon is nan:\n",
      "0\n",
      "135.0988\n",
      "mu is nan:\n",
      "0\n",
      "22.137428\n",
      "lnvar is nan:\n",
      "0\n",
      "-2.3855863\n",
      "data is nan:\n",
      "0\n",
      "967.6361\n",
      "tensor(4.4884e+10, grad_fn=<AddBackward0>)\n"
     ]
    },
    {
     "name": "stderr",
     "output_type": "stream",
     "text": [
      "\r",
      " 37%|███▋      | 138/378 [14:04<24:16,  6.07s/it]"
     ]
    },
    {
     "name": "stdout",
     "output_type": "stream",
     "text": [
      "torch.Size([64, 1, 64, 64])\n",
      "torch.Size([64, 1, 64, 64])\n",
      "recon is nan:\n",
      "0\n",
      "117.77229\n",
      "mu is nan:\n",
      "0\n",
      "13.444166\n",
      "lnvar is nan:\n",
      "0\n",
      "-2.2079313\n",
      "data is nan:\n",
      "0\n",
      "991.10376\n",
      "tensor(4.5937e+10, grad_fn=<AddBackward0>)\n"
     ]
    },
    {
     "name": "stderr",
     "output_type": "stream",
     "text": [
      "\r",
      " 37%|███▋      | 139/378 [14:10<24:06,  6.05s/it]"
     ]
    },
    {
     "name": "stdout",
     "output_type": "stream",
     "text": [
      "torch.Size([64, 1, 64, 64])\n",
      "torch.Size([64, 1, 64, 64])\n",
      "recon is nan:\n",
      "0\n",
      "106.20264\n",
      "mu is nan:\n",
      "0\n",
      "16.343174\n",
      "lnvar is nan:\n",
      "0\n",
      "-2.06529\n",
      "data is nan:\n",
      "0\n",
      "995.7273\n",
      "tensor(4.3749e+10, grad_fn=<AddBackward0>)\n"
     ]
    },
    {
     "name": "stderr",
     "output_type": "stream",
     "text": [
      "\r",
      " 37%|███▋      | 140/378 [14:16<23:57,  6.04s/it]"
     ]
    },
    {
     "name": "stdout",
     "output_type": "stream",
     "text": [
      "torch.Size([64, 1, 64, 64])\n",
      "torch.Size([64, 1, 64, 64])\n",
      "recon is nan:\n",
      "0\n",
      "112.241234\n",
      "mu is nan:\n",
      "0\n",
      "14.83642\n",
      "lnvar is nan:\n",
      "0\n",
      "-2.673725\n",
      "data is nan:\n",
      "0\n",
      "989.4029\n",
      "tensor(4.4154e+10, grad_fn=<AddBackward0>)\n"
     ]
    },
    {
     "name": "stderr",
     "output_type": "stream",
     "text": [
      "\r",
      " 37%|███▋      | 141/378 [14:22<23:53,  6.05s/it]"
     ]
    },
    {
     "name": "stdout",
     "output_type": "stream",
     "text": [
      "torch.Size([64, 1, 64, 64])\n",
      "torch.Size([64, 1, 64, 64])\n",
      "recon is nan:\n",
      "0\n",
      "116.67502\n",
      "mu is nan:\n",
      "0\n",
      "13.079727\n",
      "lnvar is nan:\n",
      "0\n",
      "-3.1656842\n",
      "data is nan:\n",
      "0\n",
      "901.2545\n",
      "tensor(4.0024e+10, grad_fn=<AddBackward0>)\n"
     ]
    },
    {
     "name": "stderr",
     "output_type": "stream",
     "text": [
      "\r",
      " 38%|███▊      | 142/378 [14:28<23:47,  6.05s/it]"
     ]
    },
    {
     "name": "stdout",
     "output_type": "stream",
     "text": [
      "torch.Size([64, 1, 64, 64])\n",
      "torch.Size([64, 1, 64, 64])\n",
      "recon is nan:\n",
      "0\n",
      "129.28781\n",
      "mu is nan:\n",
      "0\n",
      "14.479013\n",
      "lnvar is nan:\n",
      "0\n",
      "-2.198719\n",
      "data is nan:\n",
      "0\n",
      "983.4946\n",
      "tensor(4.1653e+10, grad_fn=<AddBackward0>)\n"
     ]
    },
    {
     "name": "stderr",
     "output_type": "stream",
     "text": [
      "\r",
      " 38%|███▊      | 143/378 [14:34<23:39,  6.04s/it]"
     ]
    },
    {
     "name": "stdout",
     "output_type": "stream",
     "text": [
      "torch.Size([64, 1, 64, 64])\n",
      "torch.Size([64, 1, 64, 64])\n",
      "recon is nan:\n",
      "0\n",
      "122.040016\n",
      "mu is nan:\n",
      "0\n",
      "14.586632\n",
      "lnvar is nan:\n",
      "0\n",
      "-0.7613744\n",
      "data is nan:\n",
      "0\n",
      "955.5836\n",
      "tensor(4.3908e+10, grad_fn=<AddBackward0>)\n"
     ]
    },
    {
     "name": "stderr",
     "output_type": "stream",
     "text": [
      "\r",
      " 38%|███▊      | 144/378 [14:40<23:34,  6.05s/it]"
     ]
    },
    {
     "name": "stdout",
     "output_type": "stream",
     "text": [
      "torch.Size([64, 1, 64, 64])\n",
      "torch.Size([64, 1, 64, 64])\n",
      "recon is nan:\n",
      "0\n",
      "136.51886\n",
      "mu is nan:\n",
      "0\n",
      "12.705498\n",
      "lnvar is nan:\n",
      "0\n",
      "-3.1401434\n",
      "data is nan:\n",
      "0\n",
      "983.5073\n",
      "tensor(4.2972e+10, grad_fn=<AddBackward0>)\n"
     ]
    },
    {
     "name": "stderr",
     "output_type": "stream",
     "text": [
      "\r",
      " 38%|███▊      | 145/378 [14:46<23:29,  6.05s/it]"
     ]
    },
    {
     "name": "stdout",
     "output_type": "stream",
     "text": [
      "torch.Size([64, 1, 64, 64])\n",
      "torch.Size([64, 1, 64, 64])\n",
      "recon is nan:\n",
      "0\n",
      "133.41649\n",
      "mu is nan:\n",
      "0\n",
      "13.940109\n",
      "lnvar is nan:\n",
      "0\n",
      "-2.5286252\n",
      "data is nan:\n",
      "0\n",
      "962.384\n",
      "tensor(4.2255e+10, grad_fn=<AddBackward0>)\n"
     ]
    },
    {
     "name": "stderr",
     "output_type": "stream",
     "text": [
      "\r",
      " 39%|███▊      | 146/378 [14:52<23:21,  6.04s/it]"
     ]
    },
    {
     "name": "stdout",
     "output_type": "stream",
     "text": [
      "torch.Size([64, 1, 64, 64])\n",
      "torch.Size([64, 1, 64, 64])\n",
      "recon is nan:\n",
      "0\n",
      "123.93572\n",
      "mu is nan:\n",
      "0\n",
      "19.79187\n",
      "lnvar is nan:\n",
      "0\n",
      "-2.0197015\n",
      "data is nan:\n",
      "0\n",
      "945.08167\n",
      "tensor(4.3226e+10, grad_fn=<AddBackward0>)\n"
     ]
    },
    {
     "name": "stderr",
     "output_type": "stream",
     "text": [
      "\r",
      " 39%|███▉      | 147/378 [14:58<23:16,  6.04s/it]"
     ]
    },
    {
     "name": "stdout",
     "output_type": "stream",
     "text": [
      "torch.Size([64, 1, 64, 64])\n",
      "torch.Size([64, 1, 64, 64])\n",
      "recon is nan:\n",
      "0\n",
      "117.14548\n",
      "mu is nan:\n",
      "0\n",
      "15.051496\n",
      "lnvar is nan:\n",
      "0\n",
      "-1.372977\n",
      "data is nan:\n",
      "0\n",
      "964.954\n",
      "tensor(4.5083e+10, grad_fn=<AddBackward0>)\n"
     ]
    },
    {
     "name": "stderr",
     "output_type": "stream",
     "text": [
      "\r",
      " 39%|███▉      | 148/378 [15:04<23:08,  6.04s/it]"
     ]
    },
    {
     "name": "stdout",
     "output_type": "stream",
     "text": [
      "torch.Size([64, 1, 64, 64])\n",
      "torch.Size([64, 1, 64, 64])\n",
      "recon is nan:\n",
      "0\n",
      "122.366135\n",
      "mu is nan:\n",
      "0\n",
      "13.382528\n",
      "lnvar is nan:\n",
      "0\n",
      "-3.674205\n",
      "data is nan:\n",
      "0\n",
      "948.847\n",
      "tensor(4.4691e+10, grad_fn=<AddBackward0>)\n"
     ]
    },
    {
     "name": "stderr",
     "output_type": "stream",
     "text": [
      "\r",
      " 39%|███▉      | 149/378 [15:10<23:01,  6.03s/it]"
     ]
    },
    {
     "name": "stdout",
     "output_type": "stream",
     "text": [
      "torch.Size([64, 1, 64, 64])\n",
      "torch.Size([64, 1, 64, 64])\n",
      "recon is nan:\n",
      "0\n",
      "129.64725\n",
      "mu is nan:\n",
      "0\n",
      "12.553463\n",
      "lnvar is nan:\n",
      "0\n",
      "-1.5280521\n",
      "data is nan:\n",
      "0\n",
      "928.9734\n",
      "tensor(4.4376e+10, grad_fn=<AddBackward0>)\n"
     ]
    },
    {
     "name": "stderr",
     "output_type": "stream",
     "text": [
      "\r",
      " 40%|███▉      | 150/378 [15:16<22:56,  6.04s/it]"
     ]
    },
    {
     "name": "stdout",
     "output_type": "stream",
     "text": [
      "torch.Size([64, 1, 64, 64])\n",
      "torch.Size([64, 1, 64, 64])\n",
      "recon is nan:\n",
      "0\n",
      "140.74907\n",
      "mu is nan:\n",
      "0\n",
      "17.602287\n",
      "lnvar is nan:\n",
      "0\n",
      "-1.2627064\n",
      "data is nan:\n",
      "0\n",
      "948.13684\n",
      "tensor(4.5410e+10, grad_fn=<AddBackward0>)\n"
     ]
    },
    {
     "name": "stderr",
     "output_type": "stream",
     "text": [
      "\r",
      " 40%|███▉      | 151/378 [15:23<22:55,  6.06s/it]"
     ]
    },
    {
     "name": "stdout",
     "output_type": "stream",
     "text": [
      "torch.Size([64, 1, 64, 64])\n",
      "torch.Size([64, 1, 64, 64])\n",
      "recon is nan:\n",
      "0\n",
      "129.28305\n",
      "mu is nan:\n",
      "0\n",
      "15.072872\n",
      "lnvar is nan:\n",
      "0\n",
      "-1.9420218\n",
      "data is nan:\n",
      "0\n",
      "990.78296\n",
      "tensor(4.3115e+10, grad_fn=<AddBackward0>)\n"
     ]
    },
    {
     "name": "stderr",
     "output_type": "stream",
     "text": [
      "\r",
      " 40%|████      | 152/378 [15:29<22:45,  6.04s/it]"
     ]
    },
    {
     "name": "stdout",
     "output_type": "stream",
     "text": [
      "torch.Size([64, 1, 64, 64])\n",
      "torch.Size([64, 1, 64, 64])\n",
      "recon is nan:\n",
      "0\n",
      "122.97623\n",
      "mu is nan:\n",
      "0\n",
      "18.590366\n",
      "lnvar is nan:\n",
      "0\n",
      "0.1497992\n",
      "data is nan:\n",
      "0\n",
      "958.08624\n",
      "tensor(4.2354e+10, grad_fn=<AddBackward0>)\n"
     ]
    },
    {
     "name": "stderr",
     "output_type": "stream",
     "text": [
      "\r",
      " 40%|████      | 153/378 [15:35<22:38,  6.04s/it]"
     ]
    },
    {
     "name": "stdout",
     "output_type": "stream",
     "text": [
      "torch.Size([64, 1, 64, 64])\n",
      "torch.Size([64, 1, 64, 64])\n",
      "recon is nan:\n",
      "0\n",
      "128.71603\n",
      "mu is nan:\n",
      "0\n",
      "15.482315\n",
      "lnvar is nan:\n",
      "0\n",
      "-1.5126765\n",
      "data is nan:\n",
      "0\n",
      "958.87836\n",
      "tensor(4.2176e+10, grad_fn=<AddBackward0>)\n"
     ]
    },
    {
     "name": "stderr",
     "output_type": "stream",
     "text": [
      "\r",
      " 41%|████      | 154/378 [15:41<22:31,  6.03s/it]"
     ]
    },
    {
     "name": "stdout",
     "output_type": "stream",
     "text": [
      "torch.Size([64, 1, 64, 64])\n",
      "torch.Size([64, 1, 64, 64])\n",
      "recon is nan:\n",
      "0\n",
      "119.86446\n",
      "mu is nan:\n",
      "0\n",
      "13.665635\n",
      "lnvar is nan:\n",
      "0\n",
      "-2.7103305\n",
      "data is nan:\n",
      "0\n",
      "971.85034\n",
      "tensor(4.2352e+10, grad_fn=<AddBackward0>)\n"
     ]
    },
    {
     "name": "stderr",
     "output_type": "stream",
     "text": [
      "\r",
      " 41%|████      | 155/378 [15:47<22:25,  6.03s/it]"
     ]
    },
    {
     "name": "stdout",
     "output_type": "stream",
     "text": [
      "torch.Size([64, 1, 64, 64])\n",
      "torch.Size([64, 1, 64, 64])\n",
      "recon is nan:\n",
      "0\n",
      "130.30916\n",
      "mu is nan:\n",
      "0\n",
      "15.210003\n",
      "lnvar is nan:\n",
      "0\n",
      "0.31249666\n",
      "data is nan:\n",
      "0\n",
      "947.9437\n",
      "tensor(4.4886e+10, grad_fn=<AddBackward0>)\n"
     ]
    },
    {
     "name": "stderr",
     "output_type": "stream",
     "text": [
      "\r",
      " 41%|████▏     | 156/378 [15:53<22:20,  6.04s/it]"
     ]
    },
    {
     "name": "stdout",
     "output_type": "stream",
     "text": [
      "torch.Size([64, 1, 64, 64])\n",
      "torch.Size([64, 1, 64, 64])\n",
      "recon is nan:\n",
      "0\n",
      "136.15137\n",
      "mu is nan:\n",
      "0\n",
      "13.224274\n",
      "lnvar is nan:\n",
      "0\n",
      "-0.9867979\n",
      "data is nan:\n",
      "0\n",
      "948.1192\n",
      "tensor(4.2749e+10, grad_fn=<AddBackward0>)\n"
     ]
    },
    {
     "name": "stderr",
     "output_type": "stream",
     "text": [
      "\r",
      " 42%|████▏     | 157/378 [15:59<22:16,  6.05s/it]"
     ]
    },
    {
     "name": "stdout",
     "output_type": "stream",
     "text": [
      "torch.Size([64, 1, 64, 64])\n",
      "torch.Size([64, 1, 64, 64])\n",
      "recon is nan:\n",
      "0\n",
      "145.82156\n",
      "mu is nan:\n",
      "0\n",
      "14.319568\n",
      "lnvar is nan:\n",
      "0\n",
      "-1.5205095\n",
      "data is nan:\n",
      "0\n",
      "964.0647\n",
      "tensor(4.4290e+10, grad_fn=<AddBackward0>)\n"
     ]
    },
    {
     "name": "stderr",
     "output_type": "stream",
     "text": [
      "\r",
      " 42%|████▏     | 158/378 [16:05<22:07,  6.03s/it]"
     ]
    },
    {
     "name": "stdout",
     "output_type": "stream",
     "text": [
      "torch.Size([64, 1, 64, 64])\n",
      "torch.Size([64, 1, 64, 64])\n",
      "recon is nan:\n",
      "0\n",
      "148.09283\n",
      "mu is nan:\n",
      "0\n",
      "15.611686\n",
      "lnvar is nan:\n",
      "0\n",
      "-2.1418962\n",
      "data is nan:\n",
      "0\n",
      "959.65247\n",
      "tensor(4.5128e+10, grad_fn=<AddBackward0>)\n"
     ]
    },
    {
     "name": "stderr",
     "output_type": "stream",
     "text": [
      "\r",
      " 42%|████▏     | 159/378 [16:11<22:02,  6.04s/it]"
     ]
    },
    {
     "name": "stdout",
     "output_type": "stream",
     "text": [
      "torch.Size([64, 1, 64, 64])\n",
      "torch.Size([64, 1, 64, 64])\n",
      "recon is nan:\n",
      "0\n",
      "160.84744\n",
      "mu is nan:\n",
      "0\n",
      "15.565117\n",
      "lnvar is nan:\n",
      "0\n",
      "-1.2877253\n",
      "data is nan:\n",
      "0\n",
      "1015.85565\n",
      "tensor(4.3975e+10, grad_fn=<AddBackward0>)\n"
     ]
    },
    {
     "name": "stderr",
     "output_type": "stream",
     "text": [
      "\r",
      " 42%|████▏     | 160/378 [16:17<21:56,  6.04s/it]"
     ]
    },
    {
     "name": "stdout",
     "output_type": "stream",
     "text": [
      "torch.Size([64, 1, 64, 64])\n",
      "torch.Size([64, 1, 64, 64])\n",
      "recon is nan:\n",
      "0\n",
      "149.79462\n",
      "mu is nan:\n",
      "0\n",
      "13.909107\n",
      "lnvar is nan:\n",
      "0\n",
      "-1.389028\n",
      "data is nan:\n",
      "0\n",
      "973.3328\n",
      "tensor(4.5273e+10, grad_fn=<AddBackward0>)\n"
     ]
    },
    {
     "name": "stderr",
     "output_type": "stream",
     "text": [
      "\r",
      " 43%|████▎     | 161/378 [16:23<21:48,  6.03s/it]"
     ]
    },
    {
     "name": "stdout",
     "output_type": "stream",
     "text": [
      "torch.Size([64, 1, 64, 64])\n",
      "torch.Size([64, 1, 64, 64])\n",
      "recon is nan:\n",
      "0\n",
      "127.87535\n",
      "mu is nan:\n",
      "0\n",
      "13.512686\n",
      "lnvar is nan:\n",
      "0\n",
      "0.05790805\n",
      "data is nan:\n",
      "0\n",
      "900.13434\n",
      "tensor(4.3516e+10, grad_fn=<AddBackward0>)\n"
     ]
    },
    {
     "name": "stderr",
     "output_type": "stream",
     "text": [
      "\r",
      " 43%|████▎     | 162/378 [16:29<21:41,  6.02s/it]"
     ]
    },
    {
     "name": "stdout",
     "output_type": "stream",
     "text": [
      "torch.Size([64, 1, 64, 64])\n",
      "torch.Size([64, 1, 64, 64])\n",
      "recon is nan:\n",
      "0\n",
      "128.95958\n",
      "mu is nan:\n",
      "0\n",
      "13.596492\n",
      "lnvar is nan:\n",
      "0\n",
      "-2.3866067\n",
      "data is nan:\n",
      "0\n",
      "950.5753\n",
      "tensor(4.6553e+10, grad_fn=<AddBackward0>)\n"
     ]
    },
    {
     "name": "stderr",
     "output_type": "stream",
     "text": [
      "\r",
      " 43%|████▎     | 163/378 [16:35<21:39,  6.04s/it]"
     ]
    },
    {
     "name": "stdout",
     "output_type": "stream",
     "text": [
      "torch.Size([64, 1, 64, 64])\n",
      "torch.Size([64, 1, 64, 64])\n",
      "recon is nan:\n",
      "0\n",
      "136.04388\n",
      "mu is nan:\n",
      "0\n",
      "17.252419\n",
      "lnvar is nan:\n",
      "0\n",
      "-1.5111703\n",
      "data is nan:\n",
      "0\n",
      "987.0089\n",
      "tensor(4.5661e+10, grad_fn=<AddBackward0>)\n"
     ]
    },
    {
     "name": "stderr",
     "output_type": "stream",
     "text": [
      "\r",
      " 43%|████▎     | 164/378 [16:41<21:32,  6.04s/it]"
     ]
    },
    {
     "name": "stdout",
     "output_type": "stream",
     "text": [
      "torch.Size([64, 1, 64, 64])\n",
      "torch.Size([64, 1, 64, 64])\n",
      "recon is nan:\n",
      "0\n",
      "138.7046\n",
      "mu is nan:\n",
      "0\n",
      "15.902566\n",
      "lnvar is nan:\n",
      "0\n",
      "-1.67695\n",
      "data is nan:\n",
      "0\n",
      "978.3325\n",
      "tensor(4.4718e+10, grad_fn=<AddBackward0>)\n"
     ]
    },
    {
     "name": "stderr",
     "output_type": "stream",
     "text": [
      "\r",
      " 44%|████▎     | 165/378 [16:47<21:26,  6.04s/it]"
     ]
    },
    {
     "name": "stdout",
     "output_type": "stream",
     "text": [
      "torch.Size([64, 1, 64, 64])\n",
      "torch.Size([64, 1, 64, 64])\n",
      "recon is nan:\n",
      "0\n",
      "136.33815\n",
      "mu is nan:\n",
      "0\n",
      "14.738086\n",
      "lnvar is nan:\n",
      "0\n",
      "-0.55616313\n",
      "data is nan:\n",
      "0\n",
      "938.9681\n",
      "tensor(4.5778e+10, grad_fn=<AddBackward0>)\n"
     ]
    },
    {
     "name": "stderr",
     "output_type": "stream",
     "text": [
      "\r",
      " 44%|████▍     | 166/378 [16:53<21:24,  6.06s/it]"
     ]
    },
    {
     "name": "stdout",
     "output_type": "stream",
     "text": [
      "torch.Size([64, 1, 64, 64])\n",
      "torch.Size([64, 1, 64, 64])\n",
      "recon is nan:\n",
      "0\n",
      "147.32805\n",
      "mu is nan:\n",
      "0\n",
      "15.127703\n",
      "lnvar is nan:\n",
      "0\n",
      "-2.8308809\n",
      "data is nan:\n",
      "0\n",
      "975.28937\n",
      "tensor(4.2949e+10, grad_fn=<AddBackward0>)\n"
     ]
    },
    {
     "name": "stderr",
     "output_type": "stream",
     "text": [
      "\r",
      " 44%|████▍     | 167/378 [16:59<21:16,  6.05s/it]"
     ]
    },
    {
     "name": "stdout",
     "output_type": "stream",
     "text": [
      "torch.Size([64, 1, 64, 64])\n",
      "torch.Size([64, 1, 64, 64])\n",
      "recon is nan:\n",
      "0\n",
      "124.50668\n",
      "mu is nan:\n",
      "0\n",
      "13.81411\n",
      "lnvar is nan:\n",
      "0\n",
      "-1.845598\n",
      "data is nan:\n",
      "0\n",
      "917.56683\n",
      "tensor(4.5096e+10, grad_fn=<AddBackward0>)\n"
     ]
    },
    {
     "name": "stderr",
     "output_type": "stream",
     "text": [
      "\r",
      " 44%|████▍     | 168/378 [17:05<21:09,  6.05s/it]"
     ]
    },
    {
     "name": "stdout",
     "output_type": "stream",
     "text": [
      "torch.Size([64, 1, 64, 64])\n",
      "torch.Size([64, 1, 64, 64])\n",
      "recon is nan:\n",
      "0\n",
      "141.35468\n",
      "mu is nan:\n",
      "0\n",
      "13.330626\n",
      "lnvar is nan:\n",
      "0\n",
      "-2.3615503\n",
      "data is nan:\n",
      "0\n",
      "983.0694\n",
      "tensor(4.2465e+10, grad_fn=<AddBackward0>)\n"
     ]
    },
    {
     "name": "stderr",
     "output_type": "stream",
     "text": [
      "\r",
      " 45%|████▍     | 169/378 [17:11<21:02,  6.04s/it]"
     ]
    },
    {
     "name": "stdout",
     "output_type": "stream",
     "text": [
      "torch.Size([64, 1, 64, 64])\n",
      "torch.Size([64, 1, 64, 64])\n",
      "recon is nan:\n",
      "0\n",
      "135.58911\n",
      "mu is nan:\n",
      "0\n",
      "19.85072\n",
      "lnvar is nan:\n",
      "0\n",
      "-2.6828866\n",
      "data is nan:\n",
      "0\n",
      "952.9073\n",
      "tensor(4.4122e+10, grad_fn=<AddBackward0>)\n"
     ]
    },
    {
     "name": "stderr",
     "output_type": "stream",
     "text": [
      "\r",
      " 45%|████▍     | 170/378 [17:17<20:55,  6.04s/it]"
     ]
    },
    {
     "name": "stdout",
     "output_type": "stream",
     "text": [
      "torch.Size([64, 1, 64, 64])\n",
      "torch.Size([64, 1, 64, 64])\n",
      "recon is nan:\n",
      "0\n",
      "139.75061\n",
      "mu is nan:\n",
      "0\n",
      "13.357698\n",
      "lnvar is nan:\n",
      "0\n",
      "-2.0207777\n",
      "data is nan:\n",
      "0\n",
      "948.27655\n",
      "tensor(4.2810e+10, grad_fn=<AddBackward0>)\n"
     ]
    },
    {
     "name": "stderr",
     "output_type": "stream",
     "text": [
      "\r",
      " 45%|████▌     | 171/378 [17:23<20:48,  6.03s/it]"
     ]
    },
    {
     "name": "stdout",
     "output_type": "stream",
     "text": [
      "torch.Size([64, 1, 64, 64])\n",
      "torch.Size([64, 1, 64, 64])\n",
      "recon is nan:\n",
      "0\n",
      "155.73497\n",
      "mu is nan:\n",
      "0\n",
      "16.34099\n",
      "lnvar is nan:\n",
      "0\n",
      "-2.1299815\n",
      "data is nan:\n",
      "0\n",
      "971.2032\n",
      "tensor(4.3043e+10, grad_fn=<AddBackward0>)\n"
     ]
    },
    {
     "name": "stderr",
     "output_type": "stream",
     "text": [
      "\r",
      " 46%|████▌     | 172/378 [17:29<20:43,  6.04s/it]"
     ]
    },
    {
     "name": "stdout",
     "output_type": "stream",
     "text": [
      "torch.Size([64, 1, 64, 64])\n",
      "torch.Size([64, 1, 64, 64])\n",
      "recon is nan:\n",
      "0\n",
      "154.47853\n",
      "mu is nan:\n",
      "0\n",
      "18.75528\n",
      "lnvar is nan:\n",
      "0\n",
      "-2.696335\n",
      "data is nan:\n",
      "0\n",
      "940.39197\n",
      "tensor(4.2192e+10, grad_fn=<AddBackward0>)\n"
     ]
    },
    {
     "name": "stderr",
     "output_type": "stream",
     "text": [
      "\r",
      " 46%|████▌     | 173/378 [17:35<20:36,  6.03s/it]"
     ]
    },
    {
     "name": "stdout",
     "output_type": "stream",
     "text": [
      "torch.Size([64, 1, 64, 64])\n",
      "torch.Size([64, 1, 64, 64])\n",
      "recon is nan:\n",
      "0\n",
      "149.92366\n",
      "mu is nan:\n",
      "0\n",
      "13.408354\n",
      "lnvar is nan:\n",
      "0\n",
      "-2.3790205\n",
      "data is nan:\n",
      "0\n",
      "971.49786\n",
      "tensor(4.4106e+10, grad_fn=<AddBackward0>)\n"
     ]
    },
    {
     "name": "stderr",
     "output_type": "stream",
     "text": [
      "\r",
      " 46%|████▌     | 174/378 [17:41<20:32,  6.04s/it]"
     ]
    },
    {
     "name": "stdout",
     "output_type": "stream",
     "text": [
      "torch.Size([64, 1, 64, 64])\n",
      "torch.Size([64, 1, 64, 64])\n",
      "recon is nan:\n",
      "0\n",
      "143.16205\n",
      "mu is nan:\n",
      "0\n",
      "14.484161\n",
      "lnvar is nan:\n",
      "0\n",
      "-3.0912924\n",
      "data is nan:\n",
      "0\n",
      "995.7273\n",
      "tensor(4.3463e+10, grad_fn=<AddBackward0>)\n"
     ]
    },
    {
     "name": "stderr",
     "output_type": "stream",
     "text": [
      "\r",
      " 46%|████▋     | 175/378 [17:47<20:27,  6.05s/it]"
     ]
    },
    {
     "name": "stdout",
     "output_type": "stream",
     "text": [
      "torch.Size([64, 1, 64, 64])\n",
      "torch.Size([64, 1, 64, 64])\n",
      "recon is nan:\n",
      "0\n",
      "141.43538\n",
      "mu is nan:\n",
      "0\n",
      "14.180334\n",
      "lnvar is nan:\n",
      "0\n",
      "-1.6005735\n",
      "data is nan:\n",
      "0\n",
      "966.553\n",
      "tensor(4.8031e+10, grad_fn=<AddBackward0>)\n"
     ]
    },
    {
     "name": "stderr",
     "output_type": "stream",
     "text": [
      "\r",
      " 47%|████▋     | 176/378 [17:54<20:21,  6.05s/it]"
     ]
    },
    {
     "name": "stdout",
     "output_type": "stream",
     "text": [
      "torch.Size([64, 1, 64, 64])\n",
      "torch.Size([64, 1, 64, 64])\n",
      "recon is nan:\n",
      "0\n",
      "166.31424\n",
      "mu is nan:\n",
      "0\n",
      "13.070832\n",
      "lnvar is nan:\n",
      "0\n",
      "-2.612124\n",
      "data is nan:\n",
      "0\n",
      "965.42065\n",
      "tensor(4.2177e+10, grad_fn=<AddBackward0>)\n"
     ]
    },
    {
     "name": "stderr",
     "output_type": "stream",
     "text": [
      "\r",
      " 47%|████▋     | 177/378 [18:00<20:17,  6.06s/it]"
     ]
    },
    {
     "name": "stdout",
     "output_type": "stream",
     "text": [
      "torch.Size([64, 1, 64, 64])\n",
      "torch.Size([64, 1, 64, 64])\n",
      "recon is nan:\n",
      "0\n",
      "145.76788\n",
      "mu is nan:\n",
      "0\n",
      "13.104029\n",
      "lnvar is nan:\n",
      "0\n",
      "-1.0561346\n",
      "data is nan:\n",
      "0\n",
      "948.08606\n",
      "tensor(4.5022e+10, grad_fn=<AddBackward0>)\n"
     ]
    },
    {
     "name": "stderr",
     "output_type": "stream",
     "text": [
      "\r",
      " 47%|████▋     | 178/378 [18:06<20:09,  6.05s/it]"
     ]
    },
    {
     "name": "stdout",
     "output_type": "stream",
     "text": [
      "torch.Size([64, 1, 64, 64])\n",
      "torch.Size([64, 1, 64, 64])\n",
      "recon is nan:\n",
      "0\n",
      "150.67497\n",
      "mu is nan:\n",
      "0\n",
      "19.819382\n",
      "lnvar is nan:\n",
      "0\n",
      "-1.3707155\n",
      "data is nan:\n",
      "0\n",
      "959.29333\n",
      "tensor(4.2427e+10, grad_fn=<AddBackward0>)\n"
     ]
    },
    {
     "name": "stderr",
     "output_type": "stream",
     "text": [
      "\r",
      " 47%|████▋     | 179/378 [18:12<20:07,  6.07s/it]"
     ]
    },
    {
     "name": "stdout",
     "output_type": "stream",
     "text": [
      "torch.Size([64, 1, 64, 64])\n",
      "torch.Size([64, 1, 64, 64])\n",
      "recon is nan:\n",
      "0\n",
      "159.97348\n",
      "mu is nan:\n",
      "0\n",
      "13.672556\n",
      "lnvar is nan:\n",
      "0\n",
      "-2.7340193\n",
      "data is nan:\n",
      "0\n",
      "1015.9686\n",
      "tensor(4.6006e+10, grad_fn=<AddBackward0>)\n"
     ]
    },
    {
     "name": "stderr",
     "output_type": "stream",
     "text": [
      "\r",
      " 48%|████▊     | 180/378 [18:18<20:11,  6.12s/it]"
     ]
    },
    {
     "name": "stdout",
     "output_type": "stream",
     "text": [
      "torch.Size([64, 1, 64, 64])\n",
      "torch.Size([64, 1, 64, 64])\n",
      "recon is nan:\n",
      "0\n",
      "177.4213\n",
      "mu is nan:\n",
      "0\n",
      "14.67149\n",
      "lnvar is nan:\n",
      "0\n",
      "-2.4938207\n",
      "data is nan:\n",
      "0\n",
      "1013.2492\n",
      "tensor(4.3490e+10, grad_fn=<AddBackward0>)\n"
     ]
    },
    {
     "name": "stderr",
     "output_type": "stream",
     "text": [
      "\r",
      " 48%|████▊     | 181/378 [18:24<20:02,  6.11s/it]"
     ]
    },
    {
     "name": "stdout",
     "output_type": "stream",
     "text": [
      "torch.Size([64, 1, 64, 64])\n",
      "torch.Size([64, 1, 64, 64])\n",
      "recon is nan:\n",
      "0\n",
      "166.11714\n",
      "mu is nan:\n",
      "0\n",
      "15.262953\n",
      "lnvar is nan:\n",
      "0\n",
      "-2.4100657\n",
      "data is nan:\n",
      "0\n",
      "938.1037\n",
      "tensor(3.9083e+10, grad_fn=<AddBackward0>)\n"
     ]
    },
    {
     "name": "stderr",
     "output_type": "stream",
     "text": [
      "\r",
      " 48%|████▊     | 182/378 [18:30<19:50,  6.07s/it]"
     ]
    },
    {
     "name": "stdout",
     "output_type": "stream",
     "text": [
      "torch.Size([64, 1, 64, 64])\n",
      "torch.Size([64, 1, 64, 64])\n",
      "recon is nan:\n",
      "0\n",
      "157.02257\n",
      "mu is nan:\n",
      "0\n",
      "13.741731\n",
      "lnvar is nan:\n",
      "0\n",
      "-2.4140005\n",
      "data is nan:\n",
      "0\n",
      "965.6482\n",
      "tensor(3.9900e+10, grad_fn=<AddBackward0>)\n"
     ]
    },
    {
     "name": "stderr",
     "output_type": "stream",
     "text": [
      "\r",
      " 48%|████▊     | 183/378 [18:36<19:44,  6.08s/it]"
     ]
    },
    {
     "name": "stdout",
     "output_type": "stream",
     "text": [
      "torch.Size([64, 1, 64, 64])\n",
      "torch.Size([64, 1, 64, 64])\n",
      "recon is nan:\n",
      "0\n",
      "150.00906\n",
      "mu is nan:\n",
      "0\n",
      "15.276567\n",
      "lnvar is nan:\n",
      "0\n",
      "-2.4841342\n",
      "data is nan:\n",
      "0\n",
      "917.94196\n",
      "tensor(4.0378e+10, grad_fn=<AddBackward0>)\n"
     ]
    },
    {
     "name": "stderr",
     "output_type": "stream",
     "text": [
      "\r",
      " 49%|████▊     | 184/378 [18:42<19:36,  6.07s/it]"
     ]
    },
    {
     "name": "stdout",
     "output_type": "stream",
     "text": [
      "torch.Size([64, 1, 64, 64])\n",
      "torch.Size([64, 1, 64, 64])\n",
      "recon is nan:\n",
      "0\n",
      "160.25786\n",
      "mu is nan:\n",
      "0\n",
      "14.553069\n",
      "lnvar is nan:\n",
      "0\n",
      "-2.0814745\n",
      "data is nan:\n",
      "0\n",
      "962.0526\n",
      "tensor(4.0614e+10, grad_fn=<AddBackward0>)\n"
     ]
    },
    {
     "name": "stderr",
     "output_type": "stream",
     "text": [
      "\r",
      " 49%|████▉     | 185/378 [18:48<19:30,  6.06s/it]"
     ]
    },
    {
     "name": "stdout",
     "output_type": "stream",
     "text": [
      "torch.Size([64, 1, 64, 64])\n",
      "torch.Size([64, 1, 64, 64])\n",
      "recon is nan:\n",
      "0\n",
      "148.95346\n",
      "mu is nan:\n",
      "0\n",
      "15.418137\n",
      "lnvar is nan:\n",
      "0\n",
      "-2.713333\n",
      "data is nan:\n",
      "0\n",
      "969.13965\n",
      "tensor(4.2578e+10, grad_fn=<AddBackward0>)\n"
     ]
    },
    {
     "name": "stderr",
     "output_type": "stream",
     "text": [
      "\r",
      " 49%|████▉     | 186/378 [18:54<19:23,  6.06s/it]"
     ]
    },
    {
     "name": "stdout",
     "output_type": "stream",
     "text": [
      "torch.Size([64, 1, 64, 64])\n",
      "torch.Size([64, 1, 64, 64])\n",
      "recon is nan:\n",
      "0\n",
      "145.42476\n",
      "mu is nan:\n",
      "0\n",
      "14.632333\n",
      "lnvar is nan:\n",
      "0\n",
      "-2.6619906\n",
      "data is nan:\n",
      "0\n",
      "972.3524\n",
      "tensor(4.3581e+10, grad_fn=<AddBackward0>)\n"
     ]
    },
    {
     "name": "stderr",
     "output_type": "stream",
     "text": [
      "\r",
      " 49%|████▉     | 187/378 [19:00<19:15,  6.05s/it]"
     ]
    },
    {
     "name": "stdout",
     "output_type": "stream",
     "text": [
      "torch.Size([64, 1, 64, 64])\n",
      "torch.Size([64, 1, 64, 64])\n",
      "recon is nan:\n",
      "0\n",
      "172.51935\n",
      "mu is nan:\n",
      "0\n",
      "13.663824\n",
      "lnvar is nan:\n",
      "0\n",
      "-3.0396292\n",
      "data is nan:\n",
      "0\n",
      "990.75854\n",
      "tensor(4.4258e+10, grad_fn=<AddBackward0>)\n"
     ]
    },
    {
     "name": "stderr",
     "output_type": "stream",
     "text": [
      "\r",
      " 50%|████▉     | 188/378 [19:06<19:07,  6.04s/it]"
     ]
    },
    {
     "name": "stdout",
     "output_type": "stream",
     "text": [
      "torch.Size([64, 1, 64, 64])\n",
      "torch.Size([64, 1, 64, 64])\n",
      "recon is nan:\n",
      "0\n",
      "190.97046\n",
      "mu is nan:\n",
      "0\n",
      "15.78597\n",
      "lnvar is nan:\n",
      "0\n",
      "-2.6709096\n",
      "data is nan:\n",
      "0\n",
      "963.8481\n",
      "tensor(4.3393e+10, grad_fn=<AddBackward0>)\n"
     ]
    },
    {
     "name": "stderr",
     "output_type": "stream",
     "text": [
      "\r",
      " 50%|█████     | 189/378 [19:12<19:05,  6.06s/it]"
     ]
    },
    {
     "name": "stdout",
     "output_type": "stream",
     "text": [
      "torch.Size([64, 1, 64, 64])\n",
      "torch.Size([64, 1, 64, 64])\n",
      "recon is nan:\n",
      "0\n",
      "178.62537\n",
      "mu is nan:\n",
      "0\n",
      "13.5273695\n",
      "lnvar is nan:\n",
      "0\n",
      "-2.8777773\n",
      "data is nan:\n",
      "0\n",
      "930.7846\n",
      "tensor(4.4517e+10, grad_fn=<AddBackward0>)\n"
     ]
    },
    {
     "name": "stderr",
     "output_type": "stream",
     "text": [
      "\r",
      " 50%|█████     | 190/378 [19:19<19:07,  6.10s/it]"
     ]
    },
    {
     "name": "stdout",
     "output_type": "stream",
     "text": [
      "torch.Size([64, 1, 64, 64])\n",
      "torch.Size([64, 1, 64, 64])\n",
      "recon is nan:\n",
      "0\n",
      "183.64665\n",
      "mu is nan:\n",
      "0\n",
      "14.097527\n",
      "lnvar is nan:\n",
      "0\n",
      "-2.7146149\n",
      "data is nan:\n",
      "0\n",
      "981.2659\n",
      "tensor(3.9648e+10, grad_fn=<AddBackward0>)\n"
     ]
    },
    {
     "name": "stderr",
     "output_type": "stream",
     "text": [
      "\r",
      " 51%|█████     | 191/378 [19:25<19:12,  6.16s/it]"
     ]
    },
    {
     "name": "stdout",
     "output_type": "stream",
     "text": [
      "torch.Size([64, 1, 64, 64])\n",
      "torch.Size([64, 1, 64, 64])\n",
      "recon is nan:\n",
      "0\n",
      "174.50928\n",
      "mu is nan:\n",
      "0\n",
      "14.082088\n",
      "lnvar is nan:\n",
      "0\n",
      "-2.4712505\n",
      "data is nan:\n",
      "0\n",
      "943.7225\n",
      "tensor(4.5502e+10, grad_fn=<AddBackward0>)\n"
     ]
    },
    {
     "name": "stderr",
     "output_type": "stream",
     "text": [
      "\r",
      " 51%|█████     | 192/378 [19:31<19:12,  6.19s/it]"
     ]
    },
    {
     "name": "stdout",
     "output_type": "stream",
     "text": [
      "torch.Size([64, 1, 64, 64])\n",
      "torch.Size([64, 1, 64, 64])\n",
      "recon is nan:\n",
      "0\n",
      "184.96666\n",
      "mu is nan:\n",
      "0\n",
      "16.107592\n",
      "lnvar is nan:\n",
      "0\n",
      "-2.9854758\n",
      "data is nan:\n",
      "0\n",
      "979.4004\n",
      "tensor(4.2633e+10, grad_fn=<AddBackward0>)\n"
     ]
    },
    {
     "name": "stderr",
     "output_type": "stream",
     "text": [
      "\r",
      " 51%|█████     | 193/378 [19:37<19:07,  6.20s/it]"
     ]
    },
    {
     "name": "stdout",
     "output_type": "stream",
     "text": [
      "torch.Size([64, 1, 64, 64])\n",
      "torch.Size([64, 1, 64, 64])\n",
      "recon is nan:\n",
      "0\n",
      "179.46765\n",
      "mu is nan:\n",
      "0\n",
      "16.311077\n",
      "lnvar is nan:\n",
      "0\n",
      "-3.1331987\n",
      "data is nan:\n",
      "0\n",
      "919.75366\n",
      "tensor(3.9605e+10, grad_fn=<AddBackward0>)\n"
     ]
    },
    {
     "name": "stderr",
     "output_type": "stream",
     "text": [
      "\r",
      " 51%|█████▏    | 194/378 [19:44<18:59,  6.19s/it]"
     ]
    },
    {
     "name": "stdout",
     "output_type": "stream",
     "text": [
      "torch.Size([64, 1, 64, 64])\n",
      "torch.Size([64, 1, 64, 64])\n",
      "recon is nan:\n",
      "0\n",
      "171.72365\n",
      "mu is nan:\n",
      "0\n",
      "16.085209\n",
      "lnvar is nan:\n",
      "0\n",
      "-2.698565\n",
      "data is nan:\n",
      "0\n",
      "936.3916\n",
      "tensor(4.4016e+10, grad_fn=<AddBackward0>)\n"
     ]
    },
    {
     "name": "stderr",
     "output_type": "stream",
     "text": [
      "\r",
      " 52%|█████▏    | 195/378 [19:50<18:57,  6.22s/it]"
     ]
    },
    {
     "name": "stdout",
     "output_type": "stream",
     "text": [
      "torch.Size([64, 1, 64, 64])\n",
      "torch.Size([64, 1, 64, 64])\n",
      "recon is nan:\n",
      "0\n",
      "176.46782\n",
      "mu is nan:\n",
      "0\n",
      "20.048805\n",
      "lnvar is nan:\n",
      "0\n",
      "-2.6873016\n",
      "data is nan:\n",
      "0\n",
      "952.759\n",
      "tensor(4.1689e+10, grad_fn=<AddBackward0>)\n"
     ]
    },
    {
     "name": "stderr",
     "output_type": "stream",
     "text": [
      "\r",
      " 52%|█████▏    | 196/378 [19:56<18:56,  6.24s/it]"
     ]
    },
    {
     "name": "stdout",
     "output_type": "stream",
     "text": [
      "torch.Size([64, 1, 64, 64])\n",
      "torch.Size([64, 1, 64, 64])\n",
      "recon is nan:\n",
      "0\n",
      "165.46771\n",
      "mu is nan:\n",
      "0\n",
      "17.555378\n",
      "lnvar is nan:\n",
      "0\n",
      "-3.1366591\n",
      "data is nan:\n",
      "0\n",
      "956.587\n",
      "tensor(4.3193e+10, grad_fn=<AddBackward0>)\n"
     ]
    },
    {
     "name": "stderr",
     "output_type": "stream",
     "text": [
      "\r",
      " 52%|█████▏    | 197/378 [20:02<18:52,  6.26s/it]"
     ]
    },
    {
     "name": "stdout",
     "output_type": "stream",
     "text": [
      "torch.Size([64, 1, 64, 64])\n",
      "torch.Size([64, 1, 64, 64])\n",
      "recon is nan:\n",
      "0\n",
      "168.79211\n",
      "mu is nan:\n",
      "0\n",
      "15.11646\n",
      "lnvar is nan:\n",
      "0\n",
      "-1.2233943\n",
      "data is nan:\n",
      "0\n",
      "983.18896\n",
      "tensor(4.5149e+10, grad_fn=<AddBackward0>)\n"
     ]
    },
    {
     "name": "stderr",
     "output_type": "stream",
     "text": [
      "\r",
      " 52%|█████▏    | 198/378 [20:09<18:43,  6.24s/it]"
     ]
    },
    {
     "name": "stdout",
     "output_type": "stream",
     "text": [
      "torch.Size([64, 1, 64, 64])\n",
      "torch.Size([64, 1, 64, 64])\n",
      "recon is nan:\n",
      "0\n",
      "193.60335\n",
      "mu is nan:\n",
      "0\n",
      "14.672325\n",
      "lnvar is nan:\n",
      "0\n",
      "-3.1422148\n",
      "data is nan:\n",
      "0\n",
      "987.6465\n",
      "tensor(4.3412e+10, grad_fn=<AddBackward0>)\n"
     ]
    },
    {
     "name": "stderr",
     "output_type": "stream",
     "text": [
      "\r",
      " 53%|█████▎    | 199/378 [20:15<18:38,  6.25s/it]"
     ]
    },
    {
     "name": "stdout",
     "output_type": "stream",
     "text": [
      "torch.Size([64, 1, 64, 64])\n",
      "torch.Size([64, 1, 64, 64])\n",
      "recon is nan:\n",
      "0\n",
      "175.16267\n",
      "mu is nan:\n",
      "0\n",
      "15.60925\n",
      "lnvar is nan:\n",
      "0\n",
      "-2.8465657\n",
      "data is nan:\n",
      "0\n",
      "946.8844\n",
      "tensor(3.9029e+10, grad_fn=<AddBackward0>)\n"
     ]
    },
    {
     "name": "stderr",
     "output_type": "stream",
     "text": [
      "\r",
      " 53%|█████▎    | 200/378 [20:21<18:29,  6.23s/it]"
     ]
    },
    {
     "ename": "KeyboardInterrupt",
     "evalue": "",
     "output_type": "error",
     "traceback": [
      "\u001b[0;31m---------------------------------------------------------------------------\u001b[0m",
      "\u001b[0;31mKeyboardInterrupt\u001b[0m                         Traceback (most recent call last)",
      "\u001b[0;32m<ipython-input-14-a58b890ad831>\u001b[0m in \u001b[0;36m<module>\u001b[0;34m\u001b[0m\n\u001b[1;32m      7\u001b[0m         \u001b[0moutput_dir\u001b[0m \u001b[0;34m=\u001b[0m \u001b[0;34m\"vae-output-check\"\u001b[0m\u001b[0;34m,\u001b[0m\u001b[0;34m\u001b[0m\u001b[0;34m\u001b[0m\u001b[0m\n\u001b[1;32m      8\u001b[0m         \u001b[0mtorch_seed\u001b[0m\u001b[0;34m=\u001b[0m \u001b[0mint\u001b[0m\u001b[0;34m(\u001b[0m\u001b[0;36m0\u001b[0m\u001b[0;34m)\u001b[0m\u001b[0;34m,\u001b[0m\u001b[0;34m\u001b[0m\u001b[0;34m\u001b[0m\u001b[0m\n\u001b[0;32m----> 9\u001b[0;31m         \u001b[0mbatch_size\u001b[0m\u001b[0;34m=\u001b[0m\u001b[0;36m64\u001b[0m\u001b[0;34m,\u001b[0m\u001b[0;34m\u001b[0m\u001b[0;34m\u001b[0m\u001b[0m\n\u001b[0m\u001b[1;32m     10\u001b[0m        )\n\u001b[1;32m     11\u001b[0m \u001b[0mresdict\u001b[0m\u001b[0;34m[\u001b[0m\u001b[0;34m'vae'\u001b[0m\u001b[0;34m]\u001b[0m \u001b[0;34m=\u001b[0m \u001b[0mvae\u001b[0m\u001b[0;34m\u001b[0m\u001b[0;34m\u001b[0m\u001b[0m\n",
      "\u001b[0;32m~/Dropbox/Columbia/1.Dan/John/DR-VAE/drvae/model/vae.py\u001b[0m in \u001b[0;36mfit\u001b[0;34m(self, Xdata, Ydata, **kwargs)\u001b[0m\n\u001b[1;32m     54\u001b[0m         \u001b[0mprint\u001b[0m\u001b[0;34m(\u001b[0m\u001b[0mXtrain\u001b[0m\u001b[0;34m,\u001b[0m \u001b[0mXval\u001b[0m\u001b[0;34m,\u001b[0m \u001b[0mXtest\u001b[0m\u001b[0;34m,\u001b[0m \u001b[0mYtrain\u001b[0m\u001b[0;34m,\u001b[0m \u001b[0mYval\u001b[0m\u001b[0;34m,\u001b[0m \u001b[0mYtest\u001b[0m\u001b[0;34m)\u001b[0m\u001b[0;34m\u001b[0m\u001b[0;34m\u001b[0m\u001b[0m\n\u001b[1;32m     55\u001b[0m         self.fit_res = train.fit_vae(self, Xtrain, Xval, Xtest,\n\u001b[0;32m---> 56\u001b[0;31m                                            Ytrain, Yval, Ytest, **kwargs)\n\u001b[0m\u001b[1;32m     57\u001b[0m         \u001b[0;32mreturn\u001b[0m \u001b[0mself\u001b[0m\u001b[0;34m.\u001b[0m\u001b[0mfit_res\u001b[0m\u001b[0;34m\u001b[0m\u001b[0;34m\u001b[0m\u001b[0m\n\u001b[1;32m     58\u001b[0m \u001b[0;34m\u001b[0m\u001b[0m\n",
      "\u001b[0;32m~/Dropbox/Columbia/1.Dan/John/DR-VAE/drvae/model/train.py\u001b[0m in \u001b[0;36mfit_vae\u001b[0;34m(model, Xtrain, Xval, Xtest, Ytrain, Yval, Ytest, **kwargs)\u001b[0m\n\u001b[1;32m     92\u001b[0m                                             \u001b[0mdo_cuda\u001b[0m       \u001b[0;34m=\u001b[0m \u001b[0mdo_cuda\u001b[0m\u001b[0;34m,\u001b[0m\u001b[0;34m\u001b[0m\u001b[0;34m\u001b[0m\u001b[0m\n\u001b[1;32m     93\u001b[0m                                             \u001b[0mlog_interval\u001b[0m  \u001b[0;34m=\u001b[0m \u001b[0mlog_interval\u001b[0m\u001b[0;34m,\u001b[0m\u001b[0;34m\u001b[0m\u001b[0;34m\u001b[0m\u001b[0m\n\u001b[0;32m---> 94\u001b[0;31m                                             num_samples   = 1)\n\u001b[0m\u001b[1;32m     95\u001b[0m         \u001b[0mvloss\u001b[0m\u001b[0;34m,\u001b[0m \u001b[0mvrmse\u001b[0m\u001b[0;34m,\u001b[0m \u001b[0mvprecon\u001b[0m \u001b[0;34m=\u001b[0m \u001b[0mtest_epoch_func\u001b[0m\u001b[0;34m(\u001b[0m\u001b[0mepoch\u001b[0m\u001b[0;34m,\u001b[0m \u001b[0mmodel\u001b[0m\u001b[0;34m,\u001b[0m \u001b[0mval_loader\u001b[0m\u001b[0;34m,\u001b[0m \u001b[0mdo_cuda\u001b[0m\u001b[0;34m)\u001b[0m\u001b[0;34m\u001b[0m\u001b[0;34m\u001b[0m\u001b[0m\n\u001b[1;32m     96\u001b[0m         \u001b[0;32mif\u001b[0m \u001b[0mepoch\u001b[0m \u001b[0;34m%\u001b[0m \u001b[0mepoch_log_interval\u001b[0m \u001b[0;34m==\u001b[0m \u001b[0;36m0\u001b[0m\u001b[0;34m:\u001b[0m\u001b[0;34m\u001b[0m\u001b[0;34m\u001b[0m\u001b[0m\n",
      "\u001b[0;32m~/Dropbox/Columbia/1.Dan/John/DR-VAE/drvae/model/train.py\u001b[0m in \u001b[0;36mtrain_epoch_xraydata\u001b[0;34m(epoch, model, train_loader, optimizer, do_cuda, log_interval, num_samples)\u001b[0m\n\u001b[1;32m    237\u001b[0m     \u001b[0;31m#trues, preds = [], []\u001b[0m\u001b[0;34m\u001b[0m\u001b[0;34m\u001b[0m\u001b[0;34m\u001b[0m\u001b[0m\n\u001b[1;32m    238\u001b[0m     \u001b[0mt\u001b[0m \u001b[0;34m=\u001b[0m \u001b[0mtqdm\u001b[0m\u001b[0;34m(\u001b[0m\u001b[0mtrain_loader\u001b[0m\u001b[0;34m)\u001b[0m\u001b[0;34m\u001b[0m\u001b[0;34m\u001b[0m\u001b[0m\n\u001b[0;32m--> 239\u001b[0;31m     \u001b[0;32mfor\u001b[0m \u001b[0mbatch_idx\u001b[0m\u001b[0;34m,\u001b[0m \u001b[0msamples\u001b[0m \u001b[0;32min\u001b[0m \u001b[0menumerate\u001b[0m\u001b[0;34m(\u001b[0m\u001b[0mt\u001b[0m\u001b[0;34m)\u001b[0m\u001b[0;34m:\u001b[0m\u001b[0;34m\u001b[0m\u001b[0;34m\u001b[0m\u001b[0m\n\u001b[0m\u001b[1;32m    240\u001b[0m         \u001b[0mdata\u001b[0m \u001b[0;34m=\u001b[0m \u001b[0msamples\u001b[0m\u001b[0;34m[\u001b[0m\u001b[0;34m\"PA\"\u001b[0m\u001b[0;34m]\u001b[0m\u001b[0;34m.\u001b[0m\u001b[0mfloat\u001b[0m\u001b[0;34m(\u001b[0m\u001b[0;34m)\u001b[0m\u001b[0;34m\u001b[0m\u001b[0;34m\u001b[0m\u001b[0m\n\u001b[1;32m    241\u001b[0m         \u001b[0mtarget\u001b[0m \u001b[0;34m=\u001b[0m \u001b[0msamples\u001b[0m\u001b[0;34m[\u001b[0m\u001b[0;34m\"lab\"\u001b[0m\u001b[0;34m]\u001b[0m\u001b[0;34m\u001b[0m\u001b[0;34m\u001b[0m\u001b[0m\n",
      "\u001b[0;32m/anaconda3/envs/pytorch_env/lib/python3.6/site-packages/tqdm/_tqdm.py\u001b[0m in \u001b[0;36m__iter__\u001b[0;34m(self)\u001b[0m\n\u001b[1;32m   1020\u001b[0m                 \"\"\"), fp_write=getattr(self.fp, 'write', sys.stderr.write))\n\u001b[1;32m   1021\u001b[0m \u001b[0;34m\u001b[0m\u001b[0m\n\u001b[0;32m-> 1022\u001b[0;31m             \u001b[0;32mfor\u001b[0m \u001b[0mobj\u001b[0m \u001b[0;32min\u001b[0m \u001b[0miterable\u001b[0m\u001b[0;34m:\u001b[0m\u001b[0;34m\u001b[0m\u001b[0;34m\u001b[0m\u001b[0m\n\u001b[0m\u001b[1;32m   1023\u001b[0m                 \u001b[0;32myield\u001b[0m \u001b[0mobj\u001b[0m\u001b[0;34m\u001b[0m\u001b[0;34m\u001b[0m\u001b[0m\n\u001b[1;32m   1024\u001b[0m                 \u001b[0;31m# Update and possibly print the progressbar.\u001b[0m\u001b[0;34m\u001b[0m\u001b[0;34m\u001b[0m\u001b[0;34m\u001b[0m\u001b[0m\n",
      "\u001b[0;32m/anaconda3/envs/pytorch_env/lib/python3.6/site-packages/torch/utils/data/dataloader.py\u001b[0m in \u001b[0;36m__next__\u001b[0;34m(self)\u001b[0m\n\u001b[1;32m    343\u001b[0m \u001b[0;34m\u001b[0m\u001b[0m\n\u001b[1;32m    344\u001b[0m     \u001b[0;32mdef\u001b[0m \u001b[0m__next__\u001b[0m\u001b[0;34m(\u001b[0m\u001b[0mself\u001b[0m\u001b[0;34m)\u001b[0m\u001b[0;34m:\u001b[0m\u001b[0;34m\u001b[0m\u001b[0;34m\u001b[0m\u001b[0m\n\u001b[0;32m--> 345\u001b[0;31m         \u001b[0mdata\u001b[0m \u001b[0;34m=\u001b[0m \u001b[0mself\u001b[0m\u001b[0;34m.\u001b[0m\u001b[0m_next_data\u001b[0m\u001b[0;34m(\u001b[0m\u001b[0;34m)\u001b[0m\u001b[0;34m\u001b[0m\u001b[0;34m\u001b[0m\u001b[0m\n\u001b[0m\u001b[1;32m    346\u001b[0m         \u001b[0mself\u001b[0m\u001b[0;34m.\u001b[0m\u001b[0m_num_yielded\u001b[0m \u001b[0;34m+=\u001b[0m \u001b[0;36m1\u001b[0m\u001b[0;34m\u001b[0m\u001b[0;34m\u001b[0m\u001b[0m\n\u001b[1;32m    347\u001b[0m         \u001b[0;32mif\u001b[0m \u001b[0mself\u001b[0m\u001b[0;34m.\u001b[0m\u001b[0m_dataset_kind\u001b[0m \u001b[0;34m==\u001b[0m \u001b[0m_DatasetKind\u001b[0m\u001b[0;34m.\u001b[0m\u001b[0mIterable\u001b[0m \u001b[0;32mand\u001b[0m\u001b[0;31m \u001b[0m\u001b[0;31m\\\u001b[0m\u001b[0;34m\u001b[0m\u001b[0;34m\u001b[0m\u001b[0m\n",
      "\u001b[0;32m/anaconda3/envs/pytorch_env/lib/python3.6/site-packages/torch/utils/data/dataloader.py\u001b[0m in \u001b[0;36m_next_data\u001b[0;34m(self)\u001b[0m\n\u001b[1;32m    383\u001b[0m     \u001b[0;32mdef\u001b[0m \u001b[0m_next_data\u001b[0m\u001b[0;34m(\u001b[0m\u001b[0mself\u001b[0m\u001b[0;34m)\u001b[0m\u001b[0;34m:\u001b[0m\u001b[0;34m\u001b[0m\u001b[0;34m\u001b[0m\u001b[0m\n\u001b[1;32m    384\u001b[0m         \u001b[0mindex\u001b[0m \u001b[0;34m=\u001b[0m \u001b[0mself\u001b[0m\u001b[0;34m.\u001b[0m\u001b[0m_next_index\u001b[0m\u001b[0;34m(\u001b[0m\u001b[0;34m)\u001b[0m  \u001b[0;31m# may raise StopIteration\u001b[0m\u001b[0;34m\u001b[0m\u001b[0;34m\u001b[0m\u001b[0m\n\u001b[0;32m--> 385\u001b[0;31m         \u001b[0mdata\u001b[0m \u001b[0;34m=\u001b[0m \u001b[0mself\u001b[0m\u001b[0;34m.\u001b[0m\u001b[0m_dataset_fetcher\u001b[0m\u001b[0;34m.\u001b[0m\u001b[0mfetch\u001b[0m\u001b[0;34m(\u001b[0m\u001b[0mindex\u001b[0m\u001b[0;34m)\u001b[0m  \u001b[0;31m# may raise StopIteration\u001b[0m\u001b[0;34m\u001b[0m\u001b[0;34m\u001b[0m\u001b[0m\n\u001b[0m\u001b[1;32m    386\u001b[0m         \u001b[0;32mif\u001b[0m \u001b[0mself\u001b[0m\u001b[0;34m.\u001b[0m\u001b[0m_pin_memory\u001b[0m\u001b[0;34m:\u001b[0m\u001b[0;34m\u001b[0m\u001b[0;34m\u001b[0m\u001b[0m\n\u001b[1;32m    387\u001b[0m             \u001b[0mdata\u001b[0m \u001b[0;34m=\u001b[0m \u001b[0m_utils\u001b[0m\u001b[0;34m.\u001b[0m\u001b[0mpin_memory\u001b[0m\u001b[0;34m.\u001b[0m\u001b[0mpin_memory\u001b[0m\u001b[0;34m(\u001b[0m\u001b[0mdata\u001b[0m\u001b[0;34m)\u001b[0m\u001b[0;34m\u001b[0m\u001b[0;34m\u001b[0m\u001b[0m\n",
      "\u001b[0;32m/anaconda3/envs/pytorch_env/lib/python3.6/site-packages/torch/utils/data/_utils/fetch.py\u001b[0m in \u001b[0;36mfetch\u001b[0;34m(self, possibly_batched_index)\u001b[0m\n\u001b[1;32m     42\u001b[0m     \u001b[0;32mdef\u001b[0m \u001b[0mfetch\u001b[0m\u001b[0;34m(\u001b[0m\u001b[0mself\u001b[0m\u001b[0;34m,\u001b[0m \u001b[0mpossibly_batched_index\u001b[0m\u001b[0;34m)\u001b[0m\u001b[0;34m:\u001b[0m\u001b[0;34m\u001b[0m\u001b[0;34m\u001b[0m\u001b[0m\n\u001b[1;32m     43\u001b[0m         \u001b[0;32mif\u001b[0m \u001b[0mself\u001b[0m\u001b[0;34m.\u001b[0m\u001b[0mauto_collation\u001b[0m\u001b[0;34m:\u001b[0m\u001b[0;34m\u001b[0m\u001b[0;34m\u001b[0m\u001b[0m\n\u001b[0;32m---> 44\u001b[0;31m             \u001b[0mdata\u001b[0m \u001b[0;34m=\u001b[0m \u001b[0;34m[\u001b[0m\u001b[0mself\u001b[0m\u001b[0;34m.\u001b[0m\u001b[0mdataset\u001b[0m\u001b[0;34m[\u001b[0m\u001b[0midx\u001b[0m\u001b[0;34m]\u001b[0m \u001b[0;32mfor\u001b[0m \u001b[0midx\u001b[0m \u001b[0;32min\u001b[0m \u001b[0mpossibly_batched_index\u001b[0m\u001b[0;34m]\u001b[0m\u001b[0;34m\u001b[0m\u001b[0;34m\u001b[0m\u001b[0m\n\u001b[0m\u001b[1;32m     45\u001b[0m         \u001b[0;32melse\u001b[0m\u001b[0;34m:\u001b[0m\u001b[0;34m\u001b[0m\u001b[0;34m\u001b[0m\u001b[0m\n\u001b[1;32m     46\u001b[0m             \u001b[0mdata\u001b[0m \u001b[0;34m=\u001b[0m \u001b[0mself\u001b[0m\u001b[0;34m.\u001b[0m\u001b[0mdataset\u001b[0m\u001b[0;34m[\u001b[0m\u001b[0mpossibly_batched_index\u001b[0m\u001b[0;34m]\u001b[0m\u001b[0;34m\u001b[0m\u001b[0;34m\u001b[0m\u001b[0m\n",
      "\u001b[0;32m/anaconda3/envs/pytorch_env/lib/python3.6/site-packages/torch/utils/data/_utils/fetch.py\u001b[0m in \u001b[0;36m<listcomp>\u001b[0;34m(.0)\u001b[0m\n\u001b[1;32m     42\u001b[0m     \u001b[0;32mdef\u001b[0m \u001b[0mfetch\u001b[0m\u001b[0;34m(\u001b[0m\u001b[0mself\u001b[0m\u001b[0;34m,\u001b[0m \u001b[0mpossibly_batched_index\u001b[0m\u001b[0;34m)\u001b[0m\u001b[0;34m:\u001b[0m\u001b[0;34m\u001b[0m\u001b[0;34m\u001b[0m\u001b[0m\n\u001b[1;32m     43\u001b[0m         \u001b[0;32mif\u001b[0m \u001b[0mself\u001b[0m\u001b[0;34m.\u001b[0m\u001b[0mauto_collation\u001b[0m\u001b[0;34m:\u001b[0m\u001b[0;34m\u001b[0m\u001b[0;34m\u001b[0m\u001b[0m\n\u001b[0;32m---> 44\u001b[0;31m             \u001b[0mdata\u001b[0m \u001b[0;34m=\u001b[0m \u001b[0;34m[\u001b[0m\u001b[0mself\u001b[0m\u001b[0;34m.\u001b[0m\u001b[0mdataset\u001b[0m\u001b[0;34m[\u001b[0m\u001b[0midx\u001b[0m\u001b[0;34m]\u001b[0m \u001b[0;32mfor\u001b[0m \u001b[0midx\u001b[0m \u001b[0;32min\u001b[0m \u001b[0mpossibly_batched_index\u001b[0m\u001b[0;34m]\u001b[0m\u001b[0;34m\u001b[0m\u001b[0;34m\u001b[0m\u001b[0m\n\u001b[0m\u001b[1;32m     45\u001b[0m         \u001b[0;32melse\u001b[0m\u001b[0;34m:\u001b[0m\u001b[0;34m\u001b[0m\u001b[0;34m\u001b[0m\u001b[0m\n\u001b[1;32m     46\u001b[0m             \u001b[0mdata\u001b[0m \u001b[0;34m=\u001b[0m \u001b[0mself\u001b[0m\u001b[0;34m.\u001b[0m\u001b[0mdataset\u001b[0m\u001b[0;34m[\u001b[0m\u001b[0mpossibly_batched_index\u001b[0m\u001b[0;34m]\u001b[0m\u001b[0;34m\u001b[0m\u001b[0;34m\u001b[0m\u001b[0m\n",
      "\u001b[0;32m/anaconda3/envs/pytorch_env/lib/python3.6/site-packages/torch/utils/data/dataset.py\u001b[0m in \u001b[0;36m__getitem__\u001b[0;34m(self, idx)\u001b[0m\n\u001b[1;32m    255\u001b[0m \u001b[0;34m\u001b[0m\u001b[0m\n\u001b[1;32m    256\u001b[0m     \u001b[0;32mdef\u001b[0m \u001b[0m__getitem__\u001b[0m\u001b[0;34m(\u001b[0m\u001b[0mself\u001b[0m\u001b[0;34m,\u001b[0m \u001b[0midx\u001b[0m\u001b[0;34m)\u001b[0m\u001b[0;34m:\u001b[0m\u001b[0;34m\u001b[0m\u001b[0;34m\u001b[0m\u001b[0m\n\u001b[0;32m--> 257\u001b[0;31m         \u001b[0;32mreturn\u001b[0m \u001b[0mself\u001b[0m\u001b[0;34m.\u001b[0m\u001b[0mdataset\u001b[0m\u001b[0;34m[\u001b[0m\u001b[0mself\u001b[0m\u001b[0;34m.\u001b[0m\u001b[0mindices\u001b[0m\u001b[0;34m[\u001b[0m\u001b[0midx\u001b[0m\u001b[0;34m]\u001b[0m\u001b[0;34m]\u001b[0m\u001b[0;34m\u001b[0m\u001b[0;34m\u001b[0m\u001b[0m\n\u001b[0m\u001b[1;32m    258\u001b[0m \u001b[0;34m\u001b[0m\u001b[0m\n\u001b[1;32m    259\u001b[0m     \u001b[0;32mdef\u001b[0m \u001b[0m__len__\u001b[0m\u001b[0;34m(\u001b[0m\u001b[0mself\u001b[0m\u001b[0;34m)\u001b[0m\u001b[0;34m:\u001b[0m\u001b[0;34m\u001b[0m\u001b[0;34m\u001b[0m\u001b[0m\n",
      "\u001b[0;32m/anaconda3/envs/pytorch_env/lib/python3.6/site-packages/torchxrayvision/datasets.py\u001b[0m in \u001b[0;36m__getitem__\u001b[0;34m(self, idx)\u001b[0m\n\u001b[1;32m    319\u001b[0m \u001b[0;34m\u001b[0m\u001b[0m\n\u001b[1;32m    320\u001b[0m         \u001b[0;32mif\u001b[0m \u001b[0mself\u001b[0m\u001b[0;34m.\u001b[0m\u001b[0mtransform\u001b[0m \u001b[0;32mis\u001b[0m \u001b[0;32mnot\u001b[0m \u001b[0;32mNone\u001b[0m\u001b[0;34m:\u001b[0m\u001b[0;34m\u001b[0m\u001b[0;34m\u001b[0m\u001b[0m\n\u001b[0;32m--> 321\u001b[0;31m             \u001b[0mimg\u001b[0m \u001b[0;34m=\u001b[0m \u001b[0mself\u001b[0m\u001b[0;34m.\u001b[0m\u001b[0mtransform\u001b[0m\u001b[0;34m(\u001b[0m\u001b[0mimg\u001b[0m\u001b[0;34m)\u001b[0m\u001b[0;34m\u001b[0m\u001b[0;34m\u001b[0m\u001b[0m\n\u001b[0m\u001b[1;32m    322\u001b[0m \u001b[0;34m\u001b[0m\u001b[0m\n\u001b[1;32m    323\u001b[0m         \u001b[0;32mif\u001b[0m \u001b[0mself\u001b[0m\u001b[0;34m.\u001b[0m\u001b[0mdata_aug\u001b[0m \u001b[0;32mis\u001b[0m \u001b[0;32mnot\u001b[0m \u001b[0;32mNone\u001b[0m\u001b[0;34m:\u001b[0m\u001b[0;34m\u001b[0m\u001b[0;34m\u001b[0m\u001b[0m\n",
      "\u001b[0;32m/anaconda3/envs/pytorch_env/lib/python3.6/site-packages/torchvision/transforms/transforms.py\u001b[0m in \u001b[0;36m__call__\u001b[0;34m(self, img)\u001b[0m\n\u001b[1;32m     68\u001b[0m     \u001b[0;32mdef\u001b[0m \u001b[0m__call__\u001b[0m\u001b[0;34m(\u001b[0m\u001b[0mself\u001b[0m\u001b[0;34m,\u001b[0m \u001b[0mimg\u001b[0m\u001b[0;34m)\u001b[0m\u001b[0;34m:\u001b[0m\u001b[0;34m\u001b[0m\u001b[0;34m\u001b[0m\u001b[0m\n\u001b[1;32m     69\u001b[0m         \u001b[0;32mfor\u001b[0m \u001b[0mt\u001b[0m \u001b[0;32min\u001b[0m \u001b[0mself\u001b[0m\u001b[0;34m.\u001b[0m\u001b[0mtransforms\u001b[0m\u001b[0;34m:\u001b[0m\u001b[0;34m\u001b[0m\u001b[0;34m\u001b[0m\u001b[0m\n\u001b[0;32m---> 70\u001b[0;31m             \u001b[0mimg\u001b[0m \u001b[0;34m=\u001b[0m \u001b[0mt\u001b[0m\u001b[0;34m(\u001b[0m\u001b[0mimg\u001b[0m\u001b[0;34m)\u001b[0m\u001b[0;34m\u001b[0m\u001b[0;34m\u001b[0m\u001b[0m\n\u001b[0m\u001b[1;32m     71\u001b[0m         \u001b[0;32mreturn\u001b[0m \u001b[0mimg\u001b[0m\u001b[0;34m\u001b[0m\u001b[0;34m\u001b[0m\u001b[0m\n\u001b[1;32m     72\u001b[0m \u001b[0;34m\u001b[0m\u001b[0m\n",
      "\u001b[0;32m/anaconda3/envs/pytorch_env/lib/python3.6/site-packages/torchxrayvision/datasets.py\u001b[0m in \u001b[0;36m__call__\u001b[0;34m(self, img)\u001b[0m\n\u001b[1;32m    974\u001b[0m         \u001b[0;32mwith\u001b[0m \u001b[0mwarnings\u001b[0m\u001b[0;34m.\u001b[0m\u001b[0mcatch_warnings\u001b[0m\u001b[0;34m(\u001b[0m\u001b[0;34m)\u001b[0m\u001b[0;34m:\u001b[0m\u001b[0;34m\u001b[0m\u001b[0;34m\u001b[0m\u001b[0m\n\u001b[1;32m    975\u001b[0m             \u001b[0mwarnings\u001b[0m\u001b[0;34m.\u001b[0m\u001b[0msimplefilter\u001b[0m\u001b[0;34m(\u001b[0m\u001b[0;34m\"ignore\"\u001b[0m\u001b[0;34m)\u001b[0m\u001b[0;34m\u001b[0m\u001b[0;34m\u001b[0m\u001b[0m\n\u001b[0;32m--> 976\u001b[0;31m             \u001b[0;32mreturn\u001b[0m \u001b[0mskimage\u001b[0m\u001b[0;34m.\u001b[0m\u001b[0mtransform\u001b[0m\u001b[0;34m.\u001b[0m\u001b[0mresize\u001b[0m\u001b[0;34m(\u001b[0m\u001b[0mimg\u001b[0m\u001b[0;34m,\u001b[0m \u001b[0;34m(\u001b[0m\u001b[0;36m1\u001b[0m\u001b[0;34m,\u001b[0m \u001b[0mself\u001b[0m\u001b[0;34m.\u001b[0m\u001b[0msize\u001b[0m\u001b[0;34m,\u001b[0m \u001b[0mself\u001b[0m\u001b[0;34m.\u001b[0m\u001b[0msize\u001b[0m\u001b[0;34m)\u001b[0m\u001b[0;34m,\u001b[0m \u001b[0mmode\u001b[0m\u001b[0;34m=\u001b[0m\u001b[0;34m'constant'\u001b[0m\u001b[0;34m)\u001b[0m\u001b[0;34m.\u001b[0m\u001b[0mastype\u001b[0m\u001b[0;34m(\u001b[0m\u001b[0mnp\u001b[0m\u001b[0;34m.\u001b[0m\u001b[0mfloat32\u001b[0m\u001b[0;34m)\u001b[0m\u001b[0;34m\u001b[0m\u001b[0;34m\u001b[0m\u001b[0m\n\u001b[0m\u001b[1;32m    977\u001b[0m \u001b[0;34m\u001b[0m\u001b[0m\n\u001b[1;32m    978\u001b[0m \u001b[0;32mclass\u001b[0m \u001b[0mXRayCenterCrop\u001b[0m\u001b[0;34m(\u001b[0m\u001b[0mobject\u001b[0m\u001b[0;34m)\u001b[0m\u001b[0;34m:\u001b[0m\u001b[0;34m\u001b[0m\u001b[0;34m\u001b[0m\u001b[0m\n",
      "\u001b[0;32m/anaconda3/envs/pytorch_env/lib/python3.6/site-packages/skimage/transform/_warps.py\u001b[0m in \u001b[0;36mresize\u001b[0;34m(image, output_shape, order, mode, cval, clip, preserve_range, anti_aliasing, anti_aliasing_sigma)\u001b[0m\n\u001b[1;32m    134\u001b[0m \u001b[0;34m\u001b[0m\u001b[0m\n\u001b[1;32m    135\u001b[0m         image = ndi.gaussian_filter(image, anti_aliasing_sigma,\n\u001b[0;32m--> 136\u001b[0;31m                                     cval=cval, mode=ndi_mode)\n\u001b[0m\u001b[1;32m    137\u001b[0m \u001b[0;34m\u001b[0m\u001b[0m\n\u001b[1;32m    138\u001b[0m     \u001b[0;31m# 2-dimensional interpolation\u001b[0m\u001b[0;34m\u001b[0m\u001b[0;34m\u001b[0m\u001b[0;34m\u001b[0m\u001b[0m\n",
      "\u001b[0;32m/anaconda3/envs/pytorch_env/lib/python3.6/site-packages/scipy/ndimage/filters.py\u001b[0m in \u001b[0;36mgaussian_filter\u001b[0;34m(input, sigma, order, output, mode, cval, truncate)\u001b[0m\n\u001b[1;32m    287\u001b[0m         \u001b[0;32mfor\u001b[0m \u001b[0maxis\u001b[0m\u001b[0;34m,\u001b[0m \u001b[0msigma\u001b[0m\u001b[0;34m,\u001b[0m \u001b[0morder\u001b[0m\u001b[0;34m,\u001b[0m \u001b[0mmode\u001b[0m \u001b[0;32min\u001b[0m \u001b[0maxes\u001b[0m\u001b[0;34m:\u001b[0m\u001b[0;34m\u001b[0m\u001b[0;34m\u001b[0m\u001b[0m\n\u001b[1;32m    288\u001b[0m             gaussian_filter1d(input, sigma, axis, order, output,\n\u001b[0;32m--> 289\u001b[0;31m                               mode, cval, truncate)\n\u001b[0m\u001b[1;32m    290\u001b[0m             \u001b[0minput\u001b[0m \u001b[0;34m=\u001b[0m \u001b[0moutput\u001b[0m\u001b[0;34m\u001b[0m\u001b[0;34m\u001b[0m\u001b[0m\n\u001b[1;32m    291\u001b[0m     \u001b[0;32melse\u001b[0m\u001b[0;34m:\u001b[0m\u001b[0;34m\u001b[0m\u001b[0;34m\u001b[0m\u001b[0m\n",
      "\u001b[0;32m/anaconda3/envs/pytorch_env/lib/python3.6/site-packages/scipy/ndimage/filters.py\u001b[0m in \u001b[0;36mgaussian_filter1d\u001b[0;34m(input, sigma, axis, order, output, mode, cval, truncate)\u001b[0m\n\u001b[1;32m    205\u001b[0m     \u001b[0;31m# Since we are calling correlate, not convolve, revert the kernel\u001b[0m\u001b[0;34m\u001b[0m\u001b[0;34m\u001b[0m\u001b[0;34m\u001b[0m\u001b[0m\n\u001b[1;32m    206\u001b[0m     \u001b[0mweights\u001b[0m \u001b[0;34m=\u001b[0m \u001b[0m_gaussian_kernel1d\u001b[0m\u001b[0;34m(\u001b[0m\u001b[0msigma\u001b[0m\u001b[0;34m,\u001b[0m \u001b[0morder\u001b[0m\u001b[0;34m,\u001b[0m \u001b[0mlw\u001b[0m\u001b[0;34m)\u001b[0m\u001b[0;34m[\u001b[0m\u001b[0;34m:\u001b[0m\u001b[0;34m:\u001b[0m\u001b[0;34m-\u001b[0m\u001b[0;36m1\u001b[0m\u001b[0;34m]\u001b[0m\u001b[0;34m\u001b[0m\u001b[0;34m\u001b[0m\u001b[0m\n\u001b[0;32m--> 207\u001b[0;31m     \u001b[0;32mreturn\u001b[0m \u001b[0mcorrelate1d\u001b[0m\u001b[0;34m(\u001b[0m\u001b[0minput\u001b[0m\u001b[0;34m,\u001b[0m \u001b[0mweights\u001b[0m\u001b[0;34m,\u001b[0m \u001b[0maxis\u001b[0m\u001b[0;34m,\u001b[0m \u001b[0moutput\u001b[0m\u001b[0;34m,\u001b[0m \u001b[0mmode\u001b[0m\u001b[0;34m,\u001b[0m \u001b[0mcval\u001b[0m\u001b[0;34m,\u001b[0m \u001b[0;36m0\u001b[0m\u001b[0;34m)\u001b[0m\u001b[0;34m\u001b[0m\u001b[0;34m\u001b[0m\u001b[0m\n\u001b[0m\u001b[1;32m    208\u001b[0m \u001b[0;34m\u001b[0m\u001b[0m\n\u001b[1;32m    209\u001b[0m \u001b[0;34m\u001b[0m\u001b[0m\n",
      "\u001b[0;32m/anaconda3/envs/pytorch_env/lib/python3.6/site-packages/scipy/ndimage/filters.py\u001b[0m in \u001b[0;36mcorrelate1d\u001b[0;34m(input, weights, axis, output, mode, cval, origin)\u001b[0m\n\u001b[1;32m     93\u001b[0m     \u001b[0mmode\u001b[0m \u001b[0;34m=\u001b[0m \u001b[0m_ni_support\u001b[0m\u001b[0;34m.\u001b[0m\u001b[0m_extend_mode_to_code\u001b[0m\u001b[0;34m(\u001b[0m\u001b[0mmode\u001b[0m\u001b[0;34m)\u001b[0m\u001b[0;34m\u001b[0m\u001b[0;34m\u001b[0m\u001b[0m\n\u001b[1;32m     94\u001b[0m     _nd_image.correlate1d(input, weights, axis, output, mode, cval,\n\u001b[0;32m---> 95\u001b[0;31m                           origin)\n\u001b[0m\u001b[1;32m     96\u001b[0m     \u001b[0;32mreturn\u001b[0m \u001b[0moutput\u001b[0m\u001b[0;34m\u001b[0m\u001b[0;34m\u001b[0m\u001b[0m\n\u001b[1;32m     97\u001b[0m \u001b[0;34m\u001b[0m\u001b[0m\n",
      "\u001b[0;31mKeyboardInterrupt\u001b[0m: "
     ]
    }
   ],
   "source": [
    "resdict = {}\n",
    "vae.fit([None, None, None], \n",
    "        [None, None, None], \n",
    "        dataset = d_kaggle, # can be susbet_dataset\n",
    "       epochs = 15,\n",
    "       log_interval = None,\n",
    "        output_dir = \"vae-output-check\",\n",
    "        torch_seed= int(0),\n",
    "        batch_size=64,\n",
    "       )\n",
    "resdict['vae'] = vae"
   ]
  },
  {
   "cell_type": "code",
   "execution_count": null,
   "metadata": {},
   "outputs": [],
   "source": []
  }
 ],
 "metadata": {
  "kernelspec": {
   "display_name": "Python [conda env:pytorch_env]",
   "language": "python",
   "name": "conda-env-pytorch_env-py"
  },
  "language_info": {
   "codemirror_mode": {
    "name": "ipython",
    "version": 3
   },
   "file_extension": ".py",
   "mimetype": "text/x-python",
   "name": "python",
   "nbconvert_exporter": "python",
   "pygments_lexer": "ipython3",
   "version": "3.6.7"
  }
 },
 "nbformat": 4,
 "nbformat_minor": 2
}
